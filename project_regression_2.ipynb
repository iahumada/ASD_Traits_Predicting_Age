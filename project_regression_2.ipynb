{
 "cells": [
  {
   "cell_type": "code",
   "execution_count": 1,
   "metadata": {},
   "outputs": [],
   "source": [
    "import pandas as pd\n",
    "pd.set_option('display.max_columns', 300)\n",
    "pd.set_option('display.max_rows', 100)\n",
    "\n",
    "import numpy as np\n",
    "from matplotlib import pyplot as plt\n",
    "from sklearn import linear_model\n",
    "from sklearn.linear_model import LinearRegression\n",
    "from sklearn.model_selection import train_test_split\n",
    "from sklearn import metrics\n",
    "from sklearn.preprocessing import PolynomialFeatures\n",
    "from sklearn.preprocessing import StandardScaler\n",
    "import seaborn as sns\n",
    "from statsmodels.formula.api import ols\n",
    "\n",
    "sns.set(style=\"whitegrid\")"
   ]
  },
  {
   "cell_type": "code",
   "execution_count": 2,
   "metadata": {},
   "outputs": [],
   "source": [
    "# IMPORT CSV FILE\n",
    "df_old = pd.read_csv('Toddler Autism dataset July 2018.csv')"
   ]
  },
  {
   "cell_type": "code",
   "execution_count": 3,
   "metadata": {
    "scrolled": true
   },
   "outputs": [
    {
     "data": {
      "text/html": [
       "<div>\n",
       "<style scoped>\n",
       "    .dataframe tbody tr th:only-of-type {\n",
       "        vertical-align: middle;\n",
       "    }\n",
       "\n",
       "    .dataframe tbody tr th {\n",
       "        vertical-align: top;\n",
       "    }\n",
       "\n",
       "    .dataframe thead th {\n",
       "        text-align: right;\n",
       "    }\n",
       "</style>\n",
       "<table border=\"1\" class=\"dataframe\">\n",
       "  <thead>\n",
       "    <tr style=\"text-align: right;\">\n",
       "      <th></th>\n",
       "      <th>Case_No</th>\n",
       "      <th>A1</th>\n",
       "      <th>A2</th>\n",
       "      <th>A3</th>\n",
       "      <th>A4</th>\n",
       "      <th>A5</th>\n",
       "      <th>A6</th>\n",
       "      <th>A7</th>\n",
       "      <th>A8</th>\n",
       "      <th>A9</th>\n",
       "      <th>A10</th>\n",
       "      <th>Age</th>\n",
       "      <th>qchat_score</th>\n",
       "      <th>Sex</th>\n",
       "      <th>Ethnicity</th>\n",
       "      <th>Jaundice</th>\n",
       "      <th>family_asd</th>\n",
       "      <th>Who completed the test</th>\n",
       "      <th>asd_traits</th>\n",
       "    </tr>\n",
       "  </thead>\n",
       "  <tbody>\n",
       "    <tr>\n",
       "      <td>0</td>\n",
       "      <td>1</td>\n",
       "      <td>0</td>\n",
       "      <td>0</td>\n",
       "      <td>0</td>\n",
       "      <td>0</td>\n",
       "      <td>0</td>\n",
       "      <td>0</td>\n",
       "      <td>1</td>\n",
       "      <td>1</td>\n",
       "      <td>0</td>\n",
       "      <td>1</td>\n",
       "      <td>28</td>\n",
       "      <td>3</td>\n",
       "      <td>f</td>\n",
       "      <td>middle eastern</td>\n",
       "      <td>yes</td>\n",
       "      <td>no</td>\n",
       "      <td>family member</td>\n",
       "      <td>No</td>\n",
       "    </tr>\n",
       "    <tr>\n",
       "      <td>1</td>\n",
       "      <td>2</td>\n",
       "      <td>1</td>\n",
       "      <td>1</td>\n",
       "      <td>0</td>\n",
       "      <td>0</td>\n",
       "      <td>0</td>\n",
       "      <td>1</td>\n",
       "      <td>1</td>\n",
       "      <td>0</td>\n",
       "      <td>0</td>\n",
       "      <td>0</td>\n",
       "      <td>36</td>\n",
       "      <td>4</td>\n",
       "      <td>m</td>\n",
       "      <td>White European</td>\n",
       "      <td>yes</td>\n",
       "      <td>no</td>\n",
       "      <td>family member</td>\n",
       "      <td>Yes</td>\n",
       "    </tr>\n",
       "    <tr>\n",
       "      <td>2</td>\n",
       "      <td>3</td>\n",
       "      <td>1</td>\n",
       "      <td>0</td>\n",
       "      <td>0</td>\n",
       "      <td>0</td>\n",
       "      <td>0</td>\n",
       "      <td>0</td>\n",
       "      <td>1</td>\n",
       "      <td>1</td>\n",
       "      <td>0</td>\n",
       "      <td>1</td>\n",
       "      <td>36</td>\n",
       "      <td>4</td>\n",
       "      <td>m</td>\n",
       "      <td>middle eastern</td>\n",
       "      <td>yes</td>\n",
       "      <td>no</td>\n",
       "      <td>family member</td>\n",
       "      <td>Yes</td>\n",
       "    </tr>\n",
       "    <tr>\n",
       "      <td>3</td>\n",
       "      <td>4</td>\n",
       "      <td>1</td>\n",
       "      <td>1</td>\n",
       "      <td>1</td>\n",
       "      <td>1</td>\n",
       "      <td>1</td>\n",
       "      <td>1</td>\n",
       "      <td>1</td>\n",
       "      <td>1</td>\n",
       "      <td>1</td>\n",
       "      <td>1</td>\n",
       "      <td>24</td>\n",
       "      <td>10</td>\n",
       "      <td>m</td>\n",
       "      <td>Hispanic</td>\n",
       "      <td>no</td>\n",
       "      <td>no</td>\n",
       "      <td>family member</td>\n",
       "      <td>Yes</td>\n",
       "    </tr>\n",
       "    <tr>\n",
       "      <td>4</td>\n",
       "      <td>5</td>\n",
       "      <td>1</td>\n",
       "      <td>1</td>\n",
       "      <td>0</td>\n",
       "      <td>1</td>\n",
       "      <td>1</td>\n",
       "      <td>1</td>\n",
       "      <td>1</td>\n",
       "      <td>1</td>\n",
       "      <td>1</td>\n",
       "      <td>1</td>\n",
       "      <td>20</td>\n",
       "      <td>9</td>\n",
       "      <td>f</td>\n",
       "      <td>White European</td>\n",
       "      <td>no</td>\n",
       "      <td>yes</td>\n",
       "      <td>family member</td>\n",
       "      <td>Yes</td>\n",
       "    </tr>\n",
       "  </tbody>\n",
       "</table>\n",
       "</div>"
      ],
      "text/plain": [
       "   Case_No  A1  A2  A3  A4  A5  A6  A7  A8  A9  A10  Age  qchat_score Sex  \\\n",
       "0        1   0   0   0   0   0   0   1   1   0    1   28            3   f   \n",
       "1        2   1   1   0   0   0   1   1   0   0    0   36            4   m   \n",
       "2        3   1   0   0   0   0   0   1   1   0    1   36            4   m   \n",
       "3        4   1   1   1   1   1   1   1   1   1    1   24           10   m   \n",
       "4        5   1   1   0   1   1   1   1   1   1    1   20            9   f   \n",
       "\n",
       "        Ethnicity Jaundice family_asd Who completed the test asd_traits  \n",
       "0  middle eastern      yes         no          family member         No  \n",
       "1  White European      yes         no          family member        Yes  \n",
       "2  middle eastern      yes         no          family member        Yes  \n",
       "3        Hispanic       no         no          family member        Yes  \n",
       "4  White European       no        yes          family member        Yes  "
      ]
     },
     "execution_count": 3,
     "metadata": {},
     "output_type": "execute_result"
    }
   ],
   "source": [
    "# RENAME COLUMNS TO MAKE IT EASIER\n",
    "df_new = df_old.rename(columns={'Age_Mons': 'Age', 'Qchat-10-Score':'qchat_score', 'Family_mem_with_ASD':'family_asd', 'Class/ASD Traits ':'asd_traits'})\n",
    "df_new.head()"
   ]
  },
  {
   "cell_type": "code",
   "execution_count": 4,
   "metadata": {},
   "outputs": [
    {
     "data": {
      "text/plain": [
       "(728, 19)"
      ]
     },
     "execution_count": 4,
     "metadata": {},
     "output_type": "execute_result"
    }
   ],
   "source": [
    "# SELECT ONLY \"YES\" VALUES FROM ASD_TRAITS FOR OUR TARGET VARIABLE\n",
    "df_new = df_new[df_new['asd_traits'] != 'No']\n",
    "df_new.shape"
   ]
  },
  {
   "cell_type": "code",
   "execution_count": 5,
   "metadata": {},
   "outputs": [
    {
     "data": {
      "text/plain": [
       "Index(['Case_No', 'A1', 'A2', 'A3', 'A4', 'A5', 'A6', 'A7', 'A8', 'A9', 'A10',\n",
       "       'Age', 'qchat_score', 'Who completed the test', 'asd_traits',\n",
       "       'Ethnicity_Latino', 'Ethnicity_Native Indian', 'Ethnicity_Others',\n",
       "       'Ethnicity_Pacifica', 'Ethnicity_White European', 'Ethnicity_asian',\n",
       "       'Ethnicity_black', 'Ethnicity_middle eastern', 'Ethnicity_mixed',\n",
       "       'Ethnicity_south asian', 'Jaundice_yes', 'Sex_m', 'family_asd_yes'],\n",
       "      dtype='object')"
      ]
     },
     "execution_count": 5,
     "metadata": {},
     "output_type": "execute_result"
    }
   ],
   "source": [
    "# CREATE DUMMY VARIABLES OF CATEGORICAL VARIABLES FOR REGRESSION\n",
    "df_new = pd.get_dummies(df_new, columns=['Ethnicity','Jaundice','Sex','family_asd'], drop_first=True)\n",
    "df_new.columns"
   ]
  },
  {
   "cell_type": "code",
   "execution_count": 6,
   "metadata": {},
   "outputs": [
    {
     "data": {
      "text/html": [
       "<div>\n",
       "<style scoped>\n",
       "    .dataframe tbody tr th:only-of-type {\n",
       "        vertical-align: middle;\n",
       "    }\n",
       "\n",
       "    .dataframe tbody tr th {\n",
       "        vertical-align: top;\n",
       "    }\n",
       "\n",
       "    .dataframe thead th {\n",
       "        text-align: right;\n",
       "    }\n",
       "</style>\n",
       "<table border=\"1\" class=\"dataframe\">\n",
       "  <thead>\n",
       "    <tr style=\"text-align: right;\">\n",
       "      <th></th>\n",
       "      <th>Case_No</th>\n",
       "      <th>A1</th>\n",
       "      <th>A2</th>\n",
       "      <th>A3</th>\n",
       "      <th>A4</th>\n",
       "      <th>A5</th>\n",
       "      <th>A6</th>\n",
       "      <th>A7</th>\n",
       "      <th>A8</th>\n",
       "      <th>A9</th>\n",
       "      <th>A10</th>\n",
       "      <th>Age</th>\n",
       "      <th>qchat_score</th>\n",
       "      <th>Who_completed_the_test</th>\n",
       "      <th>asd_traits</th>\n",
       "      <th>Ethnicity_Latino</th>\n",
       "      <th>Ethnicity_Native_Indian</th>\n",
       "      <th>Ethnicity_Others</th>\n",
       "      <th>Ethnicity_Pacifica</th>\n",
       "      <th>Ethnicity_White_European</th>\n",
       "      <th>Ethnicity_asian</th>\n",
       "      <th>Ethnicity_black</th>\n",
       "      <th>Ethnicity_middle_eastern</th>\n",
       "      <th>Ethnicity_mixed</th>\n",
       "      <th>Ethnicity_south_asian</th>\n",
       "      <th>Jaundice_yes</th>\n",
       "      <th>Sex_m</th>\n",
       "      <th>family_asd_yes</th>\n",
       "    </tr>\n",
       "  </thead>\n",
       "  <tbody>\n",
       "    <tr>\n",
       "      <td>1</td>\n",
       "      <td>2</td>\n",
       "      <td>1</td>\n",
       "      <td>1</td>\n",
       "      <td>0</td>\n",
       "      <td>0</td>\n",
       "      <td>0</td>\n",
       "      <td>1</td>\n",
       "      <td>1</td>\n",
       "      <td>0</td>\n",
       "      <td>0</td>\n",
       "      <td>0</td>\n",
       "      <td>36</td>\n",
       "      <td>4</td>\n",
       "      <td>family member</td>\n",
       "      <td>Yes</td>\n",
       "      <td>0</td>\n",
       "      <td>0</td>\n",
       "      <td>0</td>\n",
       "      <td>0</td>\n",
       "      <td>1</td>\n",
       "      <td>0</td>\n",
       "      <td>0</td>\n",
       "      <td>0</td>\n",
       "      <td>0</td>\n",
       "      <td>0</td>\n",
       "      <td>1</td>\n",
       "      <td>1</td>\n",
       "      <td>0</td>\n",
       "    </tr>\n",
       "    <tr>\n",
       "      <td>2</td>\n",
       "      <td>3</td>\n",
       "      <td>1</td>\n",
       "      <td>0</td>\n",
       "      <td>0</td>\n",
       "      <td>0</td>\n",
       "      <td>0</td>\n",
       "      <td>0</td>\n",
       "      <td>1</td>\n",
       "      <td>1</td>\n",
       "      <td>0</td>\n",
       "      <td>1</td>\n",
       "      <td>36</td>\n",
       "      <td>4</td>\n",
       "      <td>family member</td>\n",
       "      <td>Yes</td>\n",
       "      <td>0</td>\n",
       "      <td>0</td>\n",
       "      <td>0</td>\n",
       "      <td>0</td>\n",
       "      <td>0</td>\n",
       "      <td>0</td>\n",
       "      <td>0</td>\n",
       "      <td>1</td>\n",
       "      <td>0</td>\n",
       "      <td>0</td>\n",
       "      <td>1</td>\n",
       "      <td>1</td>\n",
       "      <td>0</td>\n",
       "    </tr>\n",
       "    <tr>\n",
       "      <td>3</td>\n",
       "      <td>4</td>\n",
       "      <td>1</td>\n",
       "      <td>1</td>\n",
       "      <td>1</td>\n",
       "      <td>1</td>\n",
       "      <td>1</td>\n",
       "      <td>1</td>\n",
       "      <td>1</td>\n",
       "      <td>1</td>\n",
       "      <td>1</td>\n",
       "      <td>1</td>\n",
       "      <td>24</td>\n",
       "      <td>10</td>\n",
       "      <td>family member</td>\n",
       "      <td>Yes</td>\n",
       "      <td>0</td>\n",
       "      <td>0</td>\n",
       "      <td>0</td>\n",
       "      <td>0</td>\n",
       "      <td>0</td>\n",
       "      <td>0</td>\n",
       "      <td>0</td>\n",
       "      <td>0</td>\n",
       "      <td>0</td>\n",
       "      <td>0</td>\n",
       "      <td>0</td>\n",
       "      <td>1</td>\n",
       "      <td>0</td>\n",
       "    </tr>\n",
       "    <tr>\n",
       "      <td>4</td>\n",
       "      <td>5</td>\n",
       "      <td>1</td>\n",
       "      <td>1</td>\n",
       "      <td>0</td>\n",
       "      <td>1</td>\n",
       "      <td>1</td>\n",
       "      <td>1</td>\n",
       "      <td>1</td>\n",
       "      <td>1</td>\n",
       "      <td>1</td>\n",
       "      <td>1</td>\n",
       "      <td>20</td>\n",
       "      <td>9</td>\n",
       "      <td>family member</td>\n",
       "      <td>Yes</td>\n",
       "      <td>0</td>\n",
       "      <td>0</td>\n",
       "      <td>0</td>\n",
       "      <td>0</td>\n",
       "      <td>1</td>\n",
       "      <td>0</td>\n",
       "      <td>0</td>\n",
       "      <td>0</td>\n",
       "      <td>0</td>\n",
       "      <td>0</td>\n",
       "      <td>0</td>\n",
       "      <td>0</td>\n",
       "      <td>1</td>\n",
       "    </tr>\n",
       "    <tr>\n",
       "      <td>5</td>\n",
       "      <td>6</td>\n",
       "      <td>1</td>\n",
       "      <td>1</td>\n",
       "      <td>0</td>\n",
       "      <td>0</td>\n",
       "      <td>1</td>\n",
       "      <td>1</td>\n",
       "      <td>1</td>\n",
       "      <td>1</td>\n",
       "      <td>1</td>\n",
       "      <td>1</td>\n",
       "      <td>21</td>\n",
       "      <td>8</td>\n",
       "      <td>family member</td>\n",
       "      <td>Yes</td>\n",
       "      <td>0</td>\n",
       "      <td>0</td>\n",
       "      <td>0</td>\n",
       "      <td>0</td>\n",
       "      <td>0</td>\n",
       "      <td>0</td>\n",
       "      <td>1</td>\n",
       "      <td>0</td>\n",
       "      <td>0</td>\n",
       "      <td>0</td>\n",
       "      <td>0</td>\n",
       "      <td>1</td>\n",
       "      <td>0</td>\n",
       "    </tr>\n",
       "  </tbody>\n",
       "</table>\n",
       "</div>"
      ],
      "text/plain": [
       "   Case_No  A1  A2  A3  A4  A5  A6  A7  A8  A9  A10  Age  qchat_score  \\\n",
       "1        2   1   1   0   0   0   1   1   0   0    0   36            4   \n",
       "2        3   1   0   0   0   0   0   1   1   0    1   36            4   \n",
       "3        4   1   1   1   1   1   1   1   1   1    1   24           10   \n",
       "4        5   1   1   0   1   1   1   1   1   1    1   20            9   \n",
       "5        6   1   1   0   0   1   1   1   1   1    1   21            8   \n",
       "\n",
       "  Who_completed_the_test asd_traits  Ethnicity_Latino  \\\n",
       "1          family member        Yes                 0   \n",
       "2          family member        Yes                 0   \n",
       "3          family member        Yes                 0   \n",
       "4          family member        Yes                 0   \n",
       "5          family member        Yes                 0   \n",
       "\n",
       "   Ethnicity_Native_Indian  Ethnicity_Others  Ethnicity_Pacifica  \\\n",
       "1                        0                 0                   0   \n",
       "2                        0                 0                   0   \n",
       "3                        0                 0                   0   \n",
       "4                        0                 0                   0   \n",
       "5                        0                 0                   0   \n",
       "\n",
       "   Ethnicity_White_European  Ethnicity_asian  Ethnicity_black  \\\n",
       "1                         1                0                0   \n",
       "2                         0                0                0   \n",
       "3                         0                0                0   \n",
       "4                         1                0                0   \n",
       "5                         0                0                1   \n",
       "\n",
       "   Ethnicity_middle_eastern  Ethnicity_mixed  Ethnicity_south_asian  \\\n",
       "1                         0                0                      0   \n",
       "2                         1                0                      0   \n",
       "3                         0                0                      0   \n",
       "4                         0                0                      0   \n",
       "5                         0                0                      0   \n",
       "\n",
       "   Jaundice_yes  Sex_m  family_asd_yes  \n",
       "1             1      1               0  \n",
       "2             1      1               0  \n",
       "3             0      1               0  \n",
       "4             0      0               1  \n",
       "5             0      1               0  "
      ]
     },
     "execution_count": 6,
     "metadata": {},
     "output_type": "execute_result"
    }
   ],
   "source": [
    "# CHANGE NAMES OF COLUMNS WITH SPACES TO MAKE IT EASIER\n",
    "df = df_new.rename(columns={'Ethnicity_Native Indian': 'Ethnicity_Native_Indian', 'Ethnicity_White European':'Ethnicity_White_European', 'Ethnicity_middle eastern':'Ethnicity_middle_eastern', 'Who completed the test':'Who_completed_the_test','Ethnicity_south asian':'Ethnicity_south_asian'})\n",
    "df.head()"
   ]
  },
  {
   "cell_type": "code",
   "execution_count": 7,
   "metadata": {},
   "outputs": [],
   "source": [
    "# SELECT COLUMNS FOR OUR FEATURES AND CREATE DATAFRAME, SELECT 'AGE' COLUMN AS TARGET TO MAKE IT EASIER TO CALL FOR REGRESSION\n",
    "features = ['qchat_score','Ethnicity_Latino', 'Ethnicity_Native_Indian', 'Ethnicity_Others',\n",
    "       'Ethnicity_Pacifica', 'Ethnicity_White_European', 'Ethnicity_asian',\n",
    "       'Ethnicity_black', 'Ethnicity_middle_eastern', 'Ethnicity_mixed',\n",
    "       'Ethnicity_south_asian', 'Jaundice_yes', 'Sex_m', 'family_asd_yes']\n",
    "df_features = df[features]\n",
    "target = df['Age']"
   ]
  },
  {
   "cell_type": "code",
   "execution_count": 8,
   "metadata": {},
   "outputs": [
    {
     "data": {
      "text/html": [
       "<table class=\"simpletable\">\n",
       "<caption>OLS Regression Results</caption>\n",
       "<tr>\n",
       "  <th>Dep. Variable:</th>           <td>Age</td>       <th>  R-squared:         </th> <td>   0.073</td>\n",
       "</tr>\n",
       "<tr>\n",
       "  <th>Model:</th>                   <td>OLS</td>       <th>  Adj. R-squared:    </th> <td>   0.055</td>\n",
       "</tr>\n",
       "<tr>\n",
       "  <th>Method:</th>             <td>Least Squares</td>  <th>  F-statistic:       </th> <td>   4.004</td>\n",
       "</tr>\n",
       "<tr>\n",
       "  <th>Date:</th>             <td>Thu, 18 Jun 2020</td> <th>  Prob (F-statistic):</th> <td>1.09e-06</td>\n",
       "</tr>\n",
       "<tr>\n",
       "  <th>Time:</th>                 <td>22:13:50</td>     <th>  Log-Likelihood:    </th> <td> -2471.0</td>\n",
       "</tr>\n",
       "<tr>\n",
       "  <th>No. Observations:</th>      <td>   728</td>      <th>  AIC:               </th> <td>   4972.</td>\n",
       "</tr>\n",
       "<tr>\n",
       "  <th>Df Residuals:</th>          <td>   713</td>      <th>  BIC:               </th> <td>   5041.</td>\n",
       "</tr>\n",
       "<tr>\n",
       "  <th>Df Model:</th>              <td>    14</td>      <th>                     </th>     <td> </td>   \n",
       "</tr>\n",
       "<tr>\n",
       "  <th>Covariance Type:</th>      <td>nonrobust</td>    <th>                     </th>     <td> </td>   \n",
       "</tr>\n",
       "</table>\n",
       "<table class=\"simpletable\">\n",
       "<tr>\n",
       "              <td></td>                <th>coef</th>     <th>std err</th>      <th>t</th>      <th>P>|t|</th>  <th>[0.025</th>    <th>0.975]</th>  \n",
       "</tr>\n",
       "<tr>\n",
       "  <th>Intercept</th>                <td>   29.4380</td> <td>    1.745</td> <td>   16.866</td> <td> 0.000</td> <td>   26.011</td> <td>   32.865</td>\n",
       "</tr>\n",
       "<tr>\n",
       "  <th>qchat_score</th>              <td>   -0.5625</td> <td>    0.144</td> <td>   -3.905</td> <td> 0.000</td> <td>   -0.845</td> <td>   -0.280</td>\n",
       "</tr>\n",
       "<tr>\n",
       "  <th>Ethnicity_Latino</th>         <td>    1.7613</td> <td>    2.121</td> <td>    0.830</td> <td> 0.407</td> <td>   -2.403</td> <td>    5.926</td>\n",
       "</tr>\n",
       "<tr>\n",
       "  <th>Ethnicity_Native_Indian</th>  <td>    9.3076</td> <td>    4.418</td> <td>    2.107</td> <td> 0.035</td> <td>    0.633</td> <td>   17.982</td>\n",
       "</tr>\n",
       "<tr>\n",
       "  <th>Ethnicity_Others</th>         <td>    4.6338</td> <td>    1.903</td> <td>    2.435</td> <td> 0.015</td> <td>    0.898</td> <td>    8.370</td>\n",
       "</tr>\n",
       "<tr>\n",
       "  <th>Ethnicity_Pacifica</th>       <td>   -1.6690</td> <td>    3.070</td> <td>   -0.544</td> <td> 0.587</td> <td>   -7.697</td> <td>    4.359</td>\n",
       "</tr>\n",
       "<tr>\n",
       "  <th>Ethnicity_White_European</th> <td>    1.5074</td> <td>    1.413</td> <td>    1.067</td> <td> 0.287</td> <td>   -1.267</td> <td>    4.282</td>\n",
       "</tr>\n",
       "<tr>\n",
       "  <th>Ethnicity_asian</th>          <td>    3.2391</td> <td>    1.438</td> <td>    2.253</td> <td> 0.025</td> <td>    0.416</td> <td>    6.062</td>\n",
       "</tr>\n",
       "<tr>\n",
       "  <th>Ethnicity_black</th>          <td>   -0.0470</td> <td>    1.772</td> <td>   -0.027</td> <td> 0.979</td> <td>   -3.526</td> <td>    3.432</td>\n",
       "</tr>\n",
       "<tr>\n",
       "  <th>Ethnicity_middle_eastern</th> <td>    0.6937</td> <td>    1.532</td> <td>    0.453</td> <td> 0.651</td> <td>   -2.313</td> <td>    3.701</td>\n",
       "</tr>\n",
       "<tr>\n",
       "  <th>Ethnicity_mixed</th>          <td>    3.5958</td> <td>    3.537</td> <td>    1.017</td> <td> 0.310</td> <td>   -3.348</td> <td>   10.539</td>\n",
       "</tr>\n",
       "<tr>\n",
       "  <th>Ethnicity_south_asian</th>    <td>    3.1865</td> <td>    1.799</td> <td>    1.771</td> <td> 0.077</td> <td>   -0.345</td> <td>    6.719</td>\n",
       "</tr>\n",
       "<tr>\n",
       "  <th>Jaundice_yes</th>             <td>   -1.3186</td> <td>    0.610</td> <td>   -2.160</td> <td> 0.031</td> <td>   -2.517</td> <td>   -0.120</td>\n",
       "</tr>\n",
       "<tr>\n",
       "  <th>Sex_m</th>                    <td>    1.2957</td> <td>    0.619</td> <td>    2.094</td> <td> 0.037</td> <td>    0.081</td> <td>    2.511</td>\n",
       "</tr>\n",
       "<tr>\n",
       "  <th>family_asd_yes</th>           <td>    0.3244</td> <td>    0.763</td> <td>    0.425</td> <td> 0.671</td> <td>   -1.173</td> <td>    1.822</td>\n",
       "</tr>\n",
       "</table>\n",
       "<table class=\"simpletable\">\n",
       "<tr>\n",
       "  <th>Omnibus:</th>       <td>63.478</td> <th>  Durbin-Watson:     </th> <td>   1.747</td>\n",
       "</tr>\n",
       "<tr>\n",
       "  <th>Prob(Omnibus):</th> <td> 0.000</td> <th>  Jarque-Bera (JB):  </th> <td>  50.014</td>\n",
       "</tr>\n",
       "<tr>\n",
       "  <th>Skew:</th>          <td>-0.549</td> <th>  Prob(JB):          </th> <td>1.38e-11</td>\n",
       "</tr>\n",
       "<tr>\n",
       "  <th>Kurtosis:</th>      <td> 2.335</td> <th>  Cond. No.          </th> <td>    136.</td>\n",
       "</tr>\n",
       "</table><br/><br/>Warnings:<br/>[1] Standard Errors assume that the covariance matrix of the errors is correctly specified."
      ],
      "text/plain": [
       "<class 'statsmodels.iolib.summary.Summary'>\n",
       "\"\"\"\n",
       "                            OLS Regression Results                            \n",
       "==============================================================================\n",
       "Dep. Variable:                    Age   R-squared:                       0.073\n",
       "Model:                            OLS   Adj. R-squared:                  0.055\n",
       "Method:                 Least Squares   F-statistic:                     4.004\n",
       "Date:                Thu, 18 Jun 2020   Prob (F-statistic):           1.09e-06\n",
       "Time:                        22:13:50   Log-Likelihood:                -2471.0\n",
       "No. Observations:                 728   AIC:                             4972.\n",
       "Df Residuals:                     713   BIC:                             5041.\n",
       "Df Model:                          14                                         \n",
       "Covariance Type:            nonrobust                                         \n",
       "============================================================================================\n",
       "                               coef    std err          t      P>|t|      [0.025      0.975]\n",
       "--------------------------------------------------------------------------------------------\n",
       "Intercept                   29.4380      1.745     16.866      0.000      26.011      32.865\n",
       "qchat_score                 -0.5625      0.144     -3.905      0.000      -0.845      -0.280\n",
       "Ethnicity_Latino             1.7613      2.121      0.830      0.407      -2.403       5.926\n",
       "Ethnicity_Native_Indian      9.3076      4.418      2.107      0.035       0.633      17.982\n",
       "Ethnicity_Others             4.6338      1.903      2.435      0.015       0.898       8.370\n",
       "Ethnicity_Pacifica          -1.6690      3.070     -0.544      0.587      -7.697       4.359\n",
       "Ethnicity_White_European     1.5074      1.413      1.067      0.287      -1.267       4.282\n",
       "Ethnicity_asian              3.2391      1.438      2.253      0.025       0.416       6.062\n",
       "Ethnicity_black             -0.0470      1.772     -0.027      0.979      -3.526       3.432\n",
       "Ethnicity_middle_eastern     0.6937      1.532      0.453      0.651      -2.313       3.701\n",
       "Ethnicity_mixed              3.5958      3.537      1.017      0.310      -3.348      10.539\n",
       "Ethnicity_south_asian        3.1865      1.799      1.771      0.077      -0.345       6.719\n",
       "Jaundice_yes                -1.3186      0.610     -2.160      0.031      -2.517      -0.120\n",
       "Sex_m                        1.2957      0.619      2.094      0.037       0.081       2.511\n",
       "family_asd_yes               0.3244      0.763      0.425      0.671      -1.173       1.822\n",
       "==============================================================================\n",
       "Omnibus:                       63.478   Durbin-Watson:                   1.747\n",
       "Prob(Omnibus):                  0.000   Jarque-Bera (JB):               50.014\n",
       "Skew:                          -0.549   Prob(JB):                     1.38e-11\n",
       "Kurtosis:                       2.335   Cond. No.                         136.\n",
       "==============================================================================\n",
       "\n",
       "Warnings:\n",
       "[1] Standard Errors assume that the covariance matrix of the errors is correctly specified.\n",
       "\"\"\""
      ]
     },
     "execution_count": 8,
     "metadata": {},
     "output_type": "execute_result"
    }
   ],
   "source": [
    "# OLS MODEL OF FEATURES ON TARGET VARIABLE\n",
    "mlr_model2=ols(formula='Age~qchat_score+Ethnicity_Latino+Ethnicity_Native_Indian+Ethnicity_Others+Ethnicity_Pacifica+Ethnicity_White_European+Ethnicity_asian+Ethnicity_black+Ethnicity_middle_eastern+Ethnicity_mixed+Ethnicity_south_asian+Jaundice_yes+Sex_m+family_asd_yes',data=df).fit()\n",
    "mlr_model2.summary()"
   ]
  },
  {
   "cell_type": "code",
   "execution_count": 9,
   "metadata": {},
   "outputs": [
    {
     "name": "stdout",
     "output_type": "stream",
     "text": [
      "Training set - Features:  (582, 14) Target:  (582,)\n",
      "Training set - Features:  (146, 14) Target:  (146,)\n"
     ]
    }
   ],
   "source": [
    "# SPLIT INTO TRAIN AND TEST\n",
    "X_train, X_test, y_train, y_test = train_test_split(df_features, target, random_state=22,test_size=0.2)\n",
    "print(\"Training set - Features: \", X_train.shape, \"Target: \", y_train.shape)\n",
    "print(\"Training set - Features: \", X_test.shape, \"Target: \",y_test.shape)"
   ]
  },
  {
   "cell_type": "code",
   "execution_count": 10,
   "metadata": {},
   "outputs": [],
   "source": [
    "# SCALE DATA\n",
    "scaler = StandardScaler()\n",
    "\n",
    "# FITTING SCALER TO TRAINING DATA\n",
    "scaler.fit(X_train)\n",
    "\n",
    "#TRANSFORMING THE TRAINING DATA\n",
    "X_train = pd.DataFrame(data=scaler.transform(X_train), columns=df_features.columns)\n",
    "\n",
    "#TRANSFORMING THE TESTING DATA\n",
    "X_test = pd.DataFrame(data=scaler.transform(X_test), columns=df_features.columns)"
   ]
  },
  {
   "cell_type": "code",
   "execution_count": 11,
   "metadata": {},
   "outputs": [
    {
     "name": "stdout",
     "output_type": "stream",
     "text": [
      "Mean Absolute Error  Z: 0.9617511970714124\n",
      "Training Root Mean Squared Error: 7.205435341549565\n"
     ]
    }
   ],
   "source": [
    "price_std = target.std()\n",
    "#INSTANTIATING LINEAR REGRESSION OBJECT\n",
    "lm = LinearRegression()\n",
    "# FITTING OBJECT TO THE DATA\n",
    "lm = lm.fit(X_train, y_train)\n",
    "y_train_pred = lm.predict(X_train)\n",
    "\n",
    "train_rmse = np.sqrt(metrics.mean_squared_error(y_train, y_train_pred))\n",
    "\n",
    "\n",
    "print('Mean Absolute Error  Z:', train_rmse/price_std )\n",
    "print('Training Root Mean Squared Error:' , train_rmse)"
   ]
  },
  {
   "cell_type": "markdown",
   "metadata": {},
   "source": [
    "### Evaluate on the test set"
   ]
  },
  {
   "cell_type": "code",
   "execution_count": 12,
   "metadata": {},
   "outputs": [
    {
     "name": "stdout",
     "output_type": "stream",
     "text": [
      "Testing Root Mean Squared Error: 7.2655733261667645\n",
      "Training:  7 vs. Testing:  7\n"
     ]
    }
   ],
   "source": [
    "#FITTING MODEL TO PREDICT ON TEST AND MAKE PREDICTION ON THE TESTING SET\n",
    "y_pred = lm.predict(X_test)\n",
    "\n",
    "test_rmse = np.sqrt(metrics.mean_squared_error(y_test, y_pred))\n",
    "\n",
    "print('Testing Root Mean Squared Error:' , test_rmse)\n",
    "print('Training: ', int(train_rmse), \"vs. Testing: \", int(test_rmse))"
   ]
  },
  {
   "cell_type": "code",
   "execution_count": 13,
   "metadata": {},
   "outputs": [
    {
     "data": {
      "text/plain": [
       "<matplotlib.axes._subplots.AxesSubplot at 0x106c91128>"
      ]
     },
     "execution_count": 13,
     "metadata": {},
     "output_type": "execute_result"
    },
    {
     "data": {
      "image/png": "[encoded data removed]",
      "text/plain": [
       "<Figure size 432x288 with 1 Axes>"
      ]
     },
     "metadata": {
      "needs_background": "light"
     },
     "output_type": "display_data"
    }
   ],
   "source": [
    "# PLOT RESIDUALS\n",
    "sns.residplot( y_train, y_train_pred,lowess=True, color=\"g\")"
   ]
  },
  {
   "cell_type": "markdown",
   "metadata": {},
   "source": [
    "# Wrapper Methods\n",
    "\n",
    "Wrapper methods consider the selection of a set of features as a search problem, where different combinations are prepared, evaluated and compared to other combinations. A predictive model is used to evaluate a combination of features and assign a score based on model accuracy.\n",
    "\n",
    "The search process may be methodical such as a best-first search, it may stochastic such as a random hill-climbing algorithm, or it may use heuristics, like forward and backward passes to add and remove features.\n",
    "\n",
    "Wrapper Methods promises you a best set of features with a extensive greedy search.\n",
    "\n",
    "But the main drawbacks of wrapper methods is the sheer amount of models that needs to be trained. It is computationally very expensive and is infeasible with large number of features.\n",
    "\n",
    "\n"
   ]
  },
  {
   "cell_type": "code",
   "execution_count": 26,
   "metadata": {},
   "outputs": [],
   "source": [
    "from sklearn.feature_selection import RFECV"
   ]
  },
  {
   "cell_type": "code",
   "execution_count": 27,
   "metadata": {},
   "outputs": [],
   "source": [
    "ols = linear_model.LinearRegression()"
   ]
  },
  {
   "cell_type": "code",
   "execution_count": 28,
   "metadata": {},
   "outputs": [
    {
     "data": {
      "text/plain": [
       "RFECV(cv=5,\n",
       "      estimator=LinearRegression(copy_X=True, fit_intercept=True, n_jobs=None,\n",
       "                                 normalize=False),\n",
       "      min_features_to_select=1, n_jobs=None, scoring='neg_mean_squared_error',\n",
       "      step=1, verbose=0)"
      ]
     },
     "execution_count": 28,
     "metadata": {},
     "output_type": "execute_result"
    }
   ],
   "source": [
    "# Create recursive feature eliminator that scores features by mean squared errors\n",
    "selector = RFECV(estimator=ols, step=1, cv=5, scoring='neg_mean_squared_error')\n",
    "\n",
    "# Fit recursive feature eliminator \n",
    "selector.fit(X_train, y_train)\n",
    "\n"
   ]
  },
  {
   "cell_type": "code",
   "execution_count": 29,
   "metadata": {},
   "outputs": [],
   "source": [
    "selected_rfe = X_train.columns[selector.support_]\n",
    "removed_rfe = X_train.columns[~selector.support_]"
   ]
  },
  {
   "cell_type": "code",
   "execution_count": 30,
   "metadata": {},
   "outputs": [
    {
     "data": {
      "text/plain": [
       "['Ethnicity_Latino',\n",
       " 'Ethnicity_Native_Indian',\n",
       " 'Ethnicity_Others',\n",
       " 'Ethnicity_Pacifica',\n",
       " 'Ethnicity_White_European',\n",
       " 'Ethnicity_black',\n",
       " 'Ethnicity_middle_eastern',\n",
       " 'Ethnicity_mixed',\n",
       " 'Ethnicity_south_asian',\n",
       " 'Jaundice_yes',\n",
       " 'Sex_m',\n",
       " 'family_asd_yes']"
      ]
     },
     "execution_count": 30,
     "metadata": {},
     "output_type": "execute_result"
    }
   ],
   "source": [
    "list(removed_rfe)"
   ]
  },
  {
   "cell_type": "code",
   "execution_count": 31,
   "metadata": {},
   "outputs": [
    {
     "data": {
      "text/plain": [
       "2"
      ]
     },
     "execution_count": 31,
     "metadata": {},
     "output_type": "execute_result"
    }
   ],
   "source": [
    "len(list(selected_rfe))"
   ]
  },
  {
   "cell_type": "code",
   "execution_count": 32,
   "metadata": {},
   "outputs": [
    {
     "name": "stdout",
     "output_type": "stream",
     "text": [
      "Training Root Mean Squared Error: 7.315157119204333\n",
      "Testing Root Mean Squared Error: 7.4003516321928435\n",
      "Original:  7.2655733261667645 vs. KBest:  7.276505085338307 vs. RFE:  7.4003516321928435\n"
     ]
    }
   ],
   "source": [
    "#instantiate a linear regression object\n",
    "lm_rfe = LinearRegression()\n",
    "\n",
    "#fit the linear regression to the data\n",
    "lm_rfe = lm_rfe.fit(X_train[selected_rfe], y_train)\n",
    "\n",
    "y_rfe = lm_rfe.predict(X_train[selected_rfe])\n",
    "\n",
    "\n",
    "trainRFE_rmse = np.sqrt(metrics.mean_squared_error(y_train, y_rfe))\n",
    "\n",
    "\n",
    "print('Training Root Mean Squared Error:' , trainRFE_rmse)\n",
    "\n",
    "y_pred_rfe = lm_rfe.predict(X_test[selected_rfe])\n",
    "\n",
    "testRFE_rmse = np.sqrt(metrics.mean_squared_error(y_test, y_pred_rfe))\n",
    "\n",
    "print('Testing Root Mean Squared Error:' , testRFE_rmse)\n",
    "\n",
    "\n",
    "print('Original: ', test_rmse, \"vs. KBest: \", testK_rmse, \"vs. RFE: \", testRFE_rmse)"
   ]
  },
  {
   "cell_type": "markdown",
   "metadata": {},
   "source": [
    "# Embedded Methods\n",
    "\n",
    "Embedded methods learn which features best contribute to the accuracy of the model while the model is being created. The most common type of embedded feature selection methods are regularization methods.\n",
    "\n",
    "Regularization methods are also called penalization methods that introduce additional constraints into the optimization of a predictive algorithm (such as a regression algorithm) that bias the model toward lower complexity (fewer coefficients).\n",
    "\n",
    "Examples of regularization algorithms are the LASSO, Elastic Net and Ridge Regression."
   ]
  },
  {
   "cell_type": "code",
   "execution_count": 33,
   "metadata": {},
   "outputs": [
    {
     "data": {
      "text/html": [
       "<div>\n",
       "<style scoped>\n",
       "    .dataframe tbody tr th:only-of-type {\n",
       "        vertical-align: middle;\n",
       "    }\n",
       "\n",
       "    .dataframe tbody tr th {\n",
       "        vertical-align: top;\n",
       "    }\n",
       "\n",
       "    .dataframe thead th {\n",
       "        text-align: right;\n",
       "    }\n",
       "</style>\n",
       "<table border=\"1\" class=\"dataframe\">\n",
       "  <thead>\n",
       "    <tr style=\"text-align: right;\">\n",
       "      <th></th>\n",
       "      <th>qchat_score</th>\n",
       "      <th>Ethnicity_Latino</th>\n",
       "      <th>Ethnicity_Native_Indian</th>\n",
       "      <th>Ethnicity_Others</th>\n",
       "      <th>Ethnicity_Pacifica</th>\n",
       "      <th>Ethnicity_White_European</th>\n",
       "      <th>Ethnicity_asian</th>\n",
       "      <th>Ethnicity_black</th>\n",
       "      <th>Ethnicity_middle_eastern</th>\n",
       "      <th>Ethnicity_mixed</th>\n",
       "      <th>Ethnicity_south_asian</th>\n",
       "      <th>Jaundice_yes</th>\n",
       "      <th>Sex_m</th>\n",
       "      <th>family_asd_yes</th>\n",
       "    </tr>\n",
       "  </thead>\n",
       "  <tbody>\n",
       "    <tr>\n",
       "      <td>0</td>\n",
       "      <td>0.116173</td>\n",
       "      <td>-0.173460</td>\n",
       "      <td>-0.058722</td>\n",
       "      <td>-0.202842</td>\n",
       "      <td>-0.102062</td>\n",
       "      <td>-0.715324</td>\n",
       "      <td>1.550325</td>\n",
       "      <td>-0.233126</td>\n",
       "      <td>-0.381666</td>\n",
       "      <td>-0.083189</td>\n",
       "      <td>-0.233126</td>\n",
       "      <td>-0.650371</td>\n",
       "      <td>0.618403</td>\n",
       "      <td>-0.410700</td>\n",
       "    </tr>\n",
       "    <tr>\n",
       "      <td>1</td>\n",
       "      <td>-0.940279</td>\n",
       "      <td>-0.173460</td>\n",
       "      <td>-0.058722</td>\n",
       "      <td>-0.202842</td>\n",
       "      <td>-0.102062</td>\n",
       "      <td>-0.715324</td>\n",
       "      <td>-0.645026</td>\n",
       "      <td>-0.233126</td>\n",
       "      <td>2.620089</td>\n",
       "      <td>-0.083189</td>\n",
       "      <td>-0.233126</td>\n",
       "      <td>-0.650371</td>\n",
       "      <td>0.618403</td>\n",
       "      <td>-0.410700</td>\n",
       "    </tr>\n",
       "    <tr>\n",
       "      <td>2</td>\n",
       "      <td>0.644400</td>\n",
       "      <td>-0.173460</td>\n",
       "      <td>-0.058722</td>\n",
       "      <td>-0.202842</td>\n",
       "      <td>-0.102062</td>\n",
       "      <td>-0.715324</td>\n",
       "      <td>-0.645026</td>\n",
       "      <td>-0.233126</td>\n",
       "      <td>2.620089</td>\n",
       "      <td>-0.083189</td>\n",
       "      <td>-0.233126</td>\n",
       "      <td>-0.650371</td>\n",
       "      <td>0.618403</td>\n",
       "      <td>2.434866</td>\n",
       "    </tr>\n",
       "    <tr>\n",
       "      <td>3</td>\n",
       "      <td>-0.940279</td>\n",
       "      <td>5.765006</td>\n",
       "      <td>-0.058722</td>\n",
       "      <td>-0.202842</td>\n",
       "      <td>-0.102062</td>\n",
       "      <td>-0.715324</td>\n",
       "      <td>-0.645026</td>\n",
       "      <td>-0.233126</td>\n",
       "      <td>-0.381666</td>\n",
       "      <td>-0.083189</td>\n",
       "      <td>-0.233126</td>\n",
       "      <td>-0.650371</td>\n",
       "      <td>-1.617067</td>\n",
       "      <td>-0.410700</td>\n",
       "    </tr>\n",
       "    <tr>\n",
       "      <td>4</td>\n",
       "      <td>-1.468506</td>\n",
       "      <td>-0.173460</td>\n",
       "      <td>-0.058722</td>\n",
       "      <td>-0.202842</td>\n",
       "      <td>-0.102062</td>\n",
       "      <td>-0.715324</td>\n",
       "      <td>1.550325</td>\n",
       "      <td>-0.233126</td>\n",
       "      <td>-0.381666</td>\n",
       "      <td>-0.083189</td>\n",
       "      <td>-0.233126</td>\n",
       "      <td>-0.650371</td>\n",
       "      <td>0.618403</td>\n",
       "      <td>-0.410700</td>\n",
       "    </tr>\n",
       "  </tbody>\n",
       "</table>\n",
       "</div>"
      ],
      "text/plain": [
       "   qchat_score  Ethnicity_Latino  Ethnicity_Native_Indian  Ethnicity_Others  \\\n",
       "0     0.116173         -0.173460                -0.058722         -0.202842   \n",
       "1    -0.940279         -0.173460                -0.058722         -0.202842   \n",
       "2     0.644400         -0.173460                -0.058722         -0.202842   \n",
       "3    -0.940279          5.765006                -0.058722         -0.202842   \n",
       "4    -1.468506         -0.173460                -0.058722         -0.202842   \n",
       "\n",
       "   Ethnicity_Pacifica  Ethnicity_White_European  Ethnicity_asian  \\\n",
       "0           -0.102062                 -0.715324         1.550325   \n",
       "1           -0.102062                 -0.715324        -0.645026   \n",
       "2           -0.102062                 -0.715324        -0.645026   \n",
       "3           -0.102062                 -0.715324        -0.645026   \n",
       "4           -0.102062                 -0.715324         1.550325   \n",
       "\n",
       "   Ethnicity_black  Ethnicity_middle_eastern  Ethnicity_mixed  \\\n",
       "0        -0.233126                 -0.381666        -0.083189   \n",
       "1        -0.233126                  2.620089        -0.083189   \n",
       "2        -0.233126                  2.620089        -0.083189   \n",
       "3        -0.233126                 -0.381666        -0.083189   \n",
       "4        -0.233126                 -0.381666        -0.083189   \n",
       "\n",
       "   Ethnicity_south_asian  Jaundice_yes     Sex_m  family_asd_yes  \n",
       "0              -0.233126     -0.650371  0.618403       -0.410700  \n",
       "1              -0.233126     -0.650371  0.618403       -0.410700  \n",
       "2              -0.233126     -0.650371  0.618403        2.434866  \n",
       "3              -0.233126     -0.650371 -1.617067       -0.410700  \n",
       "4              -0.233126     -0.650371  0.618403       -0.410700  "
      ]
     },
     "execution_count": 33,
     "metadata": {},
     "output_type": "execute_result"
    }
   ],
   "source": [
    "X_train.head()"
   ]
  },
  {
   "cell_type": "code",
   "execution_count": 34,
   "metadata": {},
   "outputs": [
    {
     "data": {
      "text/plain": [
       "<matplotlib.axes._subplots.AxesSubplot at 0x1a1cccf240>"
      ]
     },
     "execution_count": 34,
     "metadata": {},
     "output_type": "execute_result"
    },
    {
     "data": {
      "image/png": "[encoded data removed]",
      "text/plain": [
       "<Figure size 1152x576 with 1 Axes>"
      ]
     },
     "metadata": {
      "needs_background": "light"
     },
     "output_type": "display_data"
    }
   ],
   "source": [
    "coef = pd.DataFrame(data=lm_rfe.coef_ ).T\n",
    "coef.columns = selected_rfe\n",
    "\n",
    "model_coef = coef.T.sort_values(by=0).T\n",
    "model_coef.plot(kind='bar', title='Modal Coefficients', legend=False, figsize=(16,8),)"
   ]
  },
  {
   "cell_type": "code",
   "execution_count": 35,
   "metadata": {},
   "outputs": [
    {
     "data": {
      "text/html": [
       "<div>\n",
       "<style scoped>\n",
       "    .dataframe tbody tr th:only-of-type {\n",
       "        vertical-align: middle;\n",
       "    }\n",
       "\n",
       "    .dataframe tbody tr th {\n",
       "        vertical-align: top;\n",
       "    }\n",
       "\n",
       "    .dataframe thead th {\n",
       "        text-align: right;\n",
       "    }\n",
       "</style>\n",
       "<table border=\"1\" class=\"dataframe\">\n",
       "  <thead>\n",
       "    <tr style=\"text-align: right;\">\n",
       "      <th></th>\n",
       "      <th>0</th>\n",
       "    </tr>\n",
       "  </thead>\n",
       "  <tbody>\n",
       "    <tr>\n",
       "      <td>qchat_score</td>\n",
       "      <td>-1.025951</td>\n",
       "    </tr>\n",
       "    <tr>\n",
       "      <td>Ethnicity_asian</td>\n",
       "      <td>0.997238</td>\n",
       "    </tr>\n",
       "  </tbody>\n",
       "</table>\n",
       "</div>"
      ],
      "text/plain": [
       "                        0\n",
       "qchat_score     -1.025951\n",
       "Ethnicity_asian  0.997238"
      ]
     },
     "execution_count": 35,
     "metadata": {},
     "output_type": "execute_result"
    }
   ],
   "source": [
    "coef.T"
   ]
  },
  {
   "cell_type": "code",
   "execution_count": 36,
   "metadata": {},
   "outputs": [
    {
     "name": "stdout",
     "output_type": "stream",
     "text": [
      "Training Error: 6.100591611216029\n",
      "Testing Error: 7.267835174113706\n"
     ]
    }
   ],
   "source": [
    "## training the model\n",
    "from sklearn.linear_model import Lasso\n",
    "\n",
    "lasso = Lasso(alpha=0.01, normalize=False)\n",
    "\n",
    "lasso.fit(X_train,y_train)\n",
    "\n",
    "y_train_pred = lasso.predict(X_train)\n",
    "y_pred = lasso.predict(X_test)\n",
    "\n",
    "train_rmse = metrics.mean_absolute_error(y_train, y_train_pred)\n",
    "test_rmse = np.sqrt(metrics.mean_squared_error(y_test, y_pred))\n",
    "print('Training Error: '+ str(train_rmse) )\n",
    "print('Testing Error: '+ str(test_rmse) )"
   ]
  },
  {
   "cell_type": "code",
   "execution_count": 37,
   "metadata": {},
   "outputs": [
    {
     "data": {
      "text/plain": [
       "<matplotlib.axes._subplots.AxesSubplot at 0x1a1cd246d8>"
      ]
     },
     "execution_count": 37,
     "metadata": {},
     "output_type": "execute_result"
    },
    {
     "data": {
      "image/png": "[encoded data removed]",
      "text/plain": [
       "<Figure size 1152x576 with 1 Axes>"
      ]
     },
     "metadata": {
      "needs_background": "light"
     },
     "output_type": "display_data"
    }
   ],
   "source": [
    "lasso_coef01 = pd.DataFrame(data=lasso.coef_).T\n",
    "lasso_coef01.columns = X_train.columns\n",
    "lasso_coef01 = lasso_coef01.T.sort_values(by=0).T\n",
    "lasso_coef01.plot(kind='bar', title='Modal Coefficients', legend=False, figsize=(16,8))"
   ]
  },
  {
   "cell_type": "code",
   "execution_count": 38,
   "metadata": {},
   "outputs": [
    {
     "data": {
      "text/html": [
       "<div>\n",
       "<style scoped>\n",
       "    .dataframe tbody tr th:only-of-type {\n",
       "        vertical-align: middle;\n",
       "    }\n",
       "\n",
       "    .dataframe tbody tr th {\n",
       "        vertical-align: top;\n",
       "    }\n",
       "\n",
       "    .dataframe thead th {\n",
       "        text-align: right;\n",
       "    }\n",
       "</style>\n",
       "<table border=\"1\" class=\"dataframe\">\n",
       "  <thead>\n",
       "    <tr style=\"text-align: right;\">\n",
       "      <th></th>\n",
       "      <th>0</th>\n",
       "    </tr>\n",
       "  </thead>\n",
       "  <tbody>\n",
       "    <tr>\n",
       "      <td>qchat_score</td>\n",
       "      <td>-1.040125</td>\n",
       "    </tr>\n",
       "    <tr>\n",
       "      <td>Jaundice_yes</td>\n",
       "      <td>-0.544212</td>\n",
       "    </tr>\n",
       "    <tr>\n",
       "      <td>Ethnicity_Pacifica</td>\n",
       "      <td>-0.298843</td>\n",
       "    </tr>\n",
       "    <tr>\n",
       "      <td>Ethnicity_black</td>\n",
       "      <td>-0.286424</td>\n",
       "    </tr>\n",
       "    <tr>\n",
       "      <td>Ethnicity_middle_eastern</td>\n",
       "      <td>0.012131</td>\n",
       "    </tr>\n",
       "    <tr>\n",
       "      <td>family_asd_yes</td>\n",
       "      <td>0.077866</td>\n",
       "    </tr>\n",
       "    <tr>\n",
       "      <td>Ethnicity_Latino</td>\n",
       "      <td>0.296554</td>\n",
       "    </tr>\n",
       "    <tr>\n",
       "      <td>Ethnicity_mixed</td>\n",
       "      <td>0.343378</td>\n",
       "    </tr>\n",
       "    <tr>\n",
       "      <td>Ethnicity_south_asian</td>\n",
       "      <td>0.402662</td>\n",
       "    </tr>\n",
       "    <tr>\n",
       "      <td>Ethnicity_White_European</td>\n",
       "      <td>0.452356</td>\n",
       "    </tr>\n",
       "    <tr>\n",
       "      <td>Ethnicity_Native_Indian</td>\n",
       "      <td>0.468673</td>\n",
       "    </tr>\n",
       "    <tr>\n",
       "      <td>Sex_m</td>\n",
       "      <td>0.490586</td>\n",
       "    </tr>\n",
       "    <tr>\n",
       "      <td>Ethnicity_Others</td>\n",
       "      <td>0.630078</td>\n",
       "    </tr>\n",
       "    <tr>\n",
       "      <td>Ethnicity_asian</td>\n",
       "      <td>1.253154</td>\n",
       "    </tr>\n",
       "  </tbody>\n",
       "</table>\n",
       "</div>"
      ],
      "text/plain": [
       "                                 0\n",
       "qchat_score              -1.040125\n",
       "Jaundice_yes             -0.544212\n",
       "Ethnicity_Pacifica       -0.298843\n",
       "Ethnicity_black          -0.286424\n",
       "Ethnicity_middle_eastern  0.012131\n",
       "family_asd_yes            0.077866\n",
       "Ethnicity_Latino          0.296554\n",
       "Ethnicity_mixed           0.343378\n",
       "Ethnicity_south_asian     0.402662\n",
       "Ethnicity_White_European  0.452356\n",
       "Ethnicity_Native_Indian   0.468673\n",
       "Sex_m                     0.490586\n",
       "Ethnicity_Others          0.630078\n",
       "Ethnicity_asian           1.253154"
      ]
     },
     "execution_count": 38,
     "metadata": {},
     "output_type": "execute_result"
    }
   ],
   "source": [
    "lasso_coef01.T"
   ]
  },
  {
   "cell_type": "code",
   "execution_count": 39,
   "metadata": {},
   "outputs": [
    {
     "name": "stdout",
     "output_type": "stream",
     "text": [
      "Training Error: 6.120341966057782\n",
      "Testing Error: 7.281923014795166\n"
     ]
    }
   ],
   "source": [
    "## training the model\n",
    "from sklearn.linear_model import Lasso\n",
    "\n",
    "lasso1 = Lasso(alpha=.1, normalize=False)\n",
    "\n",
    "lasso1.fit(X_train,y_train)\n",
    "\n",
    "y_train_lasso1 = lasso1.predict(X_train)\n",
    "y_pred_lasso1 = lasso1.predict(X_test)\n",
    "\n",
    "train_rmse_lasso1 = metrics.mean_absolute_error(y_train, y_train_lasso1)\n",
    "test_rmse_lasso1 = np.sqrt(metrics.mean_squared_error(y_test, y_pred_lasso1))\n",
    "print('Training Error: '+ str(train_rmse_lasso1) )\n",
    "print('Testing Error: '+ str(test_rmse_lasso1) )\n",
    "\n"
   ]
  },
  {
   "cell_type": "code",
   "execution_count": 40,
   "metadata": {},
   "outputs": [],
   "source": [
    "lasso_coef1 = pd.DataFrame(data=lasso1.coef_).T\n",
    "lasso_coef1.columns = X_train.columns"
   ]
  },
  {
   "cell_type": "code",
   "execution_count": 41,
   "metadata": {},
   "outputs": [
    {
     "data": {
      "text/html": [
       "<div>\n",
       "<style scoped>\n",
       "    .dataframe tbody tr th:only-of-type {\n",
       "        vertical-align: middle;\n",
       "    }\n",
       "\n",
       "    .dataframe tbody tr th {\n",
       "        vertical-align: top;\n",
       "    }\n",
       "\n",
       "    .dataframe thead th {\n",
       "        text-align: right;\n",
       "    }\n",
       "</style>\n",
       "<table border=\"1\" class=\"dataframe\">\n",
       "  <thead>\n",
       "    <tr style=\"text-align: right;\">\n",
       "      <th></th>\n",
       "      <th>0</th>\n",
       "    </tr>\n",
       "  </thead>\n",
       "  <tbody>\n",
       "    <tr>\n",
       "      <td>qchat_score</td>\n",
       "      <td>-0.950953</td>\n",
       "    </tr>\n",
       "    <tr>\n",
       "      <td>Ethnicity_Latino</td>\n",
       "      <td>0.041662</td>\n",
       "    </tr>\n",
       "    <tr>\n",
       "      <td>Ethnicity_Native_Indian</td>\n",
       "      <td>0.323238</td>\n",
       "    </tr>\n",
       "    <tr>\n",
       "      <td>Ethnicity_Others</td>\n",
       "      <td>0.358305</td>\n",
       "    </tr>\n",
       "    <tr>\n",
       "      <td>Ethnicity_Pacifica</td>\n",
       "      <td>-0.323064</td>\n",
       "    </tr>\n",
       "    <tr>\n",
       "      <td>Ethnicity_White_European</td>\n",
       "      <td>0.000000</td>\n",
       "    </tr>\n",
       "    <tr>\n",
       "      <td>Ethnicity_asian</td>\n",
       "      <td>0.782348</td>\n",
       "    </tr>\n",
       "    <tr>\n",
       "      <td>Ethnicity_black</td>\n",
       "      <td>-0.403438</td>\n",
       "    </tr>\n",
       "    <tr>\n",
       "      <td>Ethnicity_middle_eastern</td>\n",
       "      <td>-0.205790</td>\n",
       "    </tr>\n",
       "    <tr>\n",
       "      <td>Ethnicity_mixed</td>\n",
       "      <td>0.158228</td>\n",
       "    </tr>\n",
       "    <tr>\n",
       "      <td>Ethnicity_south_asian</td>\n",
       "      <td>0.105563</td>\n",
       "    </tr>\n",
       "    <tr>\n",
       "      <td>Jaundice_yes</td>\n",
       "      <td>-0.442475</td>\n",
       "    </tr>\n",
       "    <tr>\n",
       "      <td>Sex_m</td>\n",
       "      <td>0.381497</td>\n",
       "    </tr>\n",
       "    <tr>\n",
       "      <td>family_asd_yes</td>\n",
       "      <td>0.000000</td>\n",
       "    </tr>\n",
       "  </tbody>\n",
       "</table>\n",
       "</div>"
      ],
      "text/plain": [
       "                                 0\n",
       "qchat_score              -0.950953\n",
       "Ethnicity_Latino          0.041662\n",
       "Ethnicity_Native_Indian   0.323238\n",
       "Ethnicity_Others          0.358305\n",
       "Ethnicity_Pacifica       -0.323064\n",
       "Ethnicity_White_European  0.000000\n",
       "Ethnicity_asian           0.782348\n",
       "Ethnicity_black          -0.403438\n",
       "Ethnicity_middle_eastern -0.205790\n",
       "Ethnicity_mixed           0.158228\n",
       "Ethnicity_south_asian     0.105563\n",
       "Jaundice_yes             -0.442475\n",
       "Sex_m                     0.381497\n",
       "family_asd_yes            0.000000"
      ]
     },
     "execution_count": 41,
     "metadata": {},
     "output_type": "execute_result"
    }
   ],
   "source": [
    "lasso_coef1.T"
   ]
  },
  {
   "cell_type": "code",
   "execution_count": 42,
   "metadata": {},
   "outputs": [
    {
     "data": {
      "text/plain": [
       "<matplotlib.axes._subplots.AxesSubplot at 0x1a1cf73860>"
      ]
     },
     "execution_count": 42,
     "metadata": {},
     "output_type": "execute_result"
    },
    {
     "data": {
      "image/png": "[encoded data removed]",
      "text/plain": [
       "<Figure size 1152x576 with 1 Axes>"
      ]
     },
     "metadata": {
      "needs_background": "light"
     },
     "output_type": "display_data"
    }
   ],
   "source": [
    "lasso_coef1 = lasso_coef1.T.sort_values(by=0).T\n",
    "lasso_coef1.plot(kind='bar', title='Modal Coefficients', legend=False, figsize=(16,8))"
   ]
  },
  {
   "cell_type": "code",
   "execution_count": null,
   "metadata": {},
   "outputs": [],
   "source": []
  }
 ],
 "metadata": {
  "kernelspec": {
   "display_name": "Python 3",
   "language": "python",
   "name": "python3"
  },
  "language_info": {
   "codemirror_mode": {
    "name": "ipython",
    "version": 3
   },
   "file_extension": ".py",
   "mimetype": "text/x-python",
   "name": "python",
   "nbconvert_exporter": "python",
   "pygments_lexer": "ipython3",
   "version": "3.6.9"
  }
 },
 "nbformat": 4,
 "nbformat_minor": 2
}
