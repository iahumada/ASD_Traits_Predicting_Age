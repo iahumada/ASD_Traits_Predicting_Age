{
  "nbformat": 4,
  "nbformat_minor": 0,
  "metadata": {
    "kernelspec": {
      "display_name": "Python 3",
      "language": "python",
      "name": "python3"
    },
    "language_info": {
      "codemirror_mode": {
        "name": "ipython",
        "version": 3
      },
      "file_extension": ".py",
      "mimetype": "text/x-python",
      "name": "python",
      "nbconvert_exporter": "python",
      "pygments_lexer": "ipython3",
      "version": "3.6.9"
    },
    "colab": {
      "name": "4. Transfer_Learning - Data Augmentation.ipynb",
      "provenance": [],
      "include_colab_link": true
    },
    "accelerator": "GPU"
  },
  "cells": [
    {
      "cell_type": "markdown",
      "metadata": {
        "id": "view-in-github",
        "colab_type": "text"
      },
      "source": [
        "<a href=\"https://colab.research.google.com/github/mkosaka1/ASD_Traits_Predicting_Age/blob/master/4.%20Transfer_Learning%20-%20Data_Augmentation.ipynb\" target=\"_parent\"><img src=\"https://colab.research.google.com/assets/colab-badge.svg\" alt=\"Open In Colab\"/></a>"
      ]
    },
    {
      "cell_type": "code",
      "metadata": {
        "id": "Q4h1vIs2buaJ",
        "colab_type": "code",
        "colab": {
          "base_uri": "https://localhost:8080/",
          "height": 122
        },
        "outputId": "6e764689-5744-433a-eb6f-d99072ead224"
      },
      "source": [
        "from google.colab import drive\n",
        "drive.mount('/content/drive')"
      ],
      "execution_count": 1,
      "outputs": [
        {
          "output_type": "stream",
          "text": [
            "Go to this URL in a browser: https://accounts.google.com/o/oauth2/auth?client_id=947318989803-6bn6qk8qdgf4n4g3pfee6491hc0brc4i.apps.googleusercontent.com&redirect_uri=urn%3aietf%3awg%3aoauth%3a2.0%3aoob&scope=email%20https%3a%2f%2fwww.googleapis.com%2fauth%2fdocs.test%20https%3a%2f%2fwww.googleapis.com%2fauth%2fdrive%20https%3a%2f%2fwww.googleapis.com%2fauth%2fdrive.photos.readonly%20https%3a%2f%2fwww.googleapis.com%2fauth%2fpeopleapi.readonly&response_type=code\n",
            "\n",
            "Enter your authorization code:\n",
            "4/4AHZnALi09DNckRP6lR5W5O6Zz_12MT7x4SkwqgDKBoGRS5hLZHeImo\n",
            "Mounted at /content/drive\n"
          ],
          "name": "stdout"
        }
      ]
    },
    {
      "cell_type": "code",
      "metadata": {
        "id": "Pm_4z5L1bYop",
        "colab_type": "code",
        "colab": {
          "base_uri": "https://localhost:8080/",
          "height": 71
        },
        "outputId": "d8fc22a8-86cb-4412-ee94-6eefa99801fd"
      },
      "source": [
        "# IMPORT NECESSARY LIBRARIES\n",
        "import librosa\n",
        "import librosa.display\n",
        "import numpy as np\n",
        "import matplotlib.pyplot as plt\n",
        "import tensorflow as tf\n",
        "from sklearn.model_selection import GridSearchCV\n",
        "from keras.wrappers.scikit_learn import KerasClassifier\n",
        "from matplotlib.pyplot import specgram\n",
        "import pandas as pd\n",
        "from sklearn.metrics import confusion_matrix\n",
        "import os # interface with underlying OS that python is running on\n",
        "import sys\n",
        "import warnings\n",
        "# ignore warnings \n",
        "if not sys.warnoptions:\n",
        "    warnings.simplefilter(\"ignore\")\n",
        "warnings.filterwarnings(\"ignore\", category=DeprecationWarning)\n",
        "from sklearn.preprocessing import LabelEncoder\n",
        "import keras\n",
        "from sklearn.metrics import classification_report\n",
        "from keras.models import Sequential, Model, model_from_json\n",
        "from keras.layers import Conv1D, MaxPooling2D, AveragePooling1D\n",
        "from keras.layers import Input, Flatten, Dropout, Activation, BatchNormalization\n",
        "from keras.layers import Dense, Embedding, LSTM\n",
        "from keras.regularizers import l2\n",
        "from keras.constraints import max_norm\n",
        "from keras.callbacks import EarlyStopping, ModelCheckpoint\n",
        "import seaborn as sns\n",
        "from keras.utils import to_categorical\n",
        "from glob import glob\n",
        "import cv2\n",
        "from sklearn.utils import shuffle\n"
      ],
      "execution_count": 2,
      "outputs": [
        {
          "output_type": "stream",
          "text": [
            "/usr/local/lib/python3.6/dist-packages/statsmodels/tools/_testing.py:19: FutureWarning: pandas.util.testing is deprecated. Use the functions in the public API at pandas.testing instead.\n",
            "  import pandas.util.testing as tm\n"
          ],
          "name": "stderr"
        }
      ]
    },
    {
      "cell_type": "code",
      "metadata": {
        "id": "R3g3sTfqbYot",
        "colab_type": "code",
        "colab": {}
      },
      "source": [
        "# READ IN AUDIO FILES \n",
        "audio = \"/Users/murielkosaka/Desktop/capstone_project/audio/audio_speech_actors_01-24/\""
      ],
      "execution_count": null,
      "outputs": []
    },
    {
      "cell_type": "code",
      "metadata": {
        "id": "XfHSJGs0bYow",
        "colab_type": "code",
        "colab": {}
      },
      "source": [
        "dicts={'01' : 'neutral', '02' : 'calm', '03' : 'happy', '04' : 'sad', '05' : 'angry', '06' : 'fearful', '07' : 'disgust', '08' : 'surprised'}"
      ],
      "execution_count": null,
      "outputs": []
    },
    {
      "cell_type": "code",
      "metadata": {
        "id": "zNen5zCRbYoy",
        "colab_type": "code",
        "colab": {}
      },
      "source": [
        "path_main=audio"
      ],
      "execution_count": null,
      "outputs": []
    },
    {
      "cell_type": "code",
      "metadata": {
        "id": "B3phNA9qbYo1",
        "colab_type": "code",
        "colab": {
          "base_uri": "https://localhost:8080/",
          "height": 164
        },
        "outputId": "468fac52-a0e6-432c-86d1-64c6801c926b"
      },
      "source": [
        "folders_main=os.listdir(path_main)"
      ],
      "execution_count": null,
      "outputs": [
        {
          "output_type": "error",
          "ename": "FileNotFoundError",
          "evalue": "ignored",
          "traceback": [
            "\u001b[0;31m---------------------------------------------------------------------------\u001b[0m",
            "\u001b[0;31mFileNotFoundError\u001b[0m                         Traceback (most recent call last)",
            "\u001b[0;32m<ipython-input-29-9a4a7dcdffff>\u001b[0m in \u001b[0;36m<module>\u001b[0;34m()\u001b[0m\n\u001b[0;32m----> 1\u001b[0;31m \u001b[0mfolders_main\u001b[0m\u001b[0;34m=\u001b[0m\u001b[0mos\u001b[0m\u001b[0;34m.\u001b[0m\u001b[0mlistdir\u001b[0m\u001b[0;34m(\u001b[0m\u001b[0mpath_main\u001b[0m\u001b[0;34m)\u001b[0m\u001b[0;34m\u001b[0m\u001b[0;34m\u001b[0m\u001b[0m\n\u001b[0m",
            "\u001b[0;31mFileNotFoundError\u001b[0m: [Errno 2] No such file or directory: '/Users/murielkosaka/Desktop/capstone_project/audio/audio_speech_actors_01-24/'"
          ]
        }
      ]
    },
    {
      "cell_type": "markdown",
      "metadata": {
        "id": "Jzg7tmhJbYo3",
        "colab_type": "text"
      },
      "source": [
        "# Log-Mel Spectrogram"
      ]
    },
    {
      "cell_type": "code",
      "metadata": {
        "id": "nZcepDxJbYo3",
        "colab_type": "code",
        "colab": {}
      },
      "source": [
        "fname = audio + 'Actor_09/03-01-04-02-02-02-09.wav'  \n",
        "y, sr = librosa.load(fname)\n",
        "yt,_=librosa.effects.trim(y)"
      ],
      "execution_count": null,
      "outputs": []
    },
    {
      "cell_type": "code",
      "metadata": {
        "scrolled": true,
        "id": "3mzrL8EWbYo6",
        "colab_type": "code",
        "colab": {},
        "outputId": "9f8f3b24-e94d-4286-dce8-59d6b2c80fd9"
      },
      "source": [
        "mel_spect = librosa.feature.melspectrogram(y=y, sr=sr, n_fft=1024, hop_length=100)\n",
        "mel_spect = librosa.power_to_db(mel_spect, ref=np.max)\n",
        "librosa.display.specshow(mel_spect, y_axis='mel', fmax=20000, x_axis='time');\n"
      ],
      "execution_count": null,
      "outputs": [
        {
          "output_type": "display_data",
          "data": {
            "image/png": "[encoded data removed]",
            "text/plain": [
              "<Figure size 432x288 with 1 Axes>"
            ]
          },
          "metadata": {
            "tags": [],
            "needs_background": "light"
          }
        }
      ]
    },
    {
      "cell_type": "code",
      "metadata": {
        "id": "SsUdmyuZbYo9",
        "colab_type": "code",
        "colab": {}
      },
      "source": [
        "import re\n",
        "counter=0\n",
        "for folders in folders_main :\n",
        "    path_in='/Users/murielkosaka/Desktop/capstone_project/audio/audio_speech_actors_01-24/{0}'.format(folders)\n",
        "    files_sub=os.listdir(path_in)\n",
        "    for file in files_sub :\n",
        "        numbers = re.findall('\\d+',file)\n",
        "        emotion=dicts[numbers[2]]\n",
        "        print (numbers[6],emotion)\n",
        "        path_save='/Users/murielkosaka/Desktop/capstone_project/audio/sorted_data/{0}/{1}.jpeg'.format(emotion,file)\n",
        "        path_load='{0}/{1}'.format(path_in,file)\n",
        "        y, sr = librosa.load(path_load)\n",
        "        yt,_=librosa.effects.trim(y)\n",
        "        y=yt\n",
        "        y = librosa.feature.melspectrogram(y=y, sr=sr, n_mels=128,fmax=8000)\n",
        "        db_spec = librosa.power_to_db(y)\n",
        "        librosa.display.specshow(db_spec, y_axis='mel', fmax=20000, x_axis='time');\n",
        "        plt.savefig(path_save)"
      ],
      "execution_count": null,
      "outputs": []
    },
    {
      "cell_type": "markdown",
      "metadata": {
        "id": "zK8l2fLPbYpA",
        "colab_type": "text"
      },
      "source": [
        "# Noise"
      ]
    },
    {
      "cell_type": "code",
      "metadata": {
        "id": "wKCvevWfbYpB",
        "colab_type": "code",
        "colab": {}
      },
      "source": [
        "# FUNCTION TO ADD WHITE NOISE\n",
        "def noise(y):\n",
        "    noise_amp = 0.05*np.random.uniform()*np.amax(y)   \n",
        "    y = y.astype('float64') + noise_amp * np.random.normal(size=y.shape[0])\n",
        "    return y"
      ],
      "execution_count": null,
      "outputs": []
    },
    {
      "cell_type": "code",
      "metadata": {
        "id": "BLMxbRPabYpD",
        "colab_type": "code",
        "colab": {}
      },
      "source": [
        "fname = audio + 'Actor_09/03-01-04-02-02-02-09.wav'  \n",
        "y, sr = librosa.load(fname)\n",
        "yt,_=librosa.effects.trim(y)"
      ],
      "execution_count": null,
      "outputs": []
    },
    {
      "cell_type": "code",
      "metadata": {
        "id": "MpTRrH1_bYpF",
        "colab_type": "code",
        "colab": {},
        "outputId": "e8858574-668a-4600-e321-6b2715ddc6f5"
      },
      "source": [
        "y = noise(y)\n",
        "y = librosa.feature.melspectrogram(y=y, sr=sr, n_mels=128,fmax=8000)\n",
        "db_spec = librosa.power_to_db(y)\n",
        "librosa.display.specshow(db_spec, y_axis='mel', fmax=20000, x_axis='time');"
      ],
      "execution_count": null,
      "outputs": [
        {
          "output_type": "display_data",
          "data": {
            "image/png": "[encoded data removed]",
            "text/plain": [
              "<Figure size 432x288 with 1 Axes>"
            ]
          },
          "metadata": {
            "tags": [],
            "needs_background": "light"
          }
        }
      ]
    },
    {
      "cell_type": "code",
      "metadata": {
        "id": "Ouyvk4dVbYpH",
        "colab_type": "code",
        "colab": {}
      },
      "source": [
        "import re\n",
        "counter=0\n",
        "for folders in folders_main :\n",
        "    path_in='/Users/murielkosaka/Desktop/capstone_project/audio/audio_speech_actors_01-24/{0}'.format(folders)\n",
        "    files_sub=os.listdir(path_in)\n",
        "    for file in files_sub :\n",
        "        numbers = re.findall('\\d+',file)\n",
        "        emotion=dicts[numbers[2]]\n",
        "        print (numbers[6],emotion)\n",
        "        path_save='/Users/murielkosaka/Desktop/capstone_project/audio/noise/{0}/{1}.jpeg'.format(emotion,file)\n",
        "        path_load='{0}/{1}'.format(path_in,file)\n",
        "        y, sr = librosa.load(path_load)\n",
        "        yt,_=librosa.effects.trim(y)\n",
        "        y=yt\n",
        "        y = noise(y)\n",
        "        y = librosa.feature.melspectrogram(y=y, sr=sr, n_mels=128,fmax=8000)\n",
        "        db_spec = librosa.power_to_db(y)\n",
        "        librosa.display.specshow(db_spec, y_axis='mel', fmax=20000, x_axis='time');\n",
        "        plt.savefig(path_save)"
      ],
      "execution_count": null,
      "outputs": []
    },
    {
      "cell_type": "markdown",
      "metadata": {
        "id": "6MgS-TtqbYpJ",
        "colab_type": "text"
      },
      "source": [
        "# Stretch"
      ]
    },
    {
      "cell_type": "code",
      "metadata": {
        "id": "LPF_92xKbYpJ",
        "colab_type": "code",
        "colab": {}
      },
      "source": [
        "# FUNCTION TO STRETCH THE SOUND\n",
        "def stretch(y, rate=0.8):\n",
        "    data = librosa.effects.time_stretch(y, rate)\n",
        "    return data"
      ],
      "execution_count": null,
      "outputs": []
    },
    {
      "cell_type": "code",
      "metadata": {
        "id": "YPhbWBBrbYpL",
        "colab_type": "code",
        "colab": {}
      },
      "source": [
        "fname = audio + 'Actor_09/03-01-04-02-02-02-09.wav'  \n",
        "y, sr = librosa.load(fname)\n",
        "yt,_=librosa.effects.trim(y)"
      ],
      "execution_count": null,
      "outputs": []
    },
    {
      "cell_type": "code",
      "metadata": {
        "id": "YnTFlmIWbYpN",
        "colab_type": "code",
        "colab": {}
      },
      "source": [
        "y=yt"
      ],
      "execution_count": null,
      "outputs": []
    },
    {
      "cell_type": "code",
      "metadata": {
        "id": "3ESG5ec1bYpQ",
        "colab_type": "code",
        "colab": {},
        "outputId": "da14880a-413d-45d2-ed40-7274bedf3d29"
      },
      "source": [
        "y= stretch(y)\n",
        "y = librosa.feature.melspectrogram(y=y, sr=sr, n_mels=128,fmax=8000)\n",
        "db_spec = librosa.power_to_db(y)\n",
        "librosa.display.specshow(db_spec, y_axis='mel', fmax=20000, x_axis='time');"
      ],
      "execution_count": null,
      "outputs": [
        {
          "output_type": "display_data",
          "data": {
            "image/png": "[encoded data removed]",
            "text/plain": [
              "<Figure size 432x288 with 1 Axes>"
            ]
          },
          "metadata": {
            "tags": [],
            "needs_background": "light"
          }
        }
      ]
    },
    {
      "cell_type": "code",
      "metadata": {
        "collapsed": true,
        "id": "B5Zh9b3_bYpS",
        "colab_type": "code",
        "colab": {},
        "outputId": "3ba3c509-a8eb-4ab2-8d1e-5c7936f3200c"
      },
      "source": [
        "import re\n",
        "counter=0\n",
        "for folders in folders_main :\n",
        "    path_in='/Users/murielkosaka/Desktop/capstone_project/audio/audio_speech_actors_01-24/{0}'.format(folders)\n",
        "    files_sub=os.listdir(path_in)\n",
        "    for file in files_sub :\n",
        "        numbers = re.findall('\\d+',file)\n",
        "        emotion=dicts[numbers[2]]\n",
        "        print (numbers[6],emotion)\n",
        "        path_save='/Users/murielkosaka/Desktop/capstone_project/audio/stretch/{0}/{1}.jpeg'.format(emotion,file)\n",
        "        path_load='{0}/{1}'.format(path_in,file)\n",
        "        y, sr = librosa.load(path_load)\n",
        "        yt,_=librosa.effects.trim(y)\n",
        "        y=yt\n",
        "        y= stretch(y)\n",
        "        y = librosa.feature.melspectrogram(y=y, sr=sr, n_mels=128,fmax=8000)\n",
        "        db_spec = librosa.power_to_db(y)\n",
        "        librosa.display.specshow(db_spec, y_axis='mel', fmax=20000, x_axis='time');\n",
        "        plt.savefig(path_save)"
      ],
      "execution_count": null,
      "outputs": [
        {
          "output_type": "stream",
          "text": [
            "16 angry\n",
            "16 fearful\n",
            "16 fearful\n",
            "16 angry\n",
            "16 disgust\n",
            "16 sad\n",
            "16 sad\n",
            "16 disgust\n",
            "16 surprised\n",
            "16 surprised\n",
            "16 happy\n",
            "16 happy\n",
            "16 calm\n",
            "16 neutral\n",
            "16 calm\n",
            "16 happy\n",
            "16 happy\n",
            "16 calm\n",
            "16 calm\n",
            "16 neutral\n",
            "16 fearful\n",
            "16 angry\n",
            "16 angry\n",
            "16 fearful\n",
            "16 sad\n",
            "16 disgust\n",
            "16 disgust\n",
            "16 sad\n",
            "16 surprised\n",
            "16 surprised\n",
            "16 calm\n",
            "16 neutral\n",
            "16 calm\n",
            "16 happy\n",
            "16 happy\n",
            "16 disgust\n",
            "16 sad\n",
            "16 sad\n",
            "16 disgust\n",
            "16 angry\n",
            "16 fearful\n",
            "16 fearful\n",
            "16 angry\n",
            "16 surprised\n",
            "16 surprised\n",
            "16 sad\n",
            "16 disgust\n",
            "16 disgust\n",
            "16 sad\n",
            "16 fearful\n",
            "16 angry\n",
            "16 angry\n",
            "16 fearful\n",
            "16 surprised\n",
            "16 surprised\n",
            "16 neutral\n",
            "16 calm\n",
            "16 calm\n",
            "16 happy\n",
            "16 happy\n",
            "11 neutral\n",
            "11 calm\n",
            "11 calm\n",
            "11 happy\n",
            "11 happy\n",
            "11 sad\n",
            "11 disgust\n",
            "11 disgust\n",
            "11 sad\n",
            "11 fearful\n",
            "11 angry\n",
            "11 angry\n",
            "11 fearful\n",
            "11 surprised\n",
            "11 surprised\n",
            "11 disgust\n",
            "11 sad\n",
            "11 sad\n",
            "11 disgust\n",
            "11 angry\n",
            "11 fearful\n",
            "11 fearful\n",
            "11 angry\n",
            "11 surprised\n",
            "11 surprised\n",
            "11 calm\n",
            "11 neutral\n",
            "11 calm\n",
            "11 happy\n",
            "11 happy\n",
            "11 fearful\n",
            "11 angry\n",
            "11 angry\n",
            "11 fearful\n",
            "11 sad\n",
            "11 disgust\n",
            "11 disgust\n",
            "11 sad\n",
            "11 surprised\n",
            "11 surprised\n",
            "11 happy\n",
            "11 happy\n",
            "11 calm\n",
            "11 calm\n",
            "11 neutral\n",
            "11 happy\n",
            "11 happy\n",
            "11 calm\n",
            "11 neutral\n",
            "11 calm\n",
            "11 angry\n",
            "11 fearful\n",
            "11 fearful\n",
            "11 angry\n",
            "11 disgust\n",
            "11 sad\n",
            "11 sad\n",
            "11 disgust\n",
            "11 surprised\n",
            "11 surprised\n",
            "18 happy\n",
            "18 happy\n",
            "18 calm\n",
            "18 calm\n",
            "18 neutral\n",
            "18 fearful\n",
            "18 angry\n",
            "18 angry\n",
            "18 fearful\n",
            "18 sad\n",
            "18 disgust\n",
            "18 disgust\n",
            "18 sad\n",
            "18 surprised\n",
            "18 surprised\n",
            "18 angry\n",
            "18 fearful\n",
            "18 fearful\n",
            "18 angry\n",
            "18 disgust\n",
            "18 sad\n",
            "18 sad\n",
            "18 disgust\n",
            "18 surprised\n",
            "18 surprised\n",
            "18 happy\n",
            "18 happy\n",
            "18 calm\n",
            "18 neutral\n",
            "18 calm\n",
            "18 sad\n",
            "18 disgust\n",
            "18 disgust\n",
            "18 sad\n",
            "18 fearful\n",
            "18 angry\n",
            "18 angry\n",
            "18 fearful\n",
            "18 surprised\n",
            "18 surprised\n",
            "18 neutral\n",
            "18 calm\n",
            "18 calm\n",
            "18 happy\n",
            "18 happy\n",
            "18 calm\n",
            "18 neutral\n",
            "18 calm\n",
            "18 happy\n",
            "18 happy\n",
            "18 disgust\n",
            "18 sad\n",
            "18 sad\n",
            "18 disgust\n",
            "18 angry\n",
            "18 fearful\n",
            "18 fearful\n",
            "18 angry\n",
            "18 surprised\n",
            "18 surprised\n",
            "20 surprised\n",
            "20 surprised\n",
            "20 sad\n",
            "20 disgust\n",
            "20 disgust\n",
            "20 sad\n",
            "20 fearful\n",
            "20 angry\n",
            "20 angry\n",
            "20 fearful\n",
            "20 neutral\n",
            "20 calm\n",
            "20 calm\n",
            "20 happy\n",
            "20 happy\n",
            "20 calm\n",
            "20 neutral\n",
            "20 calm\n",
            "20 happy\n",
            "20 happy\n",
            "20 surprised\n",
            "20 surprised\n",
            "20 disgust\n",
            "20 sad\n",
            "20 sad\n",
            "20 disgust\n",
            "20 angry\n",
            "20 fearful\n",
            "20 fearful\n",
            "20 angry\n",
            "20 happy\n",
            "20 happy\n",
            "20 calm\n",
            "20 calm\n",
            "20 neutral\n",
            "20 surprised\n",
            "20 surprised\n",
            "20 fearful\n",
            "20 angry\n",
            "20 angry\n",
            "20 fearful\n",
            "20 sad\n",
            "20 disgust\n",
            "20 disgust\n",
            "20 sad\n",
            "20 surprised\n",
            "20 surprised\n",
            "20 angry\n",
            "20 fearful\n",
            "20 fearful\n",
            "20 angry\n",
            "20 disgust\n",
            "20 sad\n",
            "20 sad\n",
            "20 disgust\n",
            "20 happy\n",
            "20 happy\n",
            "20 calm\n",
            "20 neutral\n",
            "20 calm\n",
            "21 surprised\n",
            "21 surprised\n",
            "21 fearful\n",
            "21 angry\n",
            "21 angry\n",
            "21 fearful\n",
            "21 sad\n",
            "21 disgust\n",
            "21 disgust\n",
            "21 sad\n",
            "21 happy\n",
            "21 happy\n",
            "21 calm\n",
            "21 calm\n",
            "21 neutral\n",
            "21 happy\n",
            "21 happy\n",
            "21 calm\n",
            "21 neutral\n",
            "21 calm\n",
            "21 surprised\n",
            "21 surprised\n",
            "21 angry\n",
            "21 fearful\n",
            "21 fearful\n",
            "21 angry\n",
            "21 disgust\n",
            "21 sad\n",
            "21 sad\n",
            "21 disgust\n",
            "21 neutral\n",
            "21 calm\n",
            "21 calm\n",
            "21 happy\n",
            "21 happy\n",
            "21 surprised\n",
            "21 surprised\n",
            "21 sad\n",
            "21 disgust\n",
            "21 disgust\n",
            "21 sad\n",
            "21 fearful\n",
            "21 angry\n",
            "21 angry\n",
            "21 fearful\n",
            "21 surprised\n",
            "21 surprised\n",
            "21 disgust\n",
            "21 sad\n",
            "21 sad\n",
            "21 disgust\n",
            "21 angry\n",
            "21 fearful\n",
            "21 fearful\n",
            "21 angry\n",
            "21 calm\n",
            "21 neutral\n",
            "21 calm\n",
            "21 happy\n",
            "21 happy\n",
            "19 neutral\n",
            "19 calm\n",
            "19 calm\n",
            "19 happy\n",
            "19 happy\n",
            "19 sad\n",
            "19 disgust\n",
            "19 disgust\n",
            "19 sad\n",
            "19 fearful\n",
            "19 angry\n",
            "19 angry\n",
            "19 fearful\n",
            "19 surprised\n",
            "19 surprised\n",
            "19 disgust\n",
            "19 sad\n",
            "19 sad\n",
            "19 disgust\n",
            "19 angry\n",
            "19 fearful\n",
            "19 fearful\n",
            "19 angry\n",
            "19 surprised\n",
            "19 surprised\n",
            "19 calm\n",
            "19 neutral\n",
            "19 calm\n",
            "19 happy\n",
            "19 happy\n",
            "19 fearful\n",
            "19 angry\n",
            "19 angry\n",
            "19 fearful\n",
            "19 sad\n",
            "19 disgust\n",
            "19 disgust\n",
            "19 sad\n",
            "19 surprised\n",
            "19 surprised\n",
            "19 happy\n",
            "19 happy\n",
            "19 calm\n",
            "19 calm\n",
            "19 neutral\n",
            "19 happy\n",
            "19 happy\n",
            "19 calm\n",
            "19 neutral\n",
            "19 calm\n",
            "19 angry\n",
            "19 fearful\n",
            "19 fearful\n",
            "19 angry\n",
            "19 disgust\n",
            "19 sad\n",
            "19 sad\n",
            "19 disgust\n",
            "19 surprised\n",
            "19 surprised\n",
            "10 happy\n",
            "10 happy\n",
            "10 calm\n",
            "10 calm\n",
            "10 neutral\n",
            "10 fearful\n",
            "10 angry\n",
            "10 angry\n",
            "10 fearful\n",
            "10 sad\n",
            "10 disgust\n",
            "10 disgust\n",
            "10 sad\n",
            "10 surprised\n",
            "10 surprised\n",
            "10 angry\n",
            "10 fearful\n",
            "10 fearful\n",
            "10 angry\n",
            "10 disgust\n",
            "10 sad\n",
            "10 sad\n",
            "10 disgust\n",
            "10 surprised\n",
            "10 surprised\n",
            "10 happy\n",
            "10 happy\n",
            "10 calm\n",
            "10 neutral\n",
            "10 calm\n",
            "10 sad\n",
            "10 disgust\n",
            "10 disgust\n",
            "10 sad\n",
            "10 fearful\n",
            "10 angry\n",
            "10 angry\n",
            "10 fearful\n",
            "10 surprised\n",
            "10 surprised\n",
            "10 neutral\n",
            "10 calm\n",
            "10 calm\n",
            "10 happy\n",
            "10 happy\n",
            "10 calm\n",
            "10 neutral\n",
            "10 calm\n",
            "10 happy\n",
            "10 happy\n",
            "10 disgust\n",
            "10 sad\n",
            "10 sad\n",
            "10 disgust\n",
            "10 angry\n",
            "10 fearful\n",
            "10 fearful\n",
            "10 angry\n",
            "10 surprised\n",
            "10 surprised\n",
            "17 disgust\n",
            "17 sad\n",
            "17 sad\n",
            "17 disgust\n",
            "17 angry\n",
            "17 fearful\n",
            "17 fearful\n",
            "17 angry\n",
            "17 surprised\n",
            "17 surprised\n",
            "17 calm\n",
            "17 neutral\n",
            "17 calm\n",
            "17 happy\n",
            "17 happy\n",
            "17 neutral\n",
            "17 calm\n",
            "17 calm\n",
            "17 happy\n",
            "17 happy\n",
            "17 sad\n",
            "17 disgust\n",
            "17 disgust\n",
            "17 sad\n",
            "17 fearful\n",
            "17 angry\n",
            "17 angry\n",
            "17 fearful\n",
            "17 surprised\n",
            "17 surprised\n",
            "17 happy\n",
            "17 happy\n",
            "17 calm\n",
            "17 neutral\n",
            "17 calm\n",
            "17 angry\n",
            "17 fearful\n",
            "17 fearful\n",
            "17 angry\n",
            "17 disgust\n",
            "17 sad\n",
            "17 sad\n",
            "17 disgust\n",
            "17 surprised\n",
            "17 surprised\n",
            "17 fearful\n",
            "17 angry\n",
            "17 angry\n",
            "17 fearful\n",
            "17 sad\n",
            "17 disgust\n",
            "17 disgust\n",
            "17 sad\n",
            "17 surprised\n",
            "17 surprised\n",
            "17 happy\n",
            "17 happy\n",
            "17 calm\n",
            "17 calm\n",
            "17 neutral\n",
            "04 happy\n",
            "04 happy\n",
            "04 calm\n",
            "04 neutral\n",
            "04 calm\n",
            "04 angry\n",
            "04 fearful\n",
            "04 fearful\n",
            "04 angry\n",
            "04 disgust\n",
            "04 sad\n",
            "04 sad\n",
            "04 disgust\n",
            "04 surprised\n",
            "04 surprised\n",
            "04 fearful\n",
            "04 angry\n",
            "04 angry\n",
            "04 fearful\n",
            "04 sad\n",
            "04 disgust\n",
            "04 disgust\n",
            "04 sad\n",
            "04 surprised\n",
            "04 surprised\n",
            "04 happy\n",
            "04 happy\n",
            "04 calm\n",
            "04 calm\n",
            "04 neutral\n",
            "04 disgust\n",
            "04 sad\n",
            "04 sad\n",
            "04 disgust\n",
            "04 angry\n",
            "04 fearful\n",
            "04 fearful\n",
            "04 angry\n",
            "04 surprised\n",
            "04 surprised\n",
            "04 calm\n",
            "04 neutral\n",
            "04 calm\n",
            "04 happy\n",
            "04 happy\n",
            "04 neutral\n",
            "04 calm\n",
            "04 calm\n",
            "04 happy\n",
            "04 happy\n",
            "04 sad\n",
            "04 disgust\n",
            "04 disgust\n",
            "04 sad\n",
            "04 fearful\n",
            "04 angry\n",
            "04 angry\n",
            "04 fearful\n",
            "04 surprised\n",
            "04 surprised\n",
            "03 sad\n",
            "03 disgust\n",
            "03 disgust\n",
            "03 sad\n",
            "03 fearful\n",
            "03 angry\n",
            "03 angry\n",
            "03 fearful\n",
            "03 surprised\n",
            "03 surprised\n",
            "03 neutral\n",
            "03 calm\n",
            "03 calm\n",
            "03 happy\n",
            "03 happy\n",
            "03 calm\n",
            "03 neutral\n",
            "03 calm\n",
            "03 happy\n",
            "03 happy\n",
            "03 disgust\n",
            "03 sad\n",
            "03 sad\n",
            "03 disgust\n",
            "03 angry\n",
            "03 fearful\n",
            "03 fearful\n",
            "03 angry\n",
            "03 surprised\n",
            "03 surprised\n",
            "03 happy\n",
            "03 happy\n",
            "03 calm\n",
            "03 calm\n",
            "03 neutral\n",
            "03 fearful\n",
            "03 angry\n",
            "03 angry\n",
            "03 fearful\n",
            "03 sad\n",
            "03 disgust\n",
            "03 disgust\n",
            "03 sad\n",
            "03 surprised\n",
            "03 surprised\n",
            "03 angry\n",
            "03 fearful\n",
            "03 fearful\n",
            "03 angry\n",
            "03 disgust\n",
            "03 sad\n",
            "03 sad\n",
            "03 disgust\n",
            "03 surprised\n",
            "03 surprised\n",
            "03 happy\n",
            "03 happy\n",
            "03 calm\n",
            "03 neutral\n",
            "03 calm\n",
            "02 fearful\n",
            "02 angry\n",
            "02 angry\n",
            "02 fearful\n",
            "02 sad\n",
            "02 disgust\n",
            "02 disgust\n",
            "02 sad\n",
            "02 surprised\n",
            "02 surprised\n",
            "02 happy\n",
            "02 happy\n",
            "02 calm\n",
            "02 calm\n",
            "02 neutral\n",
            "02 happy\n",
            "02 happy\n",
            "02 calm\n",
            "02 neutral\n",
            "02 calm\n",
            "02 angry\n",
            "02 fearful\n",
            "02 fearful\n",
            "02 angry\n",
            "02 disgust\n",
            "02 sad\n",
            "02 sad\n",
            "02 disgust\n",
            "02 surprised\n",
            "02 surprised\n",
            "02 neutral\n",
            "02 calm\n",
            "02 calm\n",
            "02 happy\n",
            "02 happy\n",
            "02 sad\n",
            "02 disgust\n",
            "02 disgust\n",
            "02 sad\n",
            "02 fearful\n",
            "02 angry\n",
            "02 angry\n",
            "02 fearful\n",
            "02 surprised\n",
            "02 surprised\n",
            "02 disgust\n",
            "02 sad\n",
            "02 sad\n",
            "02 disgust\n",
            "02 angry\n",
            "02 fearful\n",
            "02 fearful\n",
            "02 angry\n",
            "02 surprised\n",
            "02 surprised\n",
            "02 calm\n",
            "02 neutral\n",
            "02 calm\n",
            "02 happy\n",
            "02 happy\n",
            "05 calm\n",
            "05 neutral\n",
            "05 calm\n",
            "05 happy\n",
            "05 happy\n",
            "05 disgust\n",
            "05 sad\n",
            "05 sad\n",
            "05 disgust\n",
            "05 angry\n",
            "05 fearful\n",
            "05 fearful\n",
            "05 angry\n",
            "05 surprised\n",
            "05 surprised\n",
            "05 sad\n",
            "05 disgust\n",
            "05 disgust\n",
            "05 sad\n",
            "05 fearful\n",
            "05 angry\n",
            "05 angry\n",
            "05 fearful\n",
            "05 surprised\n",
            "05 surprised\n",
            "05 neutral\n",
            "05 calm\n",
            "05 calm\n",
            "05 happy\n",
            "05 happy\n",
            "05 angry\n",
            "05 fearful\n",
            "05 fearful\n",
            "05 angry\n",
            "05 disgust\n",
            "05 sad\n",
            "05 sad\n",
            "05 disgust\n",
            "05 surprised\n",
            "05 surprised\n",
            "05 happy\n",
            "05 happy\n",
            "05 calm\n",
            "05 neutral\n",
            "05 calm\n",
            "05 happy\n",
            "05 happy\n",
            "05 calm\n",
            "05 calm\n",
            "05 neutral\n",
            "05 fearful\n",
            "05 angry\n",
            "05 angry\n",
            "05 fearful\n",
            "05 sad\n",
            "05 disgust\n",
            "05 disgust\n",
            "05 sad\n",
            "05 surprised\n",
            "05 surprised\n",
            "12 calm\n",
            "12 neutral\n",
            "12 calm\n",
            "12 happy\n",
            "12 happy\n",
            "12 surprised\n",
            "12 surprised\n",
            "12 disgust\n",
            "12 sad\n",
            "12 sad\n",
            "12 disgust\n",
            "12 angry\n",
            "12 fearful\n",
            "12 fearful\n",
            "12 angry\n",
            "12 surprised\n",
            "12 surprised\n",
            "12 sad\n",
            "12 disgust\n",
            "12 disgust\n",
            "12 sad\n",
            "12 fearful\n",
            "12 angry\n",
            "12 angry\n",
            "12 fearful\n",
            "12 neutral\n",
            "12 calm\n",
            "12 calm\n",
            "12 happy\n",
            "12 happy\n",
            "12 surprised\n",
            "12 surprised\n",
            "12 angry\n",
            "12 fearful\n",
            "12 fearful\n",
            "12 angry\n",
            "12 disgust\n",
            "12 sad\n",
            "12 sad\n",
            "12 disgust\n",
            "12 happy\n",
            "12 happy\n",
            "12 calm\n",
            "12 neutral\n",
            "12 calm\n",
            "12 happy\n",
            "12 happy\n",
            "12 calm\n",
            "12 calm\n",
            "12 neutral\n",
            "12 surprised\n",
            "12 surprised\n",
            "12 fearful\n",
            "12 angry\n",
            "12 angry\n",
            "12 fearful\n",
            "12 sad\n",
            "12 disgust\n",
            "12 disgust\n",
            "12 sad\n",
            "15 surprised\n",
            "15 surprised\n",
            "15 fearful\n",
            "15 angry\n",
            "15 angry\n",
            "15 fearful\n",
            "15 sad\n",
            "15 disgust\n",
            "15 disgust\n",
            "15 sad\n",
            "15 happy\n",
            "15 happy\n",
            "15 calm\n",
            "15 calm\n",
            "15 neutral\n",
            "15 happy\n",
            "15 happy\n",
            "15 calm\n",
            "15 neutral\n",
            "15 calm\n",
            "15 surprised\n",
            "15 surprised\n",
            "15 angry\n",
            "15 fearful\n",
            "15 fearful\n",
            "15 angry\n",
            "15 disgust\n",
            "15 sad\n",
            "15 sad\n",
            "15 disgust\n",
            "15 neutral\n",
            "15 calm\n",
            "15 calm\n",
            "15 happy\n",
            "15 happy\n",
            "15 surprised\n",
            "15 surprised\n",
            "15 sad\n",
            "15 disgust\n",
            "15 disgust\n",
            "15 sad\n",
            "15 fearful\n",
            "15 angry\n",
            "15 angry\n",
            "15 fearful\n",
            "15 surprised\n",
            "15 surprised\n",
            "15 disgust\n",
            "15 sad\n",
            "15 sad\n",
            "15 disgust\n",
            "15 angry\n",
            "15 fearful\n",
            "15 fearful\n",
            "15 angry\n",
            "15 calm\n"
          ],
          "name": "stdout"
        },
        {
          "output_type": "stream",
          "text": [
            "15 neutral\n",
            "15 calm\n",
            "15 happy\n",
            "15 happy\n",
            "23 disgust\n",
            "23 sad\n",
            "23 sad\n",
            "23 disgust\n",
            "23 angry\n",
            "23 fearful\n",
            "23 fearful\n",
            "23 angry\n",
            "23 surprised\n",
            "23 surprised\n",
            "23 calm\n",
            "23 neutral\n",
            "23 calm\n",
            "23 happy\n",
            "23 happy\n",
            "23 neutral\n",
            "23 calm\n",
            "23 calm\n",
            "23 happy\n",
            "23 happy\n",
            "23 sad\n",
            "23 disgust\n",
            "23 disgust\n",
            "23 sad\n",
            "23 fearful\n",
            "23 angry\n",
            "23 angry\n",
            "23 fearful\n",
            "23 surprised\n",
            "23 surprised\n",
            "23 happy\n",
            "23 happy\n",
            "23 calm\n",
            "23 neutral\n",
            "23 calm\n",
            "23 angry\n",
            "23 fearful\n",
            "23 fearful\n",
            "23 angry\n",
            "23 disgust\n",
            "23 sad\n",
            "23 sad\n",
            "23 disgust\n",
            "23 surprised\n",
            "23 surprised\n",
            "23 fearful\n",
            "23 angry\n",
            "23 angry\n",
            "23 fearful\n",
            "23 sad\n",
            "23 disgust\n",
            "23 disgust\n",
            "23 sad\n",
            "23 surprised\n",
            "23 surprised\n",
            "23 happy\n",
            "23 happy\n",
            "23 calm\n",
            "23 calm\n",
            "23 neutral\n",
            "24 happy\n",
            "24 happy\n",
            "24 calm\n",
            "24 calm\n",
            "24 neutral\n",
            "24 fearful\n",
            "24 angry\n",
            "24 angry\n",
            "24 fearful\n",
            "24 sad\n",
            "24 disgust\n",
            "24 disgust\n",
            "24 sad\n",
            "24 surprised\n",
            "24 surprised\n",
            "24 angry\n",
            "24 fearful\n",
            "24 fearful\n",
            "24 angry\n",
            "24 disgust\n",
            "24 sad\n",
            "24 sad\n",
            "24 disgust\n",
            "24 surprised\n",
            "24 surprised\n",
            "24 happy\n",
            "24 happy\n",
            "24 calm\n",
            "24 neutral\n",
            "24 calm\n",
            "24 sad\n",
            "24 disgust\n",
            "24 disgust\n",
            "24 sad\n",
            "24 fearful\n",
            "24 angry\n",
            "24 angry\n",
            "24 fearful\n",
            "24 surprised\n",
            "24 surprised\n",
            "24 neutral\n",
            "24 calm\n",
            "24 calm\n",
            "24 happy\n",
            "24 happy\n",
            "24 calm\n",
            "24 neutral\n",
            "24 calm\n",
            "24 happy\n",
            "24 happy\n",
            "24 disgust\n",
            "24 sad\n",
            "24 sad\n",
            "24 disgust\n",
            "24 angry\n",
            "24 fearful\n",
            "24 fearful\n",
            "24 angry\n",
            "24 surprised\n",
            "24 surprised\n",
            "22 angry\n",
            "22 fearful\n",
            "22 fearful\n",
            "22 angry\n",
            "22 disgust\n",
            "22 sad\n",
            "22 sad\n",
            "22 disgust\n",
            "22 surprised\n",
            "22 surprised\n",
            "22 happy\n",
            "22 happy\n",
            "22 calm\n",
            "22 neutral\n",
            "22 calm\n",
            "22 happy\n",
            "22 happy\n",
            "22 calm\n",
            "22 calm\n",
            "22 neutral\n",
            "22 fearful\n",
            "22 angry\n",
            "22 angry\n",
            "22 fearful\n",
            "22 sad\n",
            "22 disgust\n",
            "22 disgust\n",
            "22 sad\n",
            "22 surprised\n",
            "22 surprised\n",
            "22 calm\n",
            "22 neutral\n",
            "22 calm\n",
            "22 happy\n",
            "22 happy\n",
            "22 disgust\n",
            "22 sad\n",
            "22 sad\n",
            "22 disgust\n",
            "22 angry\n",
            "22 fearful\n",
            "22 fearful\n",
            "22 angry\n",
            "22 surprised\n",
            "22 surprised\n",
            "22 sad\n",
            "22 disgust\n",
            "22 disgust\n",
            "22 sad\n",
            "22 fearful\n",
            "22 angry\n",
            "22 angry\n",
            "22 fearful\n",
            "22 surprised\n",
            "22 surprised\n",
            "22 neutral\n",
            "22 calm\n",
            "22 calm\n",
            "22 happy\n",
            "22 happy\n",
            "14 surprised\n",
            "14 surprised\n",
            "14 sad\n",
            "14 disgust\n",
            "14 disgust\n",
            "14 sad\n",
            "14 fearful\n",
            "14 angry\n",
            "14 angry\n",
            "14 fearful\n",
            "14 neutral\n",
            "14 calm\n",
            "14 calm\n",
            "14 happy\n",
            "14 happy\n",
            "14 calm\n",
            "14 neutral\n",
            "14 calm\n",
            "14 happy\n",
            "14 happy\n",
            "14 surprised\n",
            "14 surprised\n",
            "14 disgust\n",
            "14 sad\n",
            "14 sad\n",
            "14 disgust\n",
            "14 angry\n",
            "14 fearful\n",
            "14 fearful\n",
            "14 angry\n",
            "14 happy\n",
            "14 happy\n",
            "14 calm\n",
            "14 calm\n",
            "14 neutral\n",
            "14 surprised\n",
            "14 surprised\n",
            "14 fearful\n",
            "14 angry\n",
            "14 angry\n",
            "14 fearful\n",
            "14 sad\n",
            "14 disgust\n",
            "14 disgust\n",
            "14 sad\n",
            "14 surprised\n",
            "14 surprised\n",
            "14 angry\n",
            "14 fearful\n",
            "14 fearful\n",
            "14 angry\n",
            "14 disgust\n",
            "14 sad\n",
            "14 sad\n",
            "14 disgust\n",
            "14 happy\n",
            "14 happy\n",
            "14 calm\n",
            "14 neutral\n",
            "14 calm\n",
            "13 happy\n",
            "13 happy\n",
            "13 calm\n",
            "13 neutral\n",
            "13 calm\n",
            "13 surprised\n",
            "13 surprised\n",
            "13 angry\n",
            "13 fearful\n",
            "13 fearful\n",
            "13 angry\n",
            "13 disgust\n",
            "13 sad\n",
            "13 sad\n",
            "13 disgust\n",
            "13 surprised\n",
            "13 surprised\n",
            "13 fearful\n",
            "13 angry\n",
            "13 angry\n",
            "13 fearful\n",
            "13 sad\n",
            "13 disgust\n",
            "13 disgust\n",
            "13 sad\n",
            "13 happy\n",
            "13 happy\n",
            "13 calm\n",
            "13 calm\n",
            "13 neutral\n",
            "13 surprised\n",
            "13 surprised\n",
            "13 disgust\n",
            "13 sad\n",
            "13 sad\n",
            "13 disgust\n",
            "13 angry\n",
            "13 fearful\n",
            "13 fearful\n",
            "13 angry\n",
            "13 calm\n",
            "13 neutral\n",
            "13 calm\n",
            "13 happy\n",
            "13 happy\n",
            "13 neutral\n",
            "13 calm\n",
            "13 calm\n",
            "13 happy\n",
            "13 happy\n",
            "13 surprised\n",
            "13 surprised\n",
            "13 sad\n",
            "13 disgust\n",
            "13 disgust\n",
            "13 sad\n",
            "13 fearful\n",
            "13 angry\n",
            "13 angry\n",
            "13 fearful\n",
            "09 surprised\n",
            "09 surprised\n",
            "09 angry\n",
            "09 fearful\n",
            "09 fearful\n",
            "09 angry\n",
            "09 disgust\n",
            "09 sad\n",
            "09 sad\n",
            "09 disgust\n",
            "09 happy\n",
            "09 happy\n",
            "09 calm\n",
            "09 neutral\n",
            "09 calm\n",
            "09 happy\n",
            "09 happy\n",
            "09 calm\n",
            "09 calm\n",
            "09 neutral\n",
            "09 surprised\n",
            "09 surprised\n",
            "09 fearful\n",
            "09 angry\n",
            "09 angry\n",
            "09 fearful\n",
            "09 sad\n",
            "09 disgust\n",
            "09 disgust\n",
            "09 sad\n",
            "09 calm\n",
            "09 neutral\n",
            "09 calm\n",
            "09 happy\n",
            "09 happy\n",
            "09 surprised\n",
            "09 surprised\n",
            "09 disgust\n",
            "09 sad\n",
            "09 sad\n",
            "09 disgust\n",
            "09 angry\n",
            "09 fearful\n",
            "09 fearful\n",
            "09 angry\n",
            "09 surprised\n",
            "09 surprised\n",
            "09 sad\n",
            "09 disgust\n",
            "09 disgust\n",
            "09 sad\n",
            "09 fearful\n",
            "09 angry\n",
            "09 angry\n",
            "09 fearful\n",
            "09 neutral\n",
            "09 calm\n",
            "09 calm\n",
            "09 happy\n",
            "09 happy\n",
            "07 happy\n",
            "07 happy\n",
            "07 calm\n",
            "07 calm\n",
            "07 neutral\n",
            "07 surprised\n",
            "07 surprised\n",
            "07 fearful\n",
            "07 angry\n",
            "07 angry\n",
            "07 fearful\n",
            "07 sad\n",
            "07 disgust\n",
            "07 disgust\n",
            "07 sad\n",
            "07 surprised\n",
            "07 surprised\n",
            "07 angry\n",
            "07 fearful\n",
            "07 fearful\n",
            "07 angry\n",
            "07 disgust\n",
            "07 sad\n",
            "07 sad\n",
            "07 disgust\n",
            "07 happy\n",
            "07 happy\n",
            "07 calm\n",
            "07 neutral\n",
            "07 calm\n",
            "07 surprised\n",
            "07 surprised\n",
            "07 sad\n",
            "07 disgust\n",
            "07 disgust\n",
            "07 sad\n",
            "07 fearful\n",
            "07 angry\n",
            "07 angry\n",
            "07 fearful\n",
            "07 neutral\n",
            "07 calm\n",
            "07 calm\n",
            "07 happy\n",
            "07 happy\n",
            "07 calm\n",
            "07 neutral\n",
            "07 calm\n",
            "07 happy\n",
            "07 happy\n",
            "07 surprised\n",
            "07 surprised\n",
            "07 disgust\n",
            "07 sad\n",
            "07 sad\n",
            "07 disgust\n",
            "07 angry\n",
            "07 fearful\n",
            "07 fearful\n",
            "07 angry\n",
            "06 neutral\n",
            "06 calm\n",
            "06 calm\n",
            "06 happy\n",
            "06 happy\n",
            "06 surprised\n",
            "06 surprised\n",
            "06 sad\n",
            "06 disgust\n",
            "06 disgust\n",
            "06 sad\n",
            "06 fearful\n",
            "06 angry\n",
            "06 angry\n",
            "06 fearful\n",
            "06 surprised\n",
            "06 surprised\n",
            "06 disgust\n",
            "06 sad\n",
            "06 sad\n",
            "06 disgust\n",
            "06 angry\n",
            "06 fearful\n",
            "06 fearful\n",
            "06 angry\n",
            "06 calm\n",
            "06 neutral\n",
            "06 calm\n",
            "06 happy\n",
            "06 happy\n",
            "06 surprised\n",
            "06 surprised\n",
            "06 fearful\n",
            "06 angry\n",
            "06 angry\n",
            "06 fearful\n",
            "06 sad\n",
            "06 disgust\n",
            "06 disgust\n",
            "06 sad\n",
            "06 happy\n",
            "06 happy\n",
            "06 calm\n",
            "06 calm\n",
            "06 neutral\n",
            "06 happy\n",
            "06 happy\n",
            "06 calm\n",
            "06 neutral\n",
            "06 calm\n",
            "06 surprised\n",
            "06 surprised\n",
            "06 angry\n",
            "06 fearful\n",
            "06 fearful\n",
            "06 angry\n",
            "06 disgust\n",
            "06 sad\n",
            "06 sad\n",
            "06 disgust\n",
            "01 surprised\n",
            "01 surprised\n",
            "01 angry\n",
            "01 fearful\n",
            "01 fearful\n",
            "01 angry\n",
            "01 disgust\n",
            "01 sad\n",
            "01 sad\n",
            "01 disgust\n",
            "01 happy\n",
            "01 happy\n",
            "01 calm\n",
            "01 neutral\n",
            "01 calm\n",
            "01 happy\n",
            "01 happy\n",
            "01 calm\n",
            "01 calm\n",
            "01 neutral\n",
            "01 surprised\n",
            "01 surprised\n",
            "01 fearful\n",
            "01 angry\n",
            "01 angry\n",
            "01 fearful\n",
            "01 sad\n",
            "01 disgust\n",
            "01 disgust\n",
            "01 sad\n",
            "01 calm\n",
            "01 neutral\n",
            "01 calm\n",
            "01 happy\n",
            "01 happy\n",
            "01 surprised\n",
            "01 surprised\n",
            "01 disgust\n",
            "01 sad\n",
            "01 sad\n",
            "01 disgust\n",
            "01 angry\n",
            "01 fearful\n",
            "01 fearful\n",
            "01 angry\n",
            "01 surprised\n",
            "01 surprised\n",
            "01 sad\n",
            "01 disgust\n",
            "01 disgust\n",
            "01 sad\n",
            "01 fearful\n",
            "01 angry\n",
            "01 angry\n",
            "01 fearful\n",
            "01 neutral\n",
            "01 calm\n",
            "01 calm\n",
            "01 happy\n",
            "01 happy\n",
            "08 surprised\n",
            "08 surprised\n",
            "08 disgust\n",
            "08 sad\n",
            "08 sad\n",
            "08 disgust\n",
            "08 angry\n",
            "08 fearful\n",
            "08 fearful\n",
            "08 angry\n",
            "08 calm\n",
            "08 neutral\n",
            "08 calm\n",
            "08 happy\n",
            "08 happy\n",
            "08 neutral\n",
            "08 calm\n",
            "08 calm\n",
            "08 happy\n",
            "08 happy\n",
            "08 surprised\n",
            "08 surprised\n",
            "08 sad\n",
            "08 disgust\n",
            "08 disgust\n",
            "08 sad\n",
            "08 fearful\n",
            "08 angry\n",
            "08 angry\n",
            "08 fearful\n",
            "08 happy\n",
            "08 happy\n",
            "08 calm\n",
            "08 neutral\n",
            "08 calm\n",
            "08 surprised\n",
            "08 surprised\n",
            "08 angry\n",
            "08 fearful\n",
            "08 fearful\n",
            "08 angry\n",
            "08 disgust\n",
            "08 sad\n",
            "08 sad\n",
            "08 disgust\n",
            "08 surprised\n",
            "08 surprised\n",
            "08 fearful\n",
            "08 angry\n",
            "08 angry\n",
            "08 fearful\n",
            "08 sad\n",
            "08 disgust\n",
            "08 disgust\n",
            "08 sad\n",
            "08 happy\n",
            "08 happy\n",
            "08 calm\n",
            "08 calm\n",
            "08 neutral\n"
          ],
          "name": "stdout"
        },
        {
          "output_type": "display_data",
          "data": {
            "image/png": "[encoded data removed]",
            "text/plain": [
              "<Figure size 432x288 with 1 Axes>"
            ]
          },
          "metadata": {
            "tags": [],
            "needs_background": "light"
          }
        }
      ]
    },
    {
      "cell_type": "markdown",
      "metadata": {
        "id": "zpVHRlwTbYpU",
        "colab_type": "text"
      },
      "source": [
        "# Speed N Pitch"
      ]
    },
    {
      "cell_type": "code",
      "metadata": {
        "id": "rS4HdDGabYpV",
        "colab_type": "code",
        "colab": {}
      },
      "source": [
        "fname = audio + 'Actor_09/03-01-04-02-02-02-09.wav'  \n",
        "y, sr = librosa.load(fname)\n",
        "yt,_=librosa.effects.trim(y)"
      ],
      "execution_count": null,
      "outputs": []
    },
    {
      "cell_type": "code",
      "metadata": {
        "id": "2q5CbwgHbYpX",
        "colab_type": "code",
        "colab": {}
      },
      "source": [
        "y=yt"
      ],
      "execution_count": null,
      "outputs": []
    },
    {
      "cell_type": "code",
      "metadata": {
        "id": "Mmt5v6W0bYpa",
        "colab_type": "code",
        "colab": {}
      },
      "source": [
        "# FUNCTION TO INCREASE SPEED AND PITCH \n",
        "def speedNpitch(y):\n",
        "    length_change = np.random.uniform(low=0.8, high = 1)\n",
        "    speed_fac = 1.4  / length_change \n",
        "    tmp = np.interp(np.arange(0,len(y),speed_fac),np.arange(0,len(y)),y)\n",
        "    minlen = min(y.shape[0], tmp.shape[0])\n",
        "    y *= 0\n",
        "    y[0:minlen] = tmp[0:minlen]\n",
        "    return y"
      ],
      "execution_count": null,
      "outputs": []
    },
    {
      "cell_type": "code",
      "metadata": {
        "id": "Yr9yObcgbYpc",
        "colab_type": "code",
        "colab": {},
        "outputId": "7de46fe2-7e04-409a-974e-114b82d03e4f"
      },
      "source": [
        "y= speedNpitch(y)\n",
        "y = librosa.feature.melspectrogram(y=y, sr=sr, n_mels=128,fmax=8000)\n",
        "db_spec = librosa.power_to_db(y)\n",
        "librosa.display.specshow(db_spec, y_axis='mel', fmax=20000, x_axis='time');"
      ],
      "execution_count": null,
      "outputs": [
        {
          "output_type": "display_data",
          "data": {
            "image/png": "[encoded data removed]",
            "text/plain": [
              "<Figure size 432x288 with 1 Axes>"
            ]
          },
          "metadata": {
            "tags": [],
            "needs_background": "light"
          }
        }
      ]
    },
    {
      "cell_type": "code",
      "metadata": {
        "id": "jQqyUAe8bYpe",
        "colab_type": "code",
        "colab": {}
      },
      "source": [
        "import re\n",
        "counter=0\n",
        "for folders in folders_main :\n",
        "    path_in='/Users/murielkosaka/Desktop/capstone_project/audio/audio_speech_actors_01-24/{0}'.format(folders)\n",
        "    files_sub=os.listdir(path_in)\n",
        "    for file in files_sub :\n",
        "        numbers = re.findall('\\d+',file)\n",
        "        emotion=dicts[numbers[2]]\n",
        "        print (numbers[6],emotion)\n",
        "        path_save='/Users/murielkosaka/Desktop/capstone_project/audio/speednpitch/{0}/{1}.jpeg'.format(emotion,file)\n",
        "        path_load='{0}/{1}'.format(path_in,file)\n",
        "        y, sr = librosa.load(path_load)\n",
        "        yt,_=librosa.effects.trim(y)\n",
        "        y=yt\n",
        "        y= speedNpitch(y)\n",
        "        y = librosa.feature.melspectrogram(y=y, sr=sr, n_mels=128,fmax=8000)\n",
        "        db_spec = librosa.power_to_db(y)\n",
        "        librosa.display.specshow(db_spec, y_axis='mel', fmax=20000, x_axis='time');\n",
        "        plt.savefig(path_save)"
      ],
      "execution_count": null,
      "outputs": []
    },
    {
      "cell_type": "code",
      "metadata": {
        "id": "fa9epF1_bYpg",
        "colab_type": "code",
        "colab": {}
      },
      "source": [
        "import re\n",
        "counter=0\n",
        "for folders in folders_main :\n",
        "    path_in='/Users/murielkosaka/Desktop/capstone_project/audio/audio_speech_actors_01-24/{0}'.format(folders)\n",
        "    files_sub=os.listdir(path_in)\n",
        "    for file in files_sub :\n",
        "        numbers = re.findall('\\d+',file)\n",
        "        emotion=dicts[numbers[2]]\n",
        "        print (numbers[6],emotion)\n",
        "        path_save='/Users/murielkosaka/Desktop/capstone_project/audio/speednpitch/{0}/{1}.jpeg'.format(emotion,file)\n",
        "        path_load='{0}/{1}'.format(path_in,file)\n",
        "        y, sr = librosa.load(path_load)\n",
        "        yt,_=librosa.effects.trim(y)\n",
        "        y=yt\n",
        "        y= speedNpitch(y)\n",
        "        y = librosa.feature.melspectrogram(y=y, sr=sr, n_mels=128,fmax=8000)\n",
        "        db_spec = librosa.power_to_db(y)\n",
        "        librosa.display.specshow(db_spec, y_axis='mel', fmax=20000, x_axis='time');\n",
        "        plt.savefig(path_save)"
      ],
      "execution_count": null,
      "outputs": []
    },
    {
      "cell_type": "markdown",
      "metadata": {
        "id": "JWW_r40nhK1M",
        "colab_type": "text"
      },
      "source": [
        "# Transfer Learning"
      ]
    },
    {
      "cell_type": "markdown",
      "metadata": {
        "id": "9YimBZgrm7ud",
        "colab_type": "text"
      },
      "source": [
        "## Attach labels to Stretch"
      ]
    },
    {
      "cell_type": "code",
      "metadata": {
        "id": "v2UlcI4Gmka7",
        "colab_type": "code",
        "colab": {}
      },
      "source": [
        "def get_images(directory):\n",
        "    Images = []\n",
        "    Labels = []  \n",
        "    label = 0\n",
        "    \n",
        "    for labels in os.listdir(directory): \n",
        "        if labels == 'angry': \n",
        "            label = 'angry'\n",
        "        elif labels == 'calm':\n",
        "            label = 'calm'\n",
        "        elif labels == 'disgust':\n",
        "            label = 'disgust'\n",
        "        elif labels == 'fearful':\n",
        "            label = 'fearful'\n",
        "        elif labels == 'happy':\n",
        "            label = 'happy'\n",
        "        elif labels == 'neutral':\n",
        "            label = 'neutral'\n",
        "        elif labels == 'sad':\n",
        "            label = 'sad'\n",
        "        elif labels == 'surprised':\n",
        "            label = 'surprised'\n",
        "        \n",
        "        for image_file in os.listdir(directory+labels): #Extracting the file name of the image from Class Label folder\n",
        "            image = cv2.imread(directory+labels+r'/'+image_file) #Reading the image (OpenCV)\n",
        "            image = cv2.resize(image,(75,75)) #Resize the image, Some images are different sizes. (Resizing is very Important)\n",
        "            # image= cv2.cvtColor(image, cv2.COLOR_RGB2BGR)\n",
        "            Images.append(image)\n",
        "            Labels.append(label)\n",
        "    \n",
        "    return shuffle(Images,Labels,random_state=200) #Shuffle the dataset you just prepared.\n",
        "\n",
        "def get_classlabel(class_code):\n",
        "    labels = {'angry':'angry', 'calm':'calm', 'disgust':'disgust', 'fearful':'fearful', 'happy':'happy', 'neutral':'neutral','sad':'sad','surprised':'surprised'}\n",
        "    \n",
        "    return labels[class_code]"
      ],
      "execution_count": 5,
      "outputs": []
    },
    {
      "cell_type": "code",
      "metadata": {
        "id": "WEU5ZCzxmkht",
        "colab_type": "code",
        "colab": {
          "base_uri": "https://localhost:8080/",
          "height": 351
        },
        "outputId": "a2651255-2c04-4bf5-defa-292110c16c0d"
      },
      "source": [
        "Images, Labels = get_images('/content/drive/My Drive/stretch/') #Extract the training images from the folders.\n"
      ],
      "execution_count": 6,
      "outputs": [
        {
          "output_type": "error",
          "ename": "FileNotFoundError",
          "evalue": "ignored",
          "traceback": [
            "\u001b[0;31m---------------------------------------------------------------------------\u001b[0m",
            "\u001b[0;31mFileNotFoundError\u001b[0m                         Traceback (most recent call last)",
            "\u001b[0;32m<ipython-input-6-1a1800997a3e>\u001b[0m in \u001b[0;36m<module>\u001b[0;34m()\u001b[0m\n\u001b[0;32m----> 1\u001b[0;31m \u001b[0mImages\u001b[0m\u001b[0;34m,\u001b[0m \u001b[0mLabels\u001b[0m \u001b[0;34m=\u001b[0m \u001b[0mget_images\u001b[0m\u001b[0;34m(\u001b[0m\u001b[0;34m'/content/drive/My Drive/stretch/'\u001b[0m\u001b[0;34m)\u001b[0m \u001b[0;31m#Extract the training images from the folders.\u001b[0m\u001b[0;34m\u001b[0m\u001b[0;34m\u001b[0m\u001b[0m\n\u001b[0m",
            "\u001b[0;32m<ipython-input-5-944b135e23f6>\u001b[0m in \u001b[0;36mget_images\u001b[0;34m(directory)\u001b[0m\n\u001b[1;32m      4\u001b[0m     \u001b[0mlabel\u001b[0m \u001b[0;34m=\u001b[0m \u001b[0;36m0\u001b[0m\u001b[0;34m\u001b[0m\u001b[0;34m\u001b[0m\u001b[0m\n\u001b[1;32m      5\u001b[0m \u001b[0;34m\u001b[0m\u001b[0m\n\u001b[0;32m----> 6\u001b[0;31m     \u001b[0;32mfor\u001b[0m \u001b[0mlabels\u001b[0m \u001b[0;32min\u001b[0m \u001b[0mos\u001b[0m\u001b[0;34m.\u001b[0m\u001b[0mlistdir\u001b[0m\u001b[0;34m(\u001b[0m\u001b[0mdirectory\u001b[0m\u001b[0;34m)\u001b[0m\u001b[0;34m:\u001b[0m\u001b[0;34m\u001b[0m\u001b[0;34m\u001b[0m\u001b[0m\n\u001b[0m\u001b[1;32m      7\u001b[0m         \u001b[0;32mif\u001b[0m \u001b[0mlabels\u001b[0m \u001b[0;34m==\u001b[0m \u001b[0;34m'angry'\u001b[0m\u001b[0;34m:\u001b[0m\u001b[0;34m\u001b[0m\u001b[0;34m\u001b[0m\u001b[0m\n\u001b[1;32m      8\u001b[0m             \u001b[0mlabel\u001b[0m \u001b[0;34m=\u001b[0m \u001b[0;34m'angry'\u001b[0m\u001b[0;34m\u001b[0m\u001b[0;34m\u001b[0m\u001b[0m\n",
            "\u001b[0;31mFileNotFoundError\u001b[0m: [Errno 2] No such file or directory: '/content/drive/My Drive/stretch/'"
          ]
        }
      ]
    },
    {
      "cell_type": "markdown",
      "metadata": {
        "id": "Av-6Hw3WjwaU",
        "colab_type": "text"
      },
      "source": [
        "# Process Images for Transfer Learning"
      ]
    },
    {
      "cell_type": "code",
      "metadata": {
        "id": "txqmwy-y_L-t",
        "colab_type": "code",
        "colab": {}
      },
      "source": [
        "from sklearn.model_selection import train_test_split\n",
        "X_model, X_test, y_model, y_test = train_test_split(Images, Labels, test_size=0.3,random_state=22, stratify=Labels)\n",
        "X_train, X_val, y_train, y_val = train_test_split(X_model, y_model, test_size=0.3,random_state=22,stratify=y_model)\n"
      ],
      "execution_count": null,
      "outputs": []
    },
    {
      "cell_type": "code",
      "metadata": {
        "id": "SvR4kHHY_gSC",
        "colab_type": "code",
        "colab": {}
      },
      "source": [
        "from keras.utils import np_utils, to_categorical\n",
        "\n",
        "lb = LabelEncoder()\n",
        "\n",
        "X_train=np.array(X_train)/255\n",
        "# y_train = to_categorical(lb.fit_transform(y_train),num_classes=8)\n",
        "\n",
        "X_test=np.array(X_test)/255\n",
        "# y_test = to_categorical(lb.fit_transform(y_test),num_classes=8)\n",
        "\n",
        "X_val=np.array(X_val)/255\n",
        "# y_val = to_categorical(lb.fit_transform(y_val),num_classes=8)\n",
        "\n",
        "\n",
        "\n",
        "y_val=np_utils.to_categorical(lb.fit_transform(y_val))\n",
        "y_train = np_utils.to_categorical(lb.fit_transform(y_train))\n",
        "y_test = np_utils.to_categorical(lb.fit_transform(y_test))"
      ],
      "execution_count": null,
      "outputs": []
    },
    {
      "cell_type": "code",
      "metadata": {
        "id": "V_wNojTShNN6",
        "colab_type": "code",
        "colab": {
          "base_uri": "https://localhost:8080/",
          "height": 34
        },
        "outputId": "4385e3bc-d306-40b5-8ac4-9c94f48e7696"
      },
      "source": [
        "X_test.shape"
      ],
      "execution_count": null,
      "outputs": [
        {
          "output_type": "execute_result",
          "data": {
            "text/plain": [
              "(1728, 75, 75, 3)"
            ]
          },
          "metadata": {
            "tags": []
          },
          "execution_count": 46
        }
      ]
    },
    {
      "cell_type": "code",
      "metadata": {
        "id": "yf_MLFUphRWT",
        "colab_type": "code",
        "colab": {
          "base_uri": "https://localhost:8080/",
          "height": 34
        },
        "outputId": "e332e516-edca-4084-f6b2-e5aa35a3ca26"
      },
      "source": [
        "X_train.shape"
      ],
      "execution_count": null,
      "outputs": [
        {
          "output_type": "execute_result",
          "data": {
            "text/plain": [
              "(2822, 75, 75, 3)"
            ]
          },
          "metadata": {
            "tags": []
          },
          "execution_count": 47
        }
      ]
    },
    {
      "cell_type": "code",
      "metadata": {
        "id": "x8jaO-M2hR4S",
        "colab_type": "code",
        "colab": {
          "base_uri": "https://localhost:8080/",
          "height": 34
        },
        "outputId": "a447445a-0722-4732-8965-d0824c96cff9"
      },
      "source": [
        "X_val.shape"
      ],
      "execution_count": null,
      "outputs": [
        {
          "output_type": "execute_result",
          "data": {
            "text/plain": [
              "(1210, 75, 75, 3)"
            ]
          },
          "metadata": {
            "tags": []
          },
          "execution_count": 48
        }
      ]
    },
    {
      "cell_type": "code",
      "metadata": {
        "id": "Kn0ifELuhU9j",
        "colab_type": "code",
        "colab": {
          "base_uri": "https://localhost:8080/",
          "height": 136
        },
        "outputId": "4300343a-ce4a-49a2-a396-fc4d854d0d2a"
      },
      "source": [
        "print(y_test)"
      ],
      "execution_count": null,
      "outputs": [
        {
          "output_type": "stream",
          "text": [
            "[[1. 0. 0. ... 0. 0. 0.]\n",
            " [0. 0. 0. ... 0. 0. 1.]\n",
            " [0. 0. 0. ... 0. 1. 0.]\n",
            " ...\n",
            " [0. 0. 0. ... 0. 0. 1.]\n",
            " [0. 0. 0. ... 0. 0. 1.]\n",
            " [1. 0. 0. ... 0. 0. 0.]]\n"
          ],
          "name": "stdout"
        }
      ]
    },
    {
      "cell_type": "code",
      "metadata": {
        "id": "qAZrK4gRhagb",
        "colab_type": "code",
        "colab": {
          "base_uri": "https://localhost:8080/",
          "height": 164
        },
        "outputId": "612b5d06-d451-4107-b02c-8f2271975c07"
      },
      "source": [
        "print(lb.classes_)"
      ],
      "execution_count": null,
      "outputs": [
        {
          "output_type": "error",
          "ename": "AttributeError",
          "evalue": "ignored",
          "traceback": [
            "\u001b[0;31m---------------------------------------------------------------------------\u001b[0m",
            "\u001b[0;31mAttributeError\u001b[0m                            Traceback (most recent call last)",
            "\u001b[0;32m<ipython-input-18-4cf0f454adad>\u001b[0m in \u001b[0;36m<module>\u001b[0;34m()\u001b[0m\n\u001b[0;32m----> 1\u001b[0;31m \u001b[0mprint\u001b[0m\u001b[0;34m(\u001b[0m\u001b[0mlb\u001b[0m\u001b[0;34m.\u001b[0m\u001b[0mclasses_\u001b[0m\u001b[0;34m)\u001b[0m\u001b[0;34m\u001b[0m\u001b[0;34m\u001b[0m\u001b[0m\n\u001b[0m",
            "\u001b[0;31mAttributeError\u001b[0m: 'LabelEncoder' object has no attribute 'classes_'"
          ]
        }
      ]
    },
    {
      "cell_type": "code",
      "metadata": {
        "id": "orKQPhWshbc1",
        "colab_type": "code",
        "colab": {}
      },
      "source": [
        ""
      ],
      "execution_count": null,
      "outputs": []
    },
    {
      "cell_type": "markdown",
      "metadata": {
        "id": "XxwC_IXNhgIT",
        "colab_type": "text"
      },
      "source": [
        "# VGG16"
      ]
    },
    {
      "cell_type": "code",
      "metadata": {
        "id": "HDMrNhTHhhK1",
        "colab_type": "code",
        "colab": {}
      },
      "source": [
        "from keras import applications\n",
        "\n",
        "model = applications.VGG16(weights = \"imagenet\", include_top=False, input_shape = (75, 75, 3),pooling='avg')"
      ],
      "execution_count": null,
      "outputs": []
    },
    {
      "cell_type": "code",
      "metadata": {
        "id": "hRwF3O5khhqC",
        "colab_type": "code",
        "colab": {}
      },
      "source": [
        "# freezing the layers \n",
        "for layer in model.layers[:17]:\n",
        "    layer.trainable = False\n",
        "\n",
        "\n",
        "#Adding custom Layers \n",
        "\n",
        "x = model.output\n",
        "x = Flatten()(x)\n",
        "x = Dense(256, activation=\"relu\")(x)\n",
        "x = Dropout(0.4)(x)"
      ],
      "execution_count": null,
      "outputs": []
    },
    {
      "cell_type": "code",
      "metadata": {
        "id": "ZpSsxy9Whkk6",
        "colab_type": "code",
        "colab": {}
      },
      "source": [
        "predictions = Dense(8, activation=\"softmax\")(x)\n",
        "\n",
        "# creating the final model \n",
        "model_final = Model(inputs = model.input, outputs = predictions)\n",
        "\n",
        "# compile the model \n",
        "model_final.compile(loss = \"categorical_crossentropy\", optimizer = 'adam', metrics=[\"accuracy\"])"
      ],
      "execution_count": null,
      "outputs": []
    },
    {
      "cell_type": "code",
      "metadata": {
        "id": "vtSYdBQphnKR",
        "colab_type": "code",
        "colab": {
          "base_uri": "https://localhost:8080/",
          "height": 969
        },
        "outputId": "32dd4c50-a32e-48b2-c24e-64e0defeea4a"
      },
      "source": [
        "model_final.summary()"
      ],
      "execution_count": null,
      "outputs": [
        {
          "output_type": "stream",
          "text": [
            "Model: \"functional_11\"\n",
            "_________________________________________________________________\n",
            "Layer (type)                 Output Shape              Param #   \n",
            "=================================================================\n",
            "input_5 (InputLayer)         [(None, 75, 75, 3)]       0         \n",
            "_________________________________________________________________\n",
            "block1_conv1 (Conv2D)        (None, 75, 75, 64)        1792      \n",
            "_________________________________________________________________\n",
            "block1_conv2 (Conv2D)        (None, 75, 75, 64)        36928     \n",
            "_________________________________________________________________\n",
            "block1_pool (MaxPooling2D)   (None, 37, 37, 64)        0         \n",
            "_________________________________________________________________\n",
            "block2_conv1 (Conv2D)        (None, 37, 37, 128)       73856     \n",
            "_________________________________________________________________\n",
            "block2_conv2 (Conv2D)        (None, 37, 37, 128)       147584    \n",
            "_________________________________________________________________\n",
            "block2_pool (MaxPooling2D)   (None, 18, 18, 128)       0         \n",
            "_________________________________________________________________\n",
            "block3_conv1 (Conv2D)        (None, 18, 18, 256)       295168    \n",
            "_________________________________________________________________\n",
            "block3_conv2 (Conv2D)        (None, 18, 18, 256)       590080    \n",
            "_________________________________________________________________\n",
            "block3_conv3 (Conv2D)        (None, 18, 18, 256)       590080    \n",
            "_________________________________________________________________\n",
            "block3_pool (MaxPooling2D)   (None, 9, 9, 256)         0         \n",
            "_________________________________________________________________\n",
            "block4_conv1 (Conv2D)        (None, 9, 9, 512)         1180160   \n",
            "_________________________________________________________________\n",
            "block4_conv2 (Conv2D)        (None, 9, 9, 512)         2359808   \n",
            "_________________________________________________________________\n",
            "block4_conv3 (Conv2D)        (None, 9, 9, 512)         2359808   \n",
            "_________________________________________________________________\n",
            "block4_pool (MaxPooling2D)   (None, 4, 4, 512)         0         \n",
            "_________________________________________________________________\n",
            "block5_conv1 (Conv2D)        (None, 4, 4, 512)         2359808   \n",
            "_________________________________________________________________\n",
            "block5_conv2 (Conv2D)        (None, 4, 4, 512)         2359808   \n",
            "_________________________________________________________________\n",
            "block5_conv3 (Conv2D)        (None, 4, 4, 512)         2359808   \n",
            "_________________________________________________________________\n",
            "block5_pool (MaxPooling2D)   (None, 2, 2, 512)         0         \n",
            "_________________________________________________________________\n",
            "global_average_pooling2d_4 ( (None, 512)               0         \n",
            "_________________________________________________________________\n",
            "flatten_5 (Flatten)          (None, 512)               0         \n",
            "_________________________________________________________________\n",
            "dense_14 (Dense)             (None, 256)               131328    \n",
            "_________________________________________________________________\n",
            "dropout_10 (Dropout)         (None, 256)               0         \n",
            "_________________________________________________________________\n",
            "dense_15 (Dense)             (None, 8)                 2056      \n",
            "=================================================================\n",
            "Total params: 14,848,072\n",
            "Trainable params: 2,493,192\n",
            "Non-trainable params: 12,354,880\n",
            "_________________________________________________________________\n"
          ],
          "name": "stdout"
        }
      ]
    },
    {
      "cell_type": "code",
      "metadata": {
        "id": "XOl6wX4whpJJ",
        "colab_type": "code",
        "colab": {
          "base_uri": "https://localhost:8080/",
          "height": 375
        },
        "outputId": "82b0fef5-774f-4b4f-cba7-dcba1c92bca7"
      },
      "source": [
        "history = model_final.fit(X_train,y_trainHot, batch_size=32,epochs= 10, validation_data= (X_val,y_valHot))\n"
      ],
      "execution_count": null,
      "outputs": [
        {
          "output_type": "stream",
          "text": [
            "Epoch 1/10\n",
            "89/89 [==============================] - 214s 2s/step - loss: 2.1124 - accuracy: 0.1269 - val_loss: 2.0691 - val_accuracy: 0.1207\n",
            "Epoch 2/10\n",
            "89/89 [==============================] - ETA: 0s - loss: 2.0703 - accuracy: 0.1396"
          ],
          "name": "stdout"
        },
        {
          "output_type": "error",
          "ename": "KeyboardInterrupt",
          "evalue": "ignored",
          "traceback": [
            "\u001b[0;31m---------------------------------------------------------------------------\u001b[0m",
            "\u001b[0;31mKeyboardInterrupt\u001b[0m                         Traceback (most recent call last)",
            "\u001b[0;32m<ipython-input-53-cefdd79fd8c8>\u001b[0m in \u001b[0;36m<module>\u001b[0;34m()\u001b[0m\n\u001b[0;32m----> 1\u001b[0;31m \u001b[0mhistory\u001b[0m \u001b[0;34m=\u001b[0m \u001b[0mmodel_final\u001b[0m\u001b[0;34m.\u001b[0m\u001b[0mfit\u001b[0m\u001b[0;34m(\u001b[0m\u001b[0mX_train\u001b[0m\u001b[0;34m,\u001b[0m\u001b[0my_trainHot\u001b[0m\u001b[0;34m,\u001b[0m \u001b[0mbatch_size\u001b[0m\u001b[0;34m=\u001b[0m\u001b[0;36m32\u001b[0m\u001b[0;34m,\u001b[0m\u001b[0mepochs\u001b[0m\u001b[0;34m=\u001b[0m \u001b[0;36m10\u001b[0m\u001b[0;34m,\u001b[0m \u001b[0mvalidation_data\u001b[0m\u001b[0;34m=\u001b[0m \u001b[0;34m(\u001b[0m\u001b[0mX_val\u001b[0m\u001b[0;34m,\u001b[0m\u001b[0my_valHot\u001b[0m\u001b[0;34m)\u001b[0m\u001b[0;34m)\u001b[0m\u001b[0;34m\u001b[0m\u001b[0;34m\u001b[0m\u001b[0m\n\u001b[0m",
            "\u001b[0;32m/usr/local/lib/python3.6/dist-packages/tensorflow/python/keras/engine/training.py\u001b[0m in \u001b[0;36m_method_wrapper\u001b[0;34m(self, *args, **kwargs)\u001b[0m\n\u001b[1;32m    106\u001b[0m   \u001b[0;32mdef\u001b[0m \u001b[0m_method_wrapper\u001b[0m\u001b[0;34m(\u001b[0m\u001b[0mself\u001b[0m\u001b[0;34m,\u001b[0m \u001b[0;34m*\u001b[0m\u001b[0margs\u001b[0m\u001b[0;34m,\u001b[0m \u001b[0;34m**\u001b[0m\u001b[0mkwargs\u001b[0m\u001b[0;34m)\u001b[0m\u001b[0;34m:\u001b[0m\u001b[0;34m\u001b[0m\u001b[0;34m\u001b[0m\u001b[0m\n\u001b[1;32m    107\u001b[0m     \u001b[0;32mif\u001b[0m \u001b[0;32mnot\u001b[0m \u001b[0mself\u001b[0m\u001b[0;34m.\u001b[0m\u001b[0m_in_multi_worker_mode\u001b[0m\u001b[0;34m(\u001b[0m\u001b[0;34m)\u001b[0m\u001b[0;34m:\u001b[0m  \u001b[0;31m# pylint: disable=protected-access\u001b[0m\u001b[0;34m\u001b[0m\u001b[0;34m\u001b[0m\u001b[0m\n\u001b[0;32m--> 108\u001b[0;31m       \u001b[0;32mreturn\u001b[0m \u001b[0mmethod\u001b[0m\u001b[0;34m(\u001b[0m\u001b[0mself\u001b[0m\u001b[0;34m,\u001b[0m \u001b[0;34m*\u001b[0m\u001b[0margs\u001b[0m\u001b[0;34m,\u001b[0m \u001b[0;34m**\u001b[0m\u001b[0mkwargs\u001b[0m\u001b[0;34m)\u001b[0m\u001b[0;34m\u001b[0m\u001b[0;34m\u001b[0m\u001b[0m\n\u001b[0m\u001b[1;32m    109\u001b[0m \u001b[0;34m\u001b[0m\u001b[0m\n\u001b[1;32m    110\u001b[0m     \u001b[0;31m# Running inside `run_distribute_coordinator` already.\u001b[0m\u001b[0;34m\u001b[0m\u001b[0;34m\u001b[0m\u001b[0;34m\u001b[0m\u001b[0m\n",
            "\u001b[0;32m/usr/local/lib/python3.6/dist-packages/tensorflow/python/keras/engine/training.py\u001b[0m in \u001b[0;36mfit\u001b[0;34m(self, x, y, batch_size, epochs, verbose, callbacks, validation_split, validation_data, shuffle, class_weight, sample_weight, initial_epoch, steps_per_epoch, validation_steps, validation_batch_size, validation_freq, max_queue_size, workers, use_multiprocessing)\u001b[0m\n\u001b[1;32m   1131\u001b[0m               \u001b[0mworkers\u001b[0m\u001b[0;34m=\u001b[0m\u001b[0mworkers\u001b[0m\u001b[0;34m,\u001b[0m\u001b[0;34m\u001b[0m\u001b[0;34m\u001b[0m\u001b[0m\n\u001b[1;32m   1132\u001b[0m               \u001b[0muse_multiprocessing\u001b[0m\u001b[0;34m=\u001b[0m\u001b[0muse_multiprocessing\u001b[0m\u001b[0;34m,\u001b[0m\u001b[0;34m\u001b[0m\u001b[0;34m\u001b[0m\u001b[0m\n\u001b[0;32m-> 1133\u001b[0;31m               return_dict=True)\n\u001b[0m\u001b[1;32m   1134\u001b[0m           \u001b[0mval_logs\u001b[0m \u001b[0;34m=\u001b[0m \u001b[0;34m{\u001b[0m\u001b[0;34m'val_'\u001b[0m \u001b[0;34m+\u001b[0m \u001b[0mname\u001b[0m\u001b[0;34m:\u001b[0m \u001b[0mval\u001b[0m \u001b[0;32mfor\u001b[0m \u001b[0mname\u001b[0m\u001b[0;34m,\u001b[0m \u001b[0mval\u001b[0m \u001b[0;32min\u001b[0m \u001b[0mval_logs\u001b[0m\u001b[0;34m.\u001b[0m\u001b[0mitems\u001b[0m\u001b[0;34m(\u001b[0m\u001b[0;34m)\u001b[0m\u001b[0;34m}\u001b[0m\u001b[0;34m\u001b[0m\u001b[0;34m\u001b[0m\u001b[0m\n\u001b[1;32m   1135\u001b[0m           \u001b[0mepoch_logs\u001b[0m\u001b[0;34m.\u001b[0m\u001b[0mupdate\u001b[0m\u001b[0;34m(\u001b[0m\u001b[0mval_logs\u001b[0m\u001b[0;34m)\u001b[0m\u001b[0;34m\u001b[0m\u001b[0;34m\u001b[0m\u001b[0m\n",
            "\u001b[0;32m/usr/local/lib/python3.6/dist-packages/tensorflow/python/keras/engine/training.py\u001b[0m in \u001b[0;36m_method_wrapper\u001b[0;34m(self, *args, **kwargs)\u001b[0m\n\u001b[1;32m    106\u001b[0m   \u001b[0;32mdef\u001b[0m \u001b[0m_method_wrapper\u001b[0m\u001b[0;34m(\u001b[0m\u001b[0mself\u001b[0m\u001b[0;34m,\u001b[0m \u001b[0;34m*\u001b[0m\u001b[0margs\u001b[0m\u001b[0;34m,\u001b[0m \u001b[0;34m**\u001b[0m\u001b[0mkwargs\u001b[0m\u001b[0;34m)\u001b[0m\u001b[0;34m:\u001b[0m\u001b[0;34m\u001b[0m\u001b[0;34m\u001b[0m\u001b[0m\n\u001b[1;32m    107\u001b[0m     \u001b[0;32mif\u001b[0m \u001b[0;32mnot\u001b[0m \u001b[0mself\u001b[0m\u001b[0;34m.\u001b[0m\u001b[0m_in_multi_worker_mode\u001b[0m\u001b[0;34m(\u001b[0m\u001b[0;34m)\u001b[0m\u001b[0;34m:\u001b[0m  \u001b[0;31m# pylint: disable=protected-access\u001b[0m\u001b[0;34m\u001b[0m\u001b[0;34m\u001b[0m\u001b[0m\n\u001b[0;32m--> 108\u001b[0;31m       \u001b[0;32mreturn\u001b[0m \u001b[0mmethod\u001b[0m\u001b[0;34m(\u001b[0m\u001b[0mself\u001b[0m\u001b[0;34m,\u001b[0m \u001b[0;34m*\u001b[0m\u001b[0margs\u001b[0m\u001b[0;34m,\u001b[0m \u001b[0;34m**\u001b[0m\u001b[0mkwargs\u001b[0m\u001b[0;34m)\u001b[0m\u001b[0;34m\u001b[0m\u001b[0;34m\u001b[0m\u001b[0m\n\u001b[0m\u001b[1;32m    109\u001b[0m \u001b[0;34m\u001b[0m\u001b[0m\n\u001b[1;32m    110\u001b[0m     \u001b[0;31m# Running inside `run_distribute_coordinator` already.\u001b[0m\u001b[0;34m\u001b[0m\u001b[0;34m\u001b[0m\u001b[0;34m\u001b[0m\u001b[0m\n",
            "\u001b[0;32m/usr/local/lib/python3.6/dist-packages/tensorflow/python/keras/engine/training.py\u001b[0m in \u001b[0;36mevaluate\u001b[0;34m(self, x, y, batch_size, verbose, sample_weight, steps, callbacks, max_queue_size, workers, use_multiprocessing, return_dict)\u001b[0m\n\u001b[1;32m   1377\u001b[0m             \u001b[0;32mwith\u001b[0m \u001b[0mtrace\u001b[0m\u001b[0;34m.\u001b[0m\u001b[0mTrace\u001b[0m\u001b[0;34m(\u001b[0m\u001b[0;34m'TraceContext'\u001b[0m\u001b[0;34m,\u001b[0m \u001b[0mgraph_type\u001b[0m\u001b[0;34m=\u001b[0m\u001b[0;34m'test'\u001b[0m\u001b[0;34m,\u001b[0m \u001b[0mstep_num\u001b[0m\u001b[0;34m=\u001b[0m\u001b[0mstep\u001b[0m\u001b[0;34m)\u001b[0m\u001b[0;34m:\u001b[0m\u001b[0;34m\u001b[0m\u001b[0;34m\u001b[0m\u001b[0m\n\u001b[1;32m   1378\u001b[0m               \u001b[0mcallbacks\u001b[0m\u001b[0;34m.\u001b[0m\u001b[0mon_test_batch_begin\u001b[0m\u001b[0;34m(\u001b[0m\u001b[0mstep\u001b[0m\u001b[0;34m)\u001b[0m\u001b[0;34m\u001b[0m\u001b[0;34m\u001b[0m\u001b[0m\n\u001b[0;32m-> 1379\u001b[0;31m               \u001b[0mtmp_logs\u001b[0m \u001b[0;34m=\u001b[0m \u001b[0mtest_function\u001b[0m\u001b[0;34m(\u001b[0m\u001b[0miterator\u001b[0m\u001b[0;34m)\u001b[0m\u001b[0;34m\u001b[0m\u001b[0;34m\u001b[0m\u001b[0m\n\u001b[0m\u001b[1;32m   1380\u001b[0m               \u001b[0;32mif\u001b[0m \u001b[0mdata_handler\u001b[0m\u001b[0;34m.\u001b[0m\u001b[0mshould_sync\u001b[0m\u001b[0;34m:\u001b[0m\u001b[0;34m\u001b[0m\u001b[0;34m\u001b[0m\u001b[0m\n\u001b[1;32m   1381\u001b[0m                 \u001b[0mcontext\u001b[0m\u001b[0;34m.\u001b[0m\u001b[0masync_wait\u001b[0m\u001b[0;34m(\u001b[0m\u001b[0;34m)\u001b[0m\u001b[0;34m\u001b[0m\u001b[0;34m\u001b[0m\u001b[0m\n",
            "\u001b[0;32m/usr/local/lib/python3.6/dist-packages/tensorflow/python/eager/def_function.py\u001b[0m in \u001b[0;36m__call__\u001b[0;34m(self, *args, **kwds)\u001b[0m\n\u001b[1;32m    778\u001b[0m       \u001b[0;32melse\u001b[0m\u001b[0;34m:\u001b[0m\u001b[0;34m\u001b[0m\u001b[0;34m\u001b[0m\u001b[0m\n\u001b[1;32m    779\u001b[0m         \u001b[0mcompiler\u001b[0m \u001b[0;34m=\u001b[0m \u001b[0;34m\"nonXla\"\u001b[0m\u001b[0;34m\u001b[0m\u001b[0;34m\u001b[0m\u001b[0m\n\u001b[0;32m--> 780\u001b[0;31m         \u001b[0mresult\u001b[0m \u001b[0;34m=\u001b[0m \u001b[0mself\u001b[0m\u001b[0;34m.\u001b[0m\u001b[0m_call\u001b[0m\u001b[0;34m(\u001b[0m\u001b[0;34m*\u001b[0m\u001b[0margs\u001b[0m\u001b[0;34m,\u001b[0m \u001b[0;34m**\u001b[0m\u001b[0mkwds\u001b[0m\u001b[0;34m)\u001b[0m\u001b[0;34m\u001b[0m\u001b[0;34m\u001b[0m\u001b[0m\n\u001b[0m\u001b[1;32m    781\u001b[0m \u001b[0;34m\u001b[0m\u001b[0m\n\u001b[1;32m    782\u001b[0m       \u001b[0mnew_tracing_count\u001b[0m \u001b[0;34m=\u001b[0m \u001b[0mself\u001b[0m\u001b[0;34m.\u001b[0m\u001b[0m_get_tracing_count\u001b[0m\u001b[0;34m(\u001b[0m\u001b[0;34m)\u001b[0m\u001b[0;34m\u001b[0m\u001b[0;34m\u001b[0m\u001b[0m\n",
            "\u001b[0;32m/usr/local/lib/python3.6/dist-packages/tensorflow/python/eager/def_function.py\u001b[0m in \u001b[0;36m_call\u001b[0;34m(self, *args, **kwds)\u001b[0m\n\u001b[1;32m    812\u001b[0m       \u001b[0;31m# In this case we have not created variables on the first call. So we can\u001b[0m\u001b[0;34m\u001b[0m\u001b[0;34m\u001b[0m\u001b[0;34m\u001b[0m\u001b[0m\n\u001b[1;32m    813\u001b[0m       \u001b[0;31m# run the first trace but we should fail if variables are created.\u001b[0m\u001b[0;34m\u001b[0m\u001b[0;34m\u001b[0m\u001b[0;34m\u001b[0m\u001b[0m\n\u001b[0;32m--> 814\u001b[0;31m       \u001b[0mresults\u001b[0m \u001b[0;34m=\u001b[0m \u001b[0mself\u001b[0m\u001b[0;34m.\u001b[0m\u001b[0m_stateful_fn\u001b[0m\u001b[0;34m(\u001b[0m\u001b[0;34m*\u001b[0m\u001b[0margs\u001b[0m\u001b[0;34m,\u001b[0m \u001b[0;34m**\u001b[0m\u001b[0mkwds\u001b[0m\u001b[0;34m)\u001b[0m\u001b[0;34m\u001b[0m\u001b[0;34m\u001b[0m\u001b[0m\n\u001b[0m\u001b[1;32m    815\u001b[0m       \u001b[0;32mif\u001b[0m \u001b[0mself\u001b[0m\u001b[0;34m.\u001b[0m\u001b[0m_created_variables\u001b[0m\u001b[0;34m:\u001b[0m\u001b[0;34m\u001b[0m\u001b[0;34m\u001b[0m\u001b[0m\n\u001b[1;32m    816\u001b[0m         raise ValueError(\"Creating variables on a non-first call to a function\"\n",
            "\u001b[0;32m/usr/local/lib/python3.6/dist-packages/tensorflow/python/eager/function.py\u001b[0m in \u001b[0;36m__call__\u001b[0;34m(self, *args, **kwargs)\u001b[0m\n\u001b[1;32m   2827\u001b[0m     \u001b[0;32mwith\u001b[0m \u001b[0mself\u001b[0m\u001b[0;34m.\u001b[0m\u001b[0m_lock\u001b[0m\u001b[0;34m:\u001b[0m\u001b[0;34m\u001b[0m\u001b[0;34m\u001b[0m\u001b[0m\n\u001b[1;32m   2828\u001b[0m       \u001b[0mgraph_function\u001b[0m\u001b[0;34m,\u001b[0m \u001b[0margs\u001b[0m\u001b[0;34m,\u001b[0m \u001b[0mkwargs\u001b[0m \u001b[0;34m=\u001b[0m \u001b[0mself\u001b[0m\u001b[0;34m.\u001b[0m\u001b[0m_maybe_define_function\u001b[0m\u001b[0;34m(\u001b[0m\u001b[0margs\u001b[0m\u001b[0;34m,\u001b[0m \u001b[0mkwargs\u001b[0m\u001b[0;34m)\u001b[0m\u001b[0;34m\u001b[0m\u001b[0;34m\u001b[0m\u001b[0m\n\u001b[0;32m-> 2829\u001b[0;31m     \u001b[0;32mreturn\u001b[0m \u001b[0mgraph_function\u001b[0m\u001b[0;34m.\u001b[0m\u001b[0m_filtered_call\u001b[0m\u001b[0;34m(\u001b[0m\u001b[0margs\u001b[0m\u001b[0;34m,\u001b[0m \u001b[0mkwargs\u001b[0m\u001b[0;34m)\u001b[0m  \u001b[0;31m# pylint: disable=protected-access\u001b[0m\u001b[0;34m\u001b[0m\u001b[0;34m\u001b[0m\u001b[0m\n\u001b[0m\u001b[1;32m   2830\u001b[0m \u001b[0;34m\u001b[0m\u001b[0m\n\u001b[1;32m   2831\u001b[0m   \u001b[0;34m@\u001b[0m\u001b[0mproperty\u001b[0m\u001b[0;34m\u001b[0m\u001b[0;34m\u001b[0m\u001b[0m\n",
            "\u001b[0;32m/usr/local/lib/python3.6/dist-packages/tensorflow/python/eager/function.py\u001b[0m in \u001b[0;36m_filtered_call\u001b[0;34m(self, args, kwargs, cancellation_manager)\u001b[0m\n\u001b[1;32m   1846\u001b[0m                            resource_variable_ops.BaseResourceVariable))],\n\u001b[1;32m   1847\u001b[0m         \u001b[0mcaptured_inputs\u001b[0m\u001b[0;34m=\u001b[0m\u001b[0mself\u001b[0m\u001b[0;34m.\u001b[0m\u001b[0mcaptured_inputs\u001b[0m\u001b[0;34m,\u001b[0m\u001b[0;34m\u001b[0m\u001b[0;34m\u001b[0m\u001b[0m\n\u001b[0;32m-> 1848\u001b[0;31m         cancellation_manager=cancellation_manager)\n\u001b[0m\u001b[1;32m   1849\u001b[0m \u001b[0;34m\u001b[0m\u001b[0m\n\u001b[1;32m   1850\u001b[0m   \u001b[0;32mdef\u001b[0m \u001b[0m_call_flat\u001b[0m\u001b[0;34m(\u001b[0m\u001b[0mself\u001b[0m\u001b[0;34m,\u001b[0m \u001b[0margs\u001b[0m\u001b[0;34m,\u001b[0m \u001b[0mcaptured_inputs\u001b[0m\u001b[0;34m,\u001b[0m \u001b[0mcancellation_manager\u001b[0m\u001b[0;34m=\u001b[0m\u001b[0;32mNone\u001b[0m\u001b[0;34m)\u001b[0m\u001b[0;34m:\u001b[0m\u001b[0;34m\u001b[0m\u001b[0;34m\u001b[0m\u001b[0m\n",
            "\u001b[0;32m/usr/local/lib/python3.6/dist-packages/tensorflow/python/eager/function.py\u001b[0m in \u001b[0;36m_call_flat\u001b[0;34m(self, args, captured_inputs, cancellation_manager)\u001b[0m\n\u001b[1;32m   1922\u001b[0m       \u001b[0;31m# No tape is watching; skip to running the function.\u001b[0m\u001b[0;34m\u001b[0m\u001b[0;34m\u001b[0m\u001b[0;34m\u001b[0m\u001b[0m\n\u001b[1;32m   1923\u001b[0m       return self._build_call_outputs(self._inference_function.call(\n\u001b[0;32m-> 1924\u001b[0;31m           ctx, args, cancellation_manager=cancellation_manager))\n\u001b[0m\u001b[1;32m   1925\u001b[0m     forward_backward = self._select_forward_and_backward_functions(\n\u001b[1;32m   1926\u001b[0m         \u001b[0margs\u001b[0m\u001b[0;34m,\u001b[0m\u001b[0;34m\u001b[0m\u001b[0;34m\u001b[0m\u001b[0m\n",
            "\u001b[0;32m/usr/local/lib/python3.6/dist-packages/tensorflow/python/eager/function.py\u001b[0m in \u001b[0;36mcall\u001b[0;34m(self, ctx, args, cancellation_manager)\u001b[0m\n\u001b[1;32m    548\u001b[0m               \u001b[0minputs\u001b[0m\u001b[0;34m=\u001b[0m\u001b[0margs\u001b[0m\u001b[0;34m,\u001b[0m\u001b[0;34m\u001b[0m\u001b[0;34m\u001b[0m\u001b[0m\n\u001b[1;32m    549\u001b[0m               \u001b[0mattrs\u001b[0m\u001b[0;34m=\u001b[0m\u001b[0mattrs\u001b[0m\u001b[0;34m,\u001b[0m\u001b[0;34m\u001b[0m\u001b[0;34m\u001b[0m\u001b[0m\n\u001b[0;32m--> 550\u001b[0;31m               ctx=ctx)\n\u001b[0m\u001b[1;32m    551\u001b[0m         \u001b[0;32melse\u001b[0m\u001b[0;34m:\u001b[0m\u001b[0;34m\u001b[0m\u001b[0;34m\u001b[0m\u001b[0m\n\u001b[1;32m    552\u001b[0m           outputs = execute.execute_with_cancellation(\n",
            "\u001b[0;32m/usr/local/lib/python3.6/dist-packages/tensorflow/python/eager/execute.py\u001b[0m in \u001b[0;36mquick_execute\u001b[0;34m(op_name, num_outputs, inputs, attrs, ctx, name)\u001b[0m\n\u001b[1;32m     58\u001b[0m     \u001b[0mctx\u001b[0m\u001b[0;34m.\u001b[0m\u001b[0mensure_initialized\u001b[0m\u001b[0;34m(\u001b[0m\u001b[0;34m)\u001b[0m\u001b[0;34m\u001b[0m\u001b[0;34m\u001b[0m\u001b[0m\n\u001b[1;32m     59\u001b[0m     tensors = pywrap_tfe.TFE_Py_Execute(ctx._handle, device_name, op_name,\n\u001b[0;32m---> 60\u001b[0;31m                                         inputs, attrs, num_outputs)\n\u001b[0m\u001b[1;32m     61\u001b[0m   \u001b[0;32mexcept\u001b[0m \u001b[0mcore\u001b[0m\u001b[0;34m.\u001b[0m\u001b[0m_NotOkStatusException\u001b[0m \u001b[0;32mas\u001b[0m \u001b[0me\u001b[0m\u001b[0;34m:\u001b[0m\u001b[0;34m\u001b[0m\u001b[0;34m\u001b[0m\u001b[0m\n\u001b[1;32m     62\u001b[0m     \u001b[0;32mif\u001b[0m \u001b[0mname\u001b[0m \u001b[0;32mis\u001b[0m \u001b[0;32mnot\u001b[0m \u001b[0;32mNone\u001b[0m\u001b[0;34m:\u001b[0m\u001b[0;34m\u001b[0m\u001b[0;34m\u001b[0m\u001b[0m\n",
            "\u001b[0;31mKeyboardInterrupt\u001b[0m: "
          ]
        }
      ]
    },
    {
      "cell_type": "code",
      "metadata": {
        "id": "_SyChJcshrc7",
        "colab_type": "code",
        "colab": {}
      },
      "source": [
        "60,55"
      ],
      "execution_count": null,
      "outputs": []
    },
    {
      "cell_type": "code",
      "metadata": {
        "id": "jk1agibn4Pik",
        "colab_type": "code",
        "colab": {}
      },
      "source": [
        ""
      ],
      "execution_count": null,
      "outputs": []
    },
    {
      "cell_type": "code",
      "metadata": {
        "id": "9FC94LEH4PmU",
        "colab_type": "code",
        "colab": {}
      },
      "source": [
        "train_data_dir = \"audio/data/train\"\n",
        "val_data_dir = \"audio/data/validation\"\n",
        "test_data_dir = \"audio/data/test\"\n",
        "category_names = sorted(os.listdir('audio/data/train/'))\n",
        "nb_categories = len(category_names)\n",
        "img_pr_cat = []\n",
        "for category in category_names:\n",
        "    folder = 'audio/data/train' + '/' + category\n",
        "    img_pr_cat.append(len(os.listdir(folder)))\n",
        "sns.barplot(y=category_names, x=img_pr_cat).set_title(\"Number of training images per category:\")\n"
      ],
      "execution_count": null,
      "outputs": []
    },
    {
      "cell_type": "code",
      "metadata": {
        "id": "l9p_EU5L4Ppz",
        "colab_type": "code",
        "colab": {}
      },
      "source": [
        "for subdir, dirs, files in os.walk('data/train'):\n",
        "    for file in files:\n",
        "        img_file = subdir + '/' + file\n",
        "        image = load_img(img_file)\n",
        "        plt.figure()\n",
        "        plt.title(subdir)\n",
        "        plt.imshow(image)\n",
        "        break\n"
      ],
      "execution_count": null,
      "outputs": []
    },
    {
      "cell_type": "code",
      "metadata": {
        "id": "6Q5oQ7OS4Tdv",
        "colab_type": "code",
        "colab": {}
      },
      "source": [
        "from tensorflow.keras.applications import vgg16\n",
        "from tensorflow.keras.preprocessing.image import load_img\n",
        "from tensorflow.keras.preprocessing.image import img_to_array\n",
        "from tensorflow.keras.applications.vgg16 import preprocess_input\n",
        "from tensorflow.keras.applications.vgg16 import decode_predictions\n",
        "from tensorflow.keras.applications.vgg16 import VGG16\n",
        "img_height, img_width = 224,224\n",
        "conv_base = vgg16.VGG16(weights='imagenet', include_top=False, pooling='max', input_shape = (img_width, img_height, 3))\n"
      ],
      "execution_count": null,
      "outputs": []
    },
    {
      "cell_type": "code",
      "metadata": {
        "id": "M0SecYTE4Tjt",
        "colab_type": "code",
        "colab": {}
      },
      "source": [
        "for layer in conv_base.layers[:-13]:\n",
        "    layer.trainable = False\n"
      ],
      "execution_count": null,
      "outputs": []
    },
    {
      "cell_type": "code",
      "metadata": {
        "id": "I7CUBDF74To5",
        "colab_type": "code",
        "colab": {}
      },
      "source": [
        "from tensorflow.python.keras import layers, models, Model, optimizers\n",
        "model = models.Sequential()\n",
        "model.add(conv_base)\n",
        "model.add(layers.Dense(nb_categories, activation='softmax'))\n",
        "model.summary()\n"
      ],
      "execution_count": null,
      "outputs": []
    },
    {
      "cell_type": "code",
      "metadata": {
        "id": "vIEyJ4-p4Tm9",
        "colab_type": "code",
        "colab": {}
      },
      "source": [
        "#Number of images to load at each iteration\n",
        "batch_size = 32\n",
        "# only rescaling\n",
        "train_datagen =  ImageDataGenerator(\n",
        "    rescale=1./255\n",
        ")\n",
        "test_datagen =  ImageDataGenerator(\n",
        "    rescale=1./255\n",
        ")\n",
        "# these are generators for train/test data that will read pictures #found in the defined subfolders of 'data/'\n",
        "print('Total number of images for \"training\":')\n",
        "train_generator = train_datagen.flow_from_directory(\n",
        "train_data_dir,\n",
        "target_size = (img_height, img_width),\n",
        "batch_size = batch_size, \n",
        "class_mode = \"categorical\")\n",
        "print('Total number of images for \"validation\":')\n",
        "val_generator = test_datagen.flow_from_directory(\n",
        "val_data_dir,\n",
        "target_size = (img_height, img_width),\n",
        "batch_size = batch_size,\n",
        "class_mode = \"categorical\",\n",
        "shuffle=False)\n",
        "print('Total number of images for \"testing\":')\n",
        "test_generator = test_datagen.flow_from_directory(\n",
        "test_data_dir,\n",
        "target_size = (img_height, img_width),\n",
        "batch_size = batch_size,\n",
        "class_mode = \"categorical\",\n",
        "shuffle=False)\n"
      ],
      "execution_count": null,
      "outputs": []
    },
    {
      "cell_type": "code",
      "metadata": {
        "id": "hA7wNDXD4Tgx",
        "colab_type": "code",
        "colab": {}
      },
      "source": [
        "from tensorflow.python.keras.applications import vgg16\n",
        "from tensorflow.python.keras.applications.vgg16 import preprocess_input\n",
        "from tensorflow.python.keras.preprocessing.image import ImageDataGenerator, load_img\n",
        "from tensorflow.python.keras.callbacks import ModelCheckpoint\n",
        "from tensorflow.keras import layers, models, Model, optimizers\n",
        "\n",
        "from sklearn.metrics import classification_report, confusion_matrix, accuracy_score\n",
        "\n",
        "learning_rate = 5e-5\n",
        "epochs = 10\n",
        "model.compile(loss=\"categorical_crossentropy\", optimizer=optimizers.Adam(lr=learning_rate), metrics = ['acc'])\n"
      ],
      "execution_count": null,
      "outputs": []
    },
    {
      "cell_type": "code",
      "metadata": {
        "id": "3Ja_3BQX4b_K",
        "colab_type": "code",
        "colab": {}
      },
      "source": [
        "history = model.fit_generator(train_generator, \n",
        "                              epochs=epochs, \n",
        "                              shuffle=True, \n",
        "                              validation_data=val_generator,\n",
        "                              )"
      ],
      "execution_count": null,
      "outputs": []
    },
    {
      "cell_type": "markdown",
      "metadata": {
        "id": "misW5tUB0l0d",
        "colab_type": "text"
      },
      "source": [
        "# New VGG16"
      ]
    },
    {
      "cell_type": "code",
      "metadata": {
        "id": "V18vaq1v0pGq",
        "colab_type": "code",
        "colab": {
          "base_uri": "https://localhost:8080/",
          "height": 298
        },
        "outputId": "3518a8b1-b1c1-42cb-9284-03667d227427"
      },
      "source": [
        "train_data_dir = \"/content/drive/My Drive/data/train\"\n",
        "val_data_dir = \"/content/drive/My Drive/data/validation\"\n",
        "test_data_dir = \"/content/drive/My Drive/data/test\"\n",
        "category_names = sorted(os.listdir('/content/drive/My Drive/data/train'))\n",
        "nb_categories = len(category_names)\n",
        "img_pr_cat = []\n",
        "for category in category_names:\n",
        "    folder = '/content/drive/My Drive/data/train' + '/' + category\n",
        "    img_pr_cat.append(len(os.listdir(folder)))\n",
        "sns.barplot(y=category_names, x=img_pr_cat).set_title(\"Number of training images per category:\")"
      ],
      "execution_count": 3,
      "outputs": [
        {
          "output_type": "execute_result",
          "data": {
            "text/plain": [
              "Text(0.5, 1.0, 'Number of training images per category:')"
            ]
          },
          "metadata": {
            "tags": []
          },
          "execution_count": 3
        },
        {
          "output_type": "display_data",
          "data": {
            "image/png": "[encoded data removed]",
            "text/plain": [
              "<Figure size 432x288 with 1 Axes>"
            ]
          },
          "metadata": {
            "tags": [],
            "needs_background": "light"
          }
        }
      ]
    },
    {
      "cell_type": "code",
      "metadata": {
        "id": "2ViuxhOc1FLs",
        "colab_type": "code",
        "colab": {}
      },
      "source": [
        "for subdir, dirs, files in os.walk('data/train'):\n",
        "    for file in files:\n",
        "        img_file = subdir + '/' + file\n",
        "        image = load_img(img_file)\n",
        "        plt.figure()\n",
        "        plt.title(subdir)\n",
        "        plt.imshow(image)\n",
        "        break"
      ],
      "execution_count": 4,
      "outputs": []
    },
    {
      "cell_type": "code",
      "metadata": {
        "id": "-30ezDPa17i_",
        "colab_type": "code",
        "colab": {
          "base_uri": "https://localhost:8080/",
          "height": 51
        },
        "outputId": "353ecadc-fba5-4c56-d260-81d6c4fe6ab8"
      },
      "source": [
        "from tensorflow.keras.applications import vgg16\n",
        "from tensorflow.keras.preprocessing.image import load_img\n",
        "from tensorflow.keras.preprocessing.image import img_to_array\n",
        "from tensorflow.keras.applications.vgg16 import preprocess_input\n",
        "from tensorflow.keras.applications.vgg16 import decode_predictions\n",
        "from tensorflow.keras.applications.vgg16 import VGG16\n",
        "img_height, img_width = 224,224\n",
        "conv_base = vgg16.VGG16(weights='imagenet', include_top=False, pooling='max', input_shape = (img_width, img_height, 3))"
      ],
      "execution_count": 4,
      "outputs": [
        {
          "output_type": "stream",
          "text": [
            "Downloading data from https://storage.googleapis.com/tensorflow/keras-applications/vgg16/vgg16_weights_tf_dim_ordering_tf_kernels_notop.h5\n",
            "58892288/58889256 [==============================] - 0s 0us/step\n"
          ],
          "name": "stdout"
        }
      ]
    },
    {
      "cell_type": "code",
      "metadata": {
        "id": "nfFyvRSE19d6",
        "colab_type": "code",
        "colab": {}
      },
      "source": [
        "for layer in conv_base.layers[:-13]:\n",
        "    layer.trainable = False"
      ],
      "execution_count": 5,
      "outputs": []
    },
    {
      "cell_type": "code",
      "metadata": {
        "id": "sIcxtp0e1_5L",
        "colab_type": "code",
        "colab": {
          "base_uri": "https://localhost:8080/",
          "height": 255
        },
        "outputId": "27b29439-2d93-48a4-8339-3b625ed2cdea"
      },
      "source": [
        "from tensorflow.python.keras import layers, models, Model, optimizers\n",
        "model = models.Sequential()\n",
        "model.add(conv_base)\n",
        "model.add(layers.Dense(256, activation='relu'))\n",
        "model.add(layers.Dense(nb_categories, activation='softmax'))\n",
        "model.summary()"
      ],
      "execution_count": 6,
      "outputs": [
        {
          "output_type": "stream",
          "text": [
            "Model: \"sequential\"\n",
            "_________________________________________________________________\n",
            "Layer (type)                 Output Shape              Param #   \n",
            "=================================================================\n",
            "vgg16 (Functional)           (None, 512)               14714688  \n",
            "_________________________________________________________________\n",
            "dense (Dense)                (None, 256)               131328    \n",
            "_________________________________________________________________\n",
            "dense_1 (Dense)              (None, 8)                 2056      \n",
            "=================================================================\n",
            "Total params: 14,848,072\n",
            "Trainable params: 14,587,912\n",
            "Non-trainable params: 260,160\n",
            "_________________________________________________________________\n"
          ],
          "name": "stdout"
        }
      ]
    },
    {
      "cell_type": "code",
      "metadata": {
        "id": "mzsy3H3q2DGv",
        "colab_type": "code",
        "colab": {
          "base_uri": "https://localhost:8080/",
          "height": 119
        },
        "outputId": "ca35e25b-f157-495e-ce27-07b5e54579a9"
      },
      "source": [
        "from tensorflow.python.keras.preprocessing.image import ImageDataGenerator, load_img\n",
        "\n",
        "#Number of images to load at each iteration\n",
        "batch_size = 64\n",
        "# only rescaling\n",
        "train_datagen =  ImageDataGenerator(\n",
        "    rescale=1./255\n",
        ")\n",
        "test_datagen =  ImageDataGenerator(\n",
        "    rescale=1./255\n",
        ")\n",
        "# these are generators for train/test data that will read pictures #found in the defined subfolders of 'data/'\n",
        "print('Total number of images for \"training\":')\n",
        "train_generator = train_datagen.flow_from_directory(\n",
        "train_data_dir,\n",
        "target_size = (img_height, img_width),\n",
        "batch_size = batch_size, \n",
        "class_mode = \"categorical\")\n",
        "print('Total number of images for \"validation\":')\n",
        "val_generator = test_datagen.flow_from_directory(\n",
        "val_data_dir,\n",
        "target_size = (img_height, img_width),\n",
        "batch_size = batch_size,\n",
        "class_mode = \"categorical\",\n",
        "shuffle=False)\n",
        "print('Total number of images for \"testing\":')\n",
        "test_generator = test_datagen.flow_from_directory(\n",
        "test_data_dir,\n",
        "target_size = (img_height, img_width),\n",
        "batch_size = batch_size,\n",
        "class_mode = \"categorical\",\n",
        "shuffle=False)"
      ],
      "execution_count": 7,
      "outputs": [
        {
          "output_type": "stream",
          "text": [
            "Total number of images for \"training\":\n",
            "Found 4605 images belonging to 8 classes.\n",
            "Total number of images for \"validation\":\n",
            "Found 585 images belonging to 8 classes.\n",
            "Total number of images for \"testing\":\n",
            "Found 570 images belonging to 8 classes.\n"
          ],
          "name": "stdout"
        }
      ]
    },
    {
      "cell_type": "code",
      "metadata": {
        "id": "vk3p-ecB2Fxt",
        "colab_type": "code",
        "colab": {}
      },
      "source": [
        "from tensorflow.python.keras.applications import vgg16\n",
        "from tensorflow.python.keras.applications.vgg16 import preprocess_input\n",
        "from tensorflow.python.keras.callbacks import ModelCheckpoint\n",
        "from tensorflow.keras import layers, models, Model, optimizers\n",
        "\n",
        "from sklearn.metrics import classification_report, confusion_matrix, accuracy_score\n",
        "\n",
        "learning_rate = 5e-5\n",
        "epochs = 10\n",
        "model.compile(loss=\"categorical_crossentropy\", optimizer=optimizers.Adam(lr=learning_rate), metrics = ['acc'])"
      ],
      "execution_count": 9,
      "outputs": []
    },
    {
      "cell_type": "code",
      "metadata": {
        "id": "YS5-qSYv2IfJ",
        "colab_type": "code",
        "colab": {
          "base_uri": "https://localhost:8080/",
          "height": 122
        },
        "outputId": "3380a02e-e6f0-464b-cc63-2274b74a7caa"
      },
      "source": [
        "history = model.fit_generator(train_generator, \n",
        "                              epochs=epochs, \n",
        "                              shuffle=True, \n",
        "                              validation_data=val_generator,\n",
        "                              )"
      ],
      "execution_count": null,
      "outputs": [
        {
          "output_type": "stream",
          "text": [
            "WARNING:tensorflow:From <ipython-input-10-453de4a91f82>:4: Model.fit_generator (from tensorflow.python.keras.engine.training) is deprecated and will be removed in a future version.\n",
            "Instructions for updating:\n",
            "Please use Model.fit, which supports generators.\n",
            "Epoch 1/10\n",
            "33/72 [============>.................] - ETA: 8:35 - loss: 1.8113 - acc: 0.3111"
          ],
          "name": "stdout"
        }
      ]
    },
    {
      "cell_type": "code",
      "metadata": {
        "id": "xj1gqp1_lq8r",
        "colab_type": "code",
        "colab": {}
      },
      "source": [
        "69"
      ],
      "execution_count": null,
      "outputs": []
    },
    {
      "cell_type": "code",
      "metadata": {
        "id": "iGJWCTBDgsMM",
        "colab_type": "code",
        "colab": {
          "base_uri": "https://localhost:8080/",
          "height": 357
        },
        "outputId": "8b5796a5-6046-42c2-f2f7-ab0ac8bcce63"
      },
      "source": [
        "history = model.fit_generator(train_generator, \n",
        "                              epochs=epochs, \n",
        "                              shuffle=True, \n",
        "                              validation_data=val_generator,\n",
        "                              )"
      ],
      "execution_count": 58,
      "outputs": [
        {
          "output_type": "stream",
          "text": [
            "Epoch 1/10\n",
            "144/144 [==============================] - 78s 544ms/step - loss: 1.5698 - acc: 0.4035 - val_loss: 1.1374 - val_acc: 0.5915\n",
            "Epoch 2/10\n",
            "144/144 [==============================] - 78s 540ms/step - loss: 0.9460 - acc: 0.6565 - val_loss: 1.0258 - val_acc: 0.6068\n",
            "Epoch 3/10\n",
            "144/144 [==============================] - 78s 539ms/step - loss: 0.5645 - acc: 0.7946 - val_loss: 0.7918 - val_acc: 0.7248\n",
            "Epoch 4/10\n",
            "144/144 [==============================] - 78s 541ms/step - loss: 0.3263 - acc: 0.8856 - val_loss: 0.7464 - val_acc: 0.7128\n",
            "Epoch 5/10\n",
            "144/144 [==============================] - 78s 540ms/step - loss: 0.1598 - acc: 0.9490 - val_loss: 0.7150 - val_acc: 0.7487\n",
            "Epoch 6/10\n",
            "144/144 [==============================] - 78s 539ms/step - loss: 0.1314 - acc: 0.9535 - val_loss: 0.8473 - val_acc: 0.7453\n",
            "Epoch 7/10\n",
            "144/144 [==============================] - 78s 539ms/step - loss: 0.0949 - acc: 0.9700 - val_loss: 0.8379 - val_acc: 0.7248\n",
            "Epoch 8/10\n",
            "144/144 [==============================] - 78s 539ms/step - loss: 0.0643 - acc: 0.9792 - val_loss: 0.8773 - val_acc: 0.7436\n",
            "Epoch 9/10\n",
            "144/144 [==============================] - 78s 539ms/step - loss: 0.0557 - acc: 0.9815 - val_loss: 0.9325 - val_acc: 0.7607\n",
            "Epoch 10/10\n",
            "144/144 [==============================] - 78s 539ms/step - loss: 0.0304 - acc: 0.9887 - val_loss: 0.8004 - val_acc: 0.7726\n"
          ],
          "name": "stdout"
        }
      ]
    },
    {
      "cell_type": "code",
      "metadata": {
        "id": "3eQZG_L-2Kpm",
        "colab_type": "code",
        "colab": {}
      },
      "source": [
        "75\n",
        "98,73"
      ],
      "execution_count": null,
      "outputs": []
    },
    {
      "cell_type": "code",
      "metadata": {
        "id": "Urg5B71Mxrrp",
        "colab_type": "code",
        "colab": {}
      },
      "source": [
        "# PRINT MODEL HISTORY OF ACCURACY AND LOSS OVER EPOCHS\n",
        "plt.plot(history.history['accuracy'])\n",
        "plt.plot(history.history['val_accuracy'])\n",
        "plt.title('model accuracy')\n",
        "plt.ylabel('accuracy')\n",
        "plt.xlabel('epoch')\n",
        "plt.legend(['train', 'test'], loc='upper left')\n",
        "# plt.savefig('Augmented_Model_Accuracy.png')\n",
        "plt.show()\n",
        "# summarize history for loss\n",
        "plt.plot(history.history['loss'])\n",
        "plt.plot(history.history['val_loss'])\n",
        "plt.title('model loss')\n",
        "plt.ylabel('loss')\n",
        "plt.xlabel('epoch')\n",
        "plt.legend(['train', 'test'], loc='upper left')\n",
        "# plt.savefig('Augmented_Model_Loss.png')\n",
        "plt.show()"
      ],
      "execution_count": null,
      "outputs": []
    },
    {
      "cell_type": "code",
      "metadata": {
        "id": "yEVGauoCxz4K",
        "colab_type": "code",
        "colab": {}
      },
      "source": [
        "Y_pred = model.predict_generator(test_generator)\n",
        "y_pred = np.argmax(Y_pred, axis=1)\n",
        "\n",
        "cm = confusion_matrix(test_generator.classes, y_pred)\n",
        "plot_confusion_matrix(cm, classes = category_names, title='Confusion Matrix', normalize=False, figname = 'Confusion_matrix_concrete.jpg')\n"
      ],
      "execution_count": null,
      "outputs": []
    },
    {
      "cell_type": "code",
      "metadata": {
        "id": "a1Qx0-Rcx0jd",
        "colab_type": "code",
        "colab": {}
      },
      "source": [
        "print(classification_report(actual, predictions, target_names = ['angry','calm','disgust','fear','happy','neutral','sad','surprise']))"
      ],
      "execution_count": null,
      "outputs": []
    },
    {
      "cell_type": "code",
      "metadata": {
        "id": "xMl2GZagx0mg",
        "colab_type": "code",
        "colab": {}
      },
      "source": [
        ""
      ],
      "execution_count": null,
      "outputs": []
    },
    {
      "cell_type": "markdown",
      "metadata": {
        "id": "9AbEoWwzyAJt",
        "colab_type": "text"
      },
      "source": [
        "# Inception"
      ]
    },
    {
      "cell_type": "code",
      "metadata": {
        "id": "lDhAnHb2yBCY",
        "colab_type": "code",
        "colab": {}
      },
      "source": [
        "from keras.applications import inception_v3\n",
        "from keras.layers import Dense,GlobalAveragePooling2D, GlobalAveragePooling1D\n",
        "from keras.layers import Conv1D, MaxPooling1D, AveragePooling1D\n",
        "\n",
        "\n",
        "imagenet=inception_v3.InceptionV3(weights='imagenet',include_top=False, input_shape=(224,224,3))"
      ],
      "execution_count": null,
      "outputs": []
    },
    {
      "cell_type": "code",
      "metadata": {
        "id": "vmLpd93OyL4g",
        "colab_type": "code",
        "colab": {}
      },
      "source": [
        "for layer in imagenet.layers[:1]:\n",
        "    layer.trainable=False"
      ],
      "execution_count": null,
      "outputs": []
    },
    {
      "cell_type": "code",
      "metadata": {
        "id": "9fZNYSjcyOvm",
        "colab_type": "code",
        "colab": {}
      },
      "source": [
        "from tensorflow.python.keras import layers, models, Model, optimizers\n",
        "model = models.Sequential()\n",
        "model.add(imagenet)\n",
        "model.add(layers.Dense(256, activation='relu'))\n",
        "model.add(layers.Dense(nb_categories, activation='softmax'))\n",
        "model.summary()"
      ],
      "execution_count": null,
      "outputs": []
    },
    {
      "cell_type": "code",
      "metadata": {
        "id": "Y5M35Q1ayOyY",
        "colab_type": "code",
        "colab": {}
      },
      "source": [
        "from tensorflow.python.keras.applications import vgg16\n",
        "from tensorflow.python.keras.applications.vgg16 import preprocess_input\n",
        "from tensorflow.python.keras.callbacks import ModelCheckpoint\n",
        "from tensorflow.keras import layers, models, Model, optimizers\n",
        "\n",
        "from sklearn.metrics import classification_report, confusion_matrix, accuracy_score\n",
        "\n",
        "learning_rate = 5e-5\n",
        "epochs = 10\n",
        "model.compile(loss=\"categorical_crossentropy\", optimizer=optimizers.Adam(lr=learning_rate), metrics = ['acc'])"
      ],
      "execution_count": null,
      "outputs": []
    },
    {
      "cell_type": "code",
      "metadata": {
        "id": "IVs0xpUjyhT3",
        "colab_type": "code",
        "colab": {}
      },
      "source": [
        "history = model.fit_generator(train_generator, \n",
        "                              epochs=epochs, \n",
        "                              shuffle=True, \n",
        "                              validation_data=val_generator,\n",
        "                              )"
      ],
      "execution_count": null,
      "outputs": []
    },
    {
      "cell_type": "code",
      "metadata": {
        "id": "w8js5pIqym-z",
        "colab_type": "code",
        "colab": {}
      },
      "source": [
        "# PRINT MODEL HISTORY OF ACCURACY AND LOSS OVER EPOCHS\n",
        "plt.plot(history.history['accuracy'])\n",
        "plt.plot(history.history['val_accuracy'])\n",
        "plt.title('model accuracy')\n",
        "plt.ylabel('accuracy')\n",
        "plt.xlabel('epoch')\n",
        "plt.legend(['train', 'test'], loc='upper left')\n",
        "# plt.savefig('Augmented_Model_Accuracy.png')\n",
        "plt.show()\n",
        "# summarize history for loss\n",
        "plt.plot(history.history['loss'])\n",
        "plt.plot(history.history['val_loss'])\n",
        "plt.title('model loss')\n",
        "plt.ylabel('loss')\n",
        "plt.xlabel('epoch')\n",
        "plt.legend(['train', 'test'], loc='upper left')\n",
        "# plt.savefig('Augmented_Model_Loss.png')\n",
        "plt.show()"
      ],
      "execution_count": null,
      "outputs": []
    },
    {
      "cell_type": "code",
      "metadata": {
        "id": "4WQgxatnynBv",
        "colab_type": "code",
        "colab": {}
      },
      "source": [
        "# PREDICTION LABELS\n",
        "predictions = model_final.predict(X_test)\n",
        "predictions=predictions.argmax(axis=1)\n",
        "predictions\n",
        "predictions = predictions.astype(int).flatten()\n",
        "predictions = (lb.inverse_transform((predictions)))\n",
        "predictions = pd.DataFrame({'Predicted Values': predictions})\n",
        "\n",
        "# ACTUAL LABELS\n",
        "actual=y_test.argmax(axis=1)\n",
        "actual = actual.astype(int).flatten()\n",
        "actual = (lb.inverse_transform((actual)))\n",
        "actual = pd.DataFrame({'Actual Values': actual})\n",
        "\n",
        "# COMBINE PREDICTION AND ACTUAL LABELS\n",
        "finaldf = actual.join(predictions)\n",
        "finaldf[140:150]"
      ],
      "execution_count": null,
      "outputs": []
    },
    {
      "cell_type": "code",
      "metadata": {
        "id": "__2dhBrJynGY",
        "colab_type": "code",
        "colab": {}
      },
      "source": [
        "# CREATE CONFUSION MATRIX OF ACTUAL VS. PREDICTION \n",
        "cm = confusion_matrix(actual, predictions)\n",
        "plt.figure(figsize = (12, 10))\n",
        "cm = pd.DataFrame(cm , index = [i for i in lb.classes_] , columns = [i for i in lb.classes_])\n",
        "ax = sns.heatmap(cm, linecolor='white', cmap='Blues', linewidth=1, annot=True, fmt='')\n",
        "bottom, top = ax.get_ylim()\n",
        "ax.set_ylim(bottom + 0.5, top - 0.5)\n",
        "plt.title('Confusion Matrix', size=20)\n",
        "plt.xlabel('Predicted Labels', size=14)\n",
        "plt.ylabel('Actual Labels', size=14)\n",
        "# plt.savefig('Augmented_Model_Confusion_Matrix.png')\n",
        "plt.show()"
      ],
      "execution_count": null,
      "outputs": []
    },
    {
      "cell_type": "code",
      "metadata": {
        "id": "1uLGhRQiynEs",
        "colab_type": "code",
        "colab": {}
      },
      "source": [
        "print(classification_report(actual, predictions, target_names = ['angry','calm','disgust','fear','happy','neutral','sad','surprise']))"
      ],
      "execution_count": null,
      "outputs": []
    }
  ]
}