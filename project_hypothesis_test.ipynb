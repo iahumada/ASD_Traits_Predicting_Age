{
 "cells": [
  {
   "cell_type": "code",
   "execution_count": 25,
   "metadata": {},
   "outputs": [],
   "source": [
    "import pandas as pd\n",
    "import numpy as np\n",
    "import seaborn as sns\n",
    "import matplotlib.pyplot as plt\n",
    "%matplotlib inline\n",
    "from scipy import stats\n",
    "from scipy.stats import chi2_contingency\n",
    "from scipy.stats import chi2\n"
   ]
  },
  {
   "cell_type": "code",
   "execution_count": 48,
   "metadata": {},
   "outputs": [
    {
     "data": {
      "text/plain": [
       "Ethnicity       Sex\n",
       "Hispanic        m       31\n",
       "                f        9\n",
       "Latino          m       15\n",
       "                f       11\n",
       "Native Indian   m        3\n",
       "Others          m       22\n",
       "                f       13\n",
       "Pacifica        m        5\n",
       "                f        3\n",
       "White European  m      240\n",
       "                f       94\n",
       "asian           m      230\n",
       "                f       69\n",
       "black           m       37\n",
       "                f       16\n",
       "middle eastern  m      108\n",
       "                f       80\n",
       "mixed           f        4\n",
       "                m        4\n",
       "south asian     m       40\n",
       "                f       20\n",
       "Name: Sex, dtype: int64"
      ]
     },
     "execution_count": 48,
     "metadata": {},
     "output_type": "execute_result"
    }
   ],
   "source": [
    "df.groupby('Ethnicity').Sex.value_counts()"
   ]
  },
  {
   "cell_type": "code",
   "execution_count": 3,
   "metadata": {},
   "outputs": [],
   "source": [
    "df_old = pd.read_csv('Toddler Autism dataset July 2018.csv')"
   ]
  },
  {
   "cell_type": "code",
   "execution_count": 4,
   "metadata": {},
   "outputs": [
    {
     "data": {
      "text/html": [
       "<div>\n",
       "<style scoped>\n",
       "    .dataframe tbody tr th:only-of-type {\n",
       "        vertical-align: middle;\n",
       "    }\n",
       "\n",
       "    .dataframe tbody tr th {\n",
       "        vertical-align: top;\n",
       "    }\n",
       "\n",
       "    .dataframe thead th {\n",
       "        text-align: right;\n",
       "    }\n",
       "</style>\n",
       "<table border=\"1\" class=\"dataframe\">\n",
       "  <thead>\n",
       "    <tr style=\"text-align: right;\">\n",
       "      <th></th>\n",
       "      <th>Case_No</th>\n",
       "      <th>A1</th>\n",
       "      <th>A2</th>\n",
       "      <th>A3</th>\n",
       "      <th>A4</th>\n",
       "      <th>A5</th>\n",
       "      <th>A6</th>\n",
       "      <th>A7</th>\n",
       "      <th>A8</th>\n",
       "      <th>A9</th>\n",
       "      <th>A10</th>\n",
       "      <th>Age</th>\n",
       "      <th>qchat_score</th>\n",
       "      <th>Sex</th>\n",
       "      <th>Ethnicity</th>\n",
       "      <th>Jaundice</th>\n",
       "      <th>family_asd</th>\n",
       "      <th>Who completed the test</th>\n",
       "      <th>asd_traits</th>\n",
       "    </tr>\n",
       "  </thead>\n",
       "  <tbody>\n",
       "    <tr>\n",
       "      <td>0</td>\n",
       "      <td>1</td>\n",
       "      <td>0</td>\n",
       "      <td>0</td>\n",
       "      <td>0</td>\n",
       "      <td>0</td>\n",
       "      <td>0</td>\n",
       "      <td>0</td>\n",
       "      <td>1</td>\n",
       "      <td>1</td>\n",
       "      <td>0</td>\n",
       "      <td>1</td>\n",
       "      <td>28</td>\n",
       "      <td>3</td>\n",
       "      <td>f</td>\n",
       "      <td>middle eastern</td>\n",
       "      <td>yes</td>\n",
       "      <td>no</td>\n",
       "      <td>family member</td>\n",
       "      <td>No</td>\n",
       "    </tr>\n",
       "    <tr>\n",
       "      <td>1</td>\n",
       "      <td>2</td>\n",
       "      <td>1</td>\n",
       "      <td>1</td>\n",
       "      <td>0</td>\n",
       "      <td>0</td>\n",
       "      <td>0</td>\n",
       "      <td>1</td>\n",
       "      <td>1</td>\n",
       "      <td>0</td>\n",
       "      <td>0</td>\n",
       "      <td>0</td>\n",
       "      <td>36</td>\n",
       "      <td>4</td>\n",
       "      <td>m</td>\n",
       "      <td>White European</td>\n",
       "      <td>yes</td>\n",
       "      <td>no</td>\n",
       "      <td>family member</td>\n",
       "      <td>Yes</td>\n",
       "    </tr>\n",
       "    <tr>\n",
       "      <td>2</td>\n",
       "      <td>3</td>\n",
       "      <td>1</td>\n",
       "      <td>0</td>\n",
       "      <td>0</td>\n",
       "      <td>0</td>\n",
       "      <td>0</td>\n",
       "      <td>0</td>\n",
       "      <td>1</td>\n",
       "      <td>1</td>\n",
       "      <td>0</td>\n",
       "      <td>1</td>\n",
       "      <td>36</td>\n",
       "      <td>4</td>\n",
       "      <td>m</td>\n",
       "      <td>middle eastern</td>\n",
       "      <td>yes</td>\n",
       "      <td>no</td>\n",
       "      <td>family member</td>\n",
       "      <td>Yes</td>\n",
       "    </tr>\n",
       "    <tr>\n",
       "      <td>3</td>\n",
       "      <td>4</td>\n",
       "      <td>1</td>\n",
       "      <td>1</td>\n",
       "      <td>1</td>\n",
       "      <td>1</td>\n",
       "      <td>1</td>\n",
       "      <td>1</td>\n",
       "      <td>1</td>\n",
       "      <td>1</td>\n",
       "      <td>1</td>\n",
       "      <td>1</td>\n",
       "      <td>24</td>\n",
       "      <td>10</td>\n",
       "      <td>m</td>\n",
       "      <td>Hispanic</td>\n",
       "      <td>no</td>\n",
       "      <td>no</td>\n",
       "      <td>family member</td>\n",
       "      <td>Yes</td>\n",
       "    </tr>\n",
       "    <tr>\n",
       "      <td>4</td>\n",
       "      <td>5</td>\n",
       "      <td>1</td>\n",
       "      <td>1</td>\n",
       "      <td>0</td>\n",
       "      <td>1</td>\n",
       "      <td>1</td>\n",
       "      <td>1</td>\n",
       "      <td>1</td>\n",
       "      <td>1</td>\n",
       "      <td>1</td>\n",
       "      <td>1</td>\n",
       "      <td>20</td>\n",
       "      <td>9</td>\n",
       "      <td>f</td>\n",
       "      <td>White European</td>\n",
       "      <td>no</td>\n",
       "      <td>yes</td>\n",
       "      <td>family member</td>\n",
       "      <td>Yes</td>\n",
       "    </tr>\n",
       "  </tbody>\n",
       "</table>\n",
       "</div>"
      ],
      "text/plain": [
       "   Case_No  A1  A2  A3  A4  A5  A6  A7  A8  A9  A10  Age  qchat_score Sex  \\\n",
       "0        1   0   0   0   0   0   0   1   1   0    1   28            3   f   \n",
       "1        2   1   1   0   0   0   1   1   0   0    0   36            4   m   \n",
       "2        3   1   0   0   0   0   0   1   1   0    1   36            4   m   \n",
       "3        4   1   1   1   1   1   1   1   1   1    1   24           10   m   \n",
       "4        5   1   1   0   1   1   1   1   1   1    1   20            9   f   \n",
       "\n",
       "        Ethnicity Jaundice family_asd Who completed the test asd_traits  \n",
       "0  middle eastern      yes         no          family member         No  \n",
       "1  White European      yes         no          family member        Yes  \n",
       "2  middle eastern      yes         no          family member        Yes  \n",
       "3        Hispanic       no         no          family member        Yes  \n",
       "4  White European       no        yes          family member        Yes  "
      ]
     },
     "execution_count": 4,
     "metadata": {},
     "output_type": "execute_result"
    }
   ],
   "source": [
    "df = df_old.rename(columns={'Age_Mons': 'Age', 'Qchat-10-Score':'qchat_score', 'Family_mem_with_ASD':'family_asd', 'Class/ASD Traits ':'asd_traits'})\n",
    "df.head()"
   ]
  },
  {
   "cell_type": "code",
   "execution_count": 75,
   "metadata": {},
   "outputs": [
    {
     "data": {
      "text/plain": [
       "(728, 19)"
      ]
     },
     "execution_count": 75,
     "metadata": {},
     "output_type": "execute_result"
    }
   ],
   "source": [
    "df = df[df['asd_traits'] != 'No']\n",
    "df.shape"
   ]
  },
  {
   "cell_type": "markdown",
   "metadata": {},
   "source": [
    "# Independent t-test "
   ]
  },
  {
   "cell_type": "markdown",
   "metadata": {},
   "source": [
    "## 'Sex' vs 'qchat_score'"
   ]
  },
  {
   "cell_type": "markdown",
   "metadata": {},
   "source": [
    "Null Hypothesis: There is no statisical difference between male and female mean qchat scores.\n",
    "\n",
    "Alternative Hypothesis: There is a statistical difference between male and female mean qchat scores. "
   ]
  },
  {
   "cell_type": "code",
   "execution_count": 76,
   "metadata": {},
   "outputs": [],
   "source": [
    "# SEPARATE GENDER INTO TWO DF'S FOR INDEPENDENT T-TEST\n",
    "male_df = df.loc[(df['Sex'] == 'm')]\n",
    "female_df = df.loc[(df['Sex']== 'f')]"
   ]
  },
  {
   "cell_type": "code",
   "execution_count": 77,
   "metadata": {},
   "outputs": [
    {
     "data": {
      "text/plain": [
       "(534, 19)"
      ]
     },
     "execution_count": 77,
     "metadata": {},
     "output_type": "execute_result"
    }
   ],
   "source": [
    "male_df.shape"
   ]
  },
  {
   "cell_type": "code",
   "execution_count": 81,
   "metadata": {},
   "outputs": [
    {
     "data": {
      "text/plain": [
       "Sex\n",
       "f    6.829897\n",
       "m    6.773408\n",
       "Name: qchat_score, dtype: float64"
      ]
     },
     "execution_count": 81,
     "metadata": {},
     "output_type": "execute_result"
    }
   ],
   "source": [
    "df.groupby('Sex').qchat_score.mean()"
   ]
  },
  {
   "cell_type": "code",
   "execution_count": 80,
   "metadata": {},
   "outputs": [
    {
     "name": "stdout",
     "output_type": "stream",
     "text": [
      "Ttest_indResult(statistic=-0.3602431012464004, pvalue=0.7188758523230369)\n",
      "WE FAIL TO REJECT THE NULL HYPOTHESIS SINCE OUR P-VALUE IS LESS THAN 0.05\n"
     ]
    }
   ],
   "source": [
    "# TWO SAMPLE T-TEST OF GENDER AND QCHAT-SCORE\n",
    "print(stats.ttest_ind(male_df['qchat_score'], female_df['qchat_score'], equal_var=False))\n",
    "print('WE FAIL TO REJECT THE NULL HYPOTHESIS SINCE OUR P-VALUE IS LESS THAN 0.05')"
   ]
  },
  {
   "cell_type": "code",
   "execution_count": 79,
   "metadata": {},
   "outputs": [
    {
     "data": {
      "text/plain": [
       "Text(0, 0.5, 'QChat-10 Score (1-10)')"
      ]
     },
     "execution_count": 79,
     "metadata": {},
     "output_type": "execute_result"
    },
    {
     "data": {
      "image/png": "[encoded data removed]",
      "text/plain": [
       "<Figure size 432x288 with 1 Axes>"
      ]
     },
     "metadata": {},
     "output_type": "display_data"
    }
   ],
   "source": [
    "sns.set_style(\"whitegrid\") \n",
    "  \n",
    "ax = sns.boxplot(x = 'Sex', y = 'qchat_score', data = df)\n",
    "ax.set_title('Difference of QChat-10 Scores Between Sex')\n",
    "ax.set_xlabel('Sex')\n",
    "ax.set_ylabel('QChat-10 Score (1-10)')"
   ]
  },
  {
   "cell_type": "markdown",
   "metadata": {},
   "source": [
    "## 'family_asd' vs 'qchat_score'"
   ]
  },
  {
   "cell_type": "markdown",
   "metadata": {},
   "source": [
    "Null Hypothesis: There is not a statistical difference between mean qchat scores of individuals with immediate family that have ASD and those who dont.\n",
    "\n",
    "Alternative Hypothesis: There is a statistical difference between mean qchat scores of individuals with immediate family that have ASD and those who dont."
   ]
  },
  {
   "cell_type": "code",
   "execution_count": 82,
   "metadata": {},
   "outputs": [],
   "source": [
    "# SEPARATE FAMILY WITH ASD INTO TWO DF'S FOR INDEPENDENT T-TEST\n",
    "y_family = df.loc[(df['family_asd'] == 'yes')]\n",
    "n_family = df.loc[(df['family_asd']== 'no')]"
   ]
  },
  {
   "cell_type": "code",
   "execution_count": 83,
   "metadata": {},
   "outputs": [
    {
     "name": "stdout",
     "output_type": "stream",
     "text": [
      "Ttest_indResult(statistic=1.4272440393589116, pvalue=0.1554187508493741)\n",
      "WE FAIL TO REJECT THE NULL HYPOTHESIS BECAUSE OUR P-VALUE IS ABOVE 0.05\n"
     ]
    }
   ],
   "source": [
    "# TWO SAMPLE T-TEST OF FAMILY AND QCHAT-SCORE\n",
    "print(stats.ttest_ind(y_family['qchat_score'], n_family['qchat_score'], equal_var=False))\n",
    "print('WE FAIL TO REJECT THE NULL HYPOTHESIS BECAUSE OUR P-VALUE IS ABOVE 0.05')"
   ]
  },
  {
   "cell_type": "markdown",
   "metadata": {},
   "source": [
    "## 'Jaundice' vs 'qchat_score'"
   ]
  },
  {
   "cell_type": "markdown",
   "metadata": {},
   "source": [
    "Null Hypothesis: The means of qchat scores between individuals who have jaundice and those who do not are the same.\n",
    "\n",
    "Alternative Hypothesis: The means of qchat scores between individuals who have jaundice and those who do not are not the same."
   ]
  },
  {
   "cell_type": "code",
   "execution_count": 84,
   "metadata": {},
   "outputs": [],
   "source": [
    "# SEPARATE JAUNDICE INTO TWO DF'S FOR INDEPENDENT T-TEST\n",
    "y_jaundice = df.loc[(df['Jaundice'] == 'yes')]\n",
    "n_jaundice = df.loc[(df['Jaundice']== 'no')]"
   ]
  },
  {
   "cell_type": "code",
   "execution_count": 85,
   "metadata": {},
   "outputs": [
    {
     "name": "stdout",
     "output_type": "stream",
     "text": [
      "Ttest_indResult(statistic=-1.6824077449272743, pvalue=0.09330055128685265)\n",
      "WE FAIL TO REJECT THE NULL HYPOTHESIS BECAUSE OUR P-VALUE IS ABOVE 0.05\n"
     ]
    }
   ],
   "source": [
    "# TWO SAMPLE T-TEST OF FAMILY AND QCHAT-SCORE\n",
    "print(stats.ttest_ind(y_jaundice['qchat_score'], n_jaundice['qchat_score'], equal_var=False))\n",
    "print('WE FAIL TO REJECT THE NULL HYPOTHESIS BECAUSE OUR P-VALUE IS ABOVE 0.05')"
   ]
  },
  {
   "cell_type": "markdown",
   "metadata": {},
   "source": [
    "# One-Way ANOVA"
   ]
  },
  {
   "cell_type": "markdown",
   "metadata": {},
   "source": [
    "## 'Ethnicity' vs 'qchat_score'"
   ]
  },
  {
   "cell_type": "markdown",
   "metadata": {},
   "source": [
    "Null Hypothesis: There is no statisticially significant difference of mean qchat scores between groups of ethnicity.\n",
    "\n",
    "Alternative Hypothesis: There is a statisticially significant difference of mean qchat scores between groups of ethnicity."
   ]
  },
  {
   "cell_type": "code",
   "execution_count": 86,
   "metadata": {},
   "outputs": [
    {
     "name": "stdout",
     "output_type": "stream",
     "text": [
      "F_onewayResult(statistic=2.7692942391845814, pvalue=0.0023152025613468693)\n",
      "WE REJECT THE NULL HYPOTHESIS SINCE OUR P-VALUE IS HIGHER THAN 0.05\n"
     ]
    }
   ],
   "source": [
    "print(stats.f_oneway(df['qchat_score'][df['Ethnicity'] == 'White European'],\n",
    "                df['qchat_score'][df['Ethnicity'] == 'asian'], \n",
    "                df['qchat_score'][df['Ethnicity'] == 'middle eastern'],\n",
    "               df['qchat_score'][df['Ethnicity'] == 'south asian'],\n",
    "               df['qchat_score'][df['Ethnicity'] == 'black'],\n",
    "               df['qchat_score'][df['Ethnicity'] == 'Hispanic'],\n",
    "               df['qchat_score'][df['Ethnicity'] == 'Others'],\n",
    "               df['qchat_score'][df['Ethnicity'] == 'Latino'],\n",
    "               df['qchat_score'][df['Ethnicity'] == 'mixed'],\n",
    "               df['qchat_score'][df['Ethnicity'] == 'Pacifica'],\n",
    "               df['qchat_score'][df['Ethnicity'] == 'Native Indian']))\n",
    "\n",
    "print('WE REJECT THE NULL HYPOTHESIS SINCE OUR P-VALUE IS HIGHER THAN 0.05')"
   ]
  },
  {
   "cell_type": "code",
   "execution_count": 91,
   "metadata": {},
   "outputs": [
    {
     "data": {
      "text/plain": [
       "Ethnicity\n",
       "Hispanic          6.733333\n",
       "Latino            7.250000\n",
       "Native Indian     7.000000\n",
       "Others            6.689655\n",
       "Pacifica          7.857143\n",
       "White European    7.048000\n",
       "asian             6.264151\n",
       "black             7.282051\n",
       "middle eastern    6.947917\n",
       "mixed             6.800000\n",
       "south asian       6.756757\n",
       "Name: qchat_score, dtype: float64"
      ]
     },
     "execution_count": 91,
     "metadata": {},
     "output_type": "execute_result"
    }
   ],
   "source": [
    "df.groupby('Ethnicity').qchat_score.mean()"
   ]
  },
  {
   "cell_type": "code",
   "execution_count": 90,
   "metadata": {},
   "outputs": [
    {
     "name": "stdout",
     "output_type": "stream",
     "text": [
      "        Multiple Comparison of Means - Tukey HSD, FWER=0.05         \n",
      "====================================================================\n",
      "    group1         group2     meandiff p-adj   lower   upper  reject\n",
      "--------------------------------------------------------------------\n",
      "      Hispanic         Latino   0.5167    0.9 -1.2535  2.2869  False\n",
      "      Hispanic  Native Indian   0.2667    0.9 -3.4465  3.9799  False\n",
      "      Hispanic         Others  -0.0437    0.9 -1.6406  1.5532  False\n",
      "      Hispanic       Pacifica   1.1238    0.9 -1.4502  3.6978  False\n",
      "      Hispanic White European   0.3147    0.9 -0.8702  1.4995  False\n",
      "      Hispanic          asian  -0.4692    0.9 -1.6653   0.727  False\n",
      "      Hispanic          black   0.5487    0.9 -0.9404  2.0379  False\n",
      "      Hispanic middle eastern   0.2146    0.9  -1.068  1.4972  False\n",
      "      Hispanic          mixed   0.0667    0.9 -2.8954  3.0288  False\n",
      "      Hispanic    south asian   0.0234    0.9 -1.4831    1.53  False\n",
      "        Latino  Native Indian    -0.25    0.9 -4.0466  3.5466  False\n",
      "        Latino         Others  -0.5603    0.9 -2.3427   1.222  False\n",
      "        Latino       Pacifica   0.6071    0.9 -2.0858  3.3001  False\n",
      "        Latino White European   -0.202    0.9  -1.627   1.223  False\n",
      "        Latino          asian  -0.9858 0.4925 -2.4203  0.4486  False\n",
      "        Latino          black   0.0321    0.9 -1.6545  1.7186  False\n",
      "        Latino middle eastern  -0.3021    0.9 -1.8093  1.2052  False\n",
      "        Latino          mixed    -0.45    0.9 -3.5161  2.6161  False\n",
      "        Latino    south asian  -0.4932    0.9 -2.1951  1.2087  False\n",
      " Native Indian         Others  -0.3103    0.9 -4.0294  3.4087  False\n",
      " Native Indian       Pacifica   0.8571    0.9 -3.3744  5.0887  False\n",
      " Native Indian White European    0.048    0.9 -3.5136  3.6096  False\n",
      " Native Indian          asian  -0.7358    0.9 -4.3012  2.8295  False\n",
      " Native Indian          black   0.2821    0.9  -3.392  3.9561  False\n",
      " Native Indian middle eastern  -0.0521    0.9 -3.6474  3.5432  False\n",
      " Native Indian          mixed     -0.2    0.9 -4.6783  4.2783  False\n",
      " Native Indian    south asian  -0.2432    0.9 -3.9244  3.4379  False\n",
      "        Others       Pacifica   1.1675    0.9 -1.4149  3.7498  False\n",
      "        Others White European   0.3583    0.9 -0.8446  1.5613  False\n",
      "        Others          asian  -0.4255    0.9 -1.6396  0.7886  False\n",
      "        Others          black   0.5924    0.9 -0.9112   2.096  False\n",
      "        Others middle eastern   0.2583    0.9 -1.0411  1.5576  False\n",
      "        Others          mixed   0.1103    0.9  -2.859  3.0797  False\n",
      "        Others    south asian   0.0671    0.9 -1.4537  1.5879  False\n",
      "      Pacifica White European  -0.8091    0.9 -3.1591  1.5408  False\n",
      "      Pacifica          asian   -1.593 0.5148 -3.9487  0.7627  False\n",
      "      Pacifica          black  -0.5751    0.9 -3.0922  1.9421  False\n",
      "      Pacifica middle eastern  -0.9092    0.9   -3.31  1.4915  False\n",
      "      Pacifica          mixed  -1.0571    0.9 -4.6478  2.5335  False\n",
      "      Pacifica    south asian  -1.1004    0.9 -3.6279  1.4271  False\n",
      "White European          asian  -0.7838  0.001 -1.3564 -0.2113   True\n",
      "White European          black   0.2341    0.9 -0.8217  1.2898  False\n",
      "White European middle eastern  -0.1001    0.9 -0.8364  0.6362  False\n",
      "White European          mixed   -0.248    0.9 -3.0177  2.5217  False\n",
      "White European    south asian  -0.2912    0.9 -1.3714  0.7889  False\n",
      "         asian          black   1.0179 0.0784 -0.0505  2.0863  False\n",
      "         asian middle eastern   0.6838 0.1171 -0.0706  1.4381  False\n",
      "         asian          mixed   0.5358    0.9 -2.2387  3.3104  False\n",
      "         asian    south asian   0.4926    0.9 -0.5999  1.5852  False\n",
      "         black middle eastern  -0.3341    0.9 -1.4986  0.8303  False\n",
      "         black          mixed  -0.4821    0.9 -3.3949  2.4308  False\n",
      "         black    south asian  -0.5253    0.9 -1.9326   0.882  False\n",
      "middle eastern          mixed  -0.1479    0.9 -2.9608   2.665  False\n",
      "middle eastern    south asian  -0.1912    0.9 -1.3778  0.9954  False\n",
      "         mixed    south asian  -0.0432    0.9  -2.965  2.8786  False\n",
      "--------------------------------------------------------------------\n"
     ]
    }
   ],
   "source": [
    "# POST HOC TEST \n",
    "from statsmodels.stats.multicomp import pairwise_tukeyhsd\n",
    "from statsmodels.stats.multicomp import MultiComparison\n",
    "mc = MultiComparison(df['qchat_score'], df['Ethnicity'])\n",
    "mc_results = mc.tukeyhsd()\n",
    "print(mc_results)"
   ]
  },
  {
   "cell_type": "markdown",
   "metadata": {},
   "source": [
    "# CHI Square Test"
   ]
  },
  {
   "cell_type": "code",
   "execution_count": 88,
   "metadata": {},
   "outputs": [
    {
     "data": {
      "text/html": [
       "<div>\n",
       "<style scoped>\n",
       "    .dataframe tbody tr th:only-of-type {\n",
       "        vertical-align: middle;\n",
       "    }\n",
       "\n",
       "    .dataframe tbody tr th {\n",
       "        vertical-align: top;\n",
       "    }\n",
       "\n",
       "    .dataframe thead th {\n",
       "        text-align: right;\n",
       "    }\n",
       "</style>\n",
       "<table border=\"1\" class=\"dataframe\">\n",
       "  <thead>\n",
       "    <tr style=\"text-align: right;\">\n",
       "      <th>Ethnicity</th>\n",
       "      <th>Hispanic</th>\n",
       "      <th>Latino</th>\n",
       "      <th>Native Indian</th>\n",
       "      <th>Others</th>\n",
       "      <th>Pacifica</th>\n",
       "      <th>White European</th>\n",
       "      <th>asian</th>\n",
       "      <th>black</th>\n",
       "      <th>middle eastern</th>\n",
       "      <th>mixed</th>\n",
       "      <th>south asian</th>\n",
       "    </tr>\n",
       "    <tr>\n",
       "      <th>Sex</th>\n",
       "      <th></th>\n",
       "      <th></th>\n",
       "      <th></th>\n",
       "      <th></th>\n",
       "      <th></th>\n",
       "      <th></th>\n",
       "      <th></th>\n",
       "      <th></th>\n",
       "      <th></th>\n",
       "      <th></th>\n",
       "      <th></th>\n",
       "    </tr>\n",
       "  </thead>\n",
       "  <tbody>\n",
       "    <tr>\n",
       "      <td>f</td>\n",
       "      <td>6.0</td>\n",
       "      <td>7.0</td>\n",
       "      <td>0.0</td>\n",
       "      <td>9.0</td>\n",
       "      <td>3.0</td>\n",
       "      <td>65.0</td>\n",
       "      <td>52.0</td>\n",
       "      <td>5.0</td>\n",
       "      <td>32.0</td>\n",
       "      <td>3.0</td>\n",
       "      <td>12.0</td>\n",
       "    </tr>\n",
       "    <tr>\n",
       "      <td>m</td>\n",
       "      <td>24.0</td>\n",
       "      <td>13.0</td>\n",
       "      <td>3.0</td>\n",
       "      <td>20.0</td>\n",
       "      <td>4.0</td>\n",
       "      <td>185.0</td>\n",
       "      <td>160.0</td>\n",
       "      <td>34.0</td>\n",
       "      <td>64.0</td>\n",
       "      <td>2.0</td>\n",
       "      <td>25.0</td>\n",
       "    </tr>\n",
       "  </tbody>\n",
       "</table>\n",
       "</div>"
      ],
      "text/plain": [
       "Ethnicity  Hispanic  Latino  Native Indian  Others  Pacifica  White European  \\\n",
       "Sex                                                                            \n",
       "f               6.0     7.0            0.0     9.0       3.0            65.0   \n",
       "m              24.0    13.0            3.0    20.0       4.0           185.0   \n",
       "\n",
       "Ethnicity  asian  black  middle eastern  mixed  south asian  \n",
       "Sex                                                          \n",
       "f           52.0    5.0            32.0    3.0         12.0  \n",
       "m          160.0   34.0            64.0    2.0         25.0  "
      ]
     },
     "execution_count": 88,
     "metadata": {},
     "output_type": "execute_result"
    }
   ],
   "source": [
    "df_both = df.groupby('Sex').Ethnicity.value_counts()\n",
    "df_new = df_both.unstack()\n",
    "values = {'Native Indian': 0}\n",
    "df_new.fillna(value=values)"
   ]
  },
  {
   "cell_type": "code",
   "execution_count": 89,
   "metadata": {},
   "outputs": [
    {
     "name": "stdout",
     "output_type": "stream",
     "text": [
      "[ 65.  52.  32.  12.   9.   7.   6.   5.   3.   3. 185. 160.  64.  34.\n",
      "  25.  24.  20.  13.   4.   3.   2.]\n",
      "probability=0.950, critical=nan, stat=0.000)\n",
      "Independent (fail to reject H0)\n",
      "signigicance=0.050, p=1.000,\n",
      "Independent (fail to reject)\n"
     ]
    }
   ],
   "source": [
    "stat, p, dof, expected = chi2_contingency(df_both)\n",
    "print(expected)\n",
    "\n",
    "#interpret test-statistic\n",
    "prob = 0.95\n",
    "critical = chi2.ppf(prob, dof)\n",
    "print('probability=%.3f, critical=%.3f, stat=%.3f)' % (prob, critical, stat))\n",
    "if abs(stat) >= critical:\n",
    "    print('Dependent (reject H0)')\n",
    "else:\n",
    "    print('Independent (fail to reject H0)')\n",
    "#interpret p-value\n",
    "alpha= 1-prob\n",
    "print('signigicance=%.3f, p=%.3f,' % (alpha, p))\n",
    "if p <= alpha:\n",
    "    print('Dependent (reject H0)')\n",
    "else: \n",
    "    print('Independent (fail to reject)')"
   ]
  },
  {
   "cell_type": "code",
   "execution_count": null,
   "metadata": {
    "scrolled": true
   },
   "outputs": [],
   "source": []
  },
  {
   "cell_type": "code",
   "execution_count": null,
   "metadata": {},
   "outputs": [],
   "source": []
  }
 ],
 "metadata": {
  "kernelspec": {
   "display_name": "Python 3",
   "language": "python",
   "name": "python3"
  },
  "language_info": {
   "codemirror_mode": {
    "name": "ipython",
    "version": 3
   },
   "file_extension": ".py",
   "mimetype": "text/x-python",
   "name": "python",
   "nbconvert_exporter": "python",
   "pygments_lexer": "ipython3",
   "version": "3.6.9"
  }
 },
 "nbformat": 4,
 "nbformat_minor": 2
}
